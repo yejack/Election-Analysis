{
 "cells": [
  {
   "cell_type": "code",
   "execution_count": 2,
   "metadata": {},
   "outputs": [],
   "source": [
    "import pandas as pd\n",
    "import numpy as np\n",
    "import warnings\n",
    "import matplotlib.pyplot as plt\n",
    "from sklearn.linear_model import LogisticRegression\n",
    "from sklearn.tree import DecisionTreeClassifier\n",
    "from sklearn.ensemble import RandomForestClassifier, GradientBoostingClassifier\n",
    "from sklearn.metrics import accuracy_score, recall_score, precision_score, confusion_matrix\n",
    "from sklearn.metrics import roc_curve, roc_auc_score\n",
    "from sklearn.model_selection import KFold, train_test_split"
   ]
  },
  {
   "cell_type": "markdown",
   "metadata": {},
   "source": [
    "Demographic factors of votes.\n",
    "\n",
    "Questions to address:\n",
    "- The avegare percent of people in races by counties who vote for Trump\n",
    "- The avegare percent of people in races by counties who vote for Hillary"
   ]
  },
  {
   "cell_type": "code",
   "execution_count": 29,
   "metadata": {},
   "outputs": [],
   "source": [
    "votes = pd.read_csv('./2016 results by county.csv')\n",
    "county_fact = pd.read_csv('./2012-and-2016-presidential-elections/county_facts.csv')\n",
    "fact_dict = pd.read_csv('./2012-and-2016-presidential-elections/county_facts_dictionary.csv')\n",
    "\n",
    "#group counties by leads\n",
    "fips_trump = votes.loc[(votes['lead'] == 'Donald Trump')&(votes['fips'] < '40000'), 'fips']\n",
    "fips_hillary = votes.loc[(votes['lead'] == 'Hillary Clinton')&(votes['fips'] < '40000'), 'fips']"
   ]
  },
  {
   "cell_type": "code",
   "execution_count": 30,
   "metadata": {},
   "outputs": [
    {
     "data": {
      "text/plain": [
       "392    36103\n",
       "393    36103\n",
       "394    36103\n",
       "395    36103\n",
       "458    12103\n",
       "459    12103\n",
       "460    12103\n",
       "461    12103\n",
       "462    12103\n",
       "463    12103\n",
       "Name: fips, dtype: object"
      ]
     },
     "execution_count": 30,
     "metadata": {},
     "output_type": "execute_result"
    }
   ],
   "source": [
    "fips_trump.head(10)"
   ]
  },
  {
   "cell_type": "code",
   "execution_count": 31,
   "metadata": {},
   "outputs": [
    {
     "data": {
      "text/plain": [
       "179    17031\n",
       "180    17031\n",
       "181    17031\n",
       "182    17031\n",
       "256    12086\n",
       "257    12086\n",
       "258    12086\n",
       "259    12086\n",
       "260    12086\n",
       "261    12086\n",
       "Name: fips, dtype: object"
      ]
     },
     "execution_count": 31,
     "metadata": {},
     "output_type": "execute_result"
    }
   ],
   "source": [
    "fips_hillary.head(10)"
   ]
  },
  {
   "cell_type": "code",
   "execution_count": 48,
   "metadata": {},
   "outputs": [
    {
     "data": {
      "text/html": [
       "<div>\n",
       "<style scoped>\n",
       "    .dataframe tbody tr th:only-of-type {\n",
       "        vertical-align: middle;\n",
       "    }\n",
       "\n",
       "    .dataframe tbody tr th {\n",
       "        vertical-align: top;\n",
       "    }\n",
       "\n",
       "    .dataframe thead th {\n",
       "        text-align: right;\n",
       "    }\n",
       "</style>\n",
       "<table border=\"1\" class=\"dataframe\">\n",
       "  <thead>\n",
       "    <tr style=\"text-align: right;\">\n",
       "      <th></th>\n",
       "      <th>fips</th>\n",
       "      <th>White alone, percent, 2014</th>\n",
       "      <th>Black or African American alone, percent, 2014</th>\n",
       "      <th>American Indian and Alaska Native alone, percent, 2014</th>\n",
       "      <th>Asian alone, percent, 2014</th>\n",
       "      <th>Native Hawaiian and Other Pacific Islander alone, percent, 2014</th>\n",
       "      <th>Two or More Races, percent, 2014</th>\n",
       "      <th>Hispanic or Latino, percent, 2014</th>\n",
       "      <th>White alone, not Hispanic or Latino, percent, 2014</th>\n",
       "    </tr>\n",
       "  </thead>\n",
       "  <tbody>\n",
       "    <tr>\n",
       "      <th>0</th>\n",
       "      <td>0</td>\n",
       "      <td>77.4</td>\n",
       "      <td>13.2</td>\n",
       "      <td>1.2</td>\n",
       "      <td>5.4</td>\n",
       "      <td>0.2</td>\n",
       "      <td>2.5</td>\n",
       "      <td>17.4</td>\n",
       "      <td>62.1</td>\n",
       "    </tr>\n",
       "    <tr>\n",
       "      <th>1</th>\n",
       "      <td>1000</td>\n",
       "      <td>69.7</td>\n",
       "      <td>26.7</td>\n",
       "      <td>0.7</td>\n",
       "      <td>1.3</td>\n",
       "      <td>0.1</td>\n",
       "      <td>1.5</td>\n",
       "      <td>4.1</td>\n",
       "      <td>66.2</td>\n",
       "    </tr>\n",
       "    <tr>\n",
       "      <th>2</th>\n",
       "      <td>1001</td>\n",
       "      <td>77.9</td>\n",
       "      <td>18.7</td>\n",
       "      <td>0.5</td>\n",
       "      <td>1.1</td>\n",
       "      <td>0.1</td>\n",
       "      <td>1.8</td>\n",
       "      <td>2.7</td>\n",
       "      <td>75.6</td>\n",
       "    </tr>\n",
       "    <tr>\n",
       "      <th>3</th>\n",
       "      <td>1003</td>\n",
       "      <td>87.1</td>\n",
       "      <td>9.6</td>\n",
       "      <td>0.7</td>\n",
       "      <td>0.9</td>\n",
       "      <td>0.1</td>\n",
       "      <td>1.6</td>\n",
       "      <td>4.6</td>\n",
       "      <td>83.0</td>\n",
       "    </tr>\n",
       "    <tr>\n",
       "      <th>4</th>\n",
       "      <td>1005</td>\n",
       "      <td>50.2</td>\n",
       "      <td>47.6</td>\n",
       "      <td>0.6</td>\n",
       "      <td>0.5</td>\n",
       "      <td>0.2</td>\n",
       "      <td>0.9</td>\n",
       "      <td>4.5</td>\n",
       "      <td>46.6</td>\n",
       "    </tr>\n",
       "  </tbody>\n",
       "</table>\n",
       "</div>"
      ],
      "text/plain": [
       "   fips  White alone, percent, 2014  \\\n",
       "0     0                        77.4   \n",
       "1  1000                        69.7   \n",
       "2  1001                        77.9   \n",
       "3  1003                        87.1   \n",
       "4  1005                        50.2   \n",
       "\n",
       "   Black or African American alone, percent, 2014  \\\n",
       "0                                            13.2   \n",
       "1                                            26.7   \n",
       "2                                            18.7   \n",
       "3                                             9.6   \n",
       "4                                            47.6   \n",
       "\n",
       "   American Indian and Alaska Native alone, percent, 2014  \\\n",
       "0                                                1.2        \n",
       "1                                                0.7        \n",
       "2                                                0.5        \n",
       "3                                                0.7        \n",
       "4                                                0.6        \n",
       "\n",
       "   Asian alone, percent, 2014  \\\n",
       "0                         5.4   \n",
       "1                         1.3   \n",
       "2                         1.1   \n",
       "3                         0.9   \n",
       "4                         0.5   \n",
       "\n",
       "   Native Hawaiian and Other Pacific Islander alone, percent, 2014  \\\n",
       "0                                                0.2                 \n",
       "1                                                0.1                 \n",
       "2                                                0.1                 \n",
       "3                                                0.1                 \n",
       "4                                                0.2                 \n",
       "\n",
       "   Two or More Races, percent, 2014  Hispanic or Latino, percent, 2014  \\\n",
       "0                               2.5                               17.4   \n",
       "1                               1.5                                4.1   \n",
       "2                               1.8                                2.7   \n",
       "3                               1.6                                4.6   \n",
       "4                               0.9                                4.5   \n",
       "\n",
       "   White alone, not Hispanic or Latino, percent, 2014  \n",
       "0                                               62.1   \n",
       "1                                               66.2   \n",
       "2                                               75.6   \n",
       "3                                               83.0   \n",
       "4                                               46.6   "
      ]
     },
     "execution_count": 48,
     "metadata": {},
     "output_type": "execute_result"
    }
   ],
   "source": [
    "ccf = county_fact[['fips', 'RHI125214', 'RHI225214', 'RHI325214', 'RHI425214', 'RHI525214', 'RHI625214', 'RHI725214', 'RHI825214']]\n",
    "d = fact_dict.set_index('column_name').to_dict()\n",
    "d['description']['fips'] = 'fips'\n",
    "ccf.columns = ccf.columns.to_series().map(d['description'])\n",
    "ccf.head(5)"
   ]
  },
  {
   "cell_type": "code",
   "execution_count": 122,
   "metadata": {},
   "outputs": [],
   "source": [
    "ccf_trump = ccf[ccf['fips'].isin(fips_trump)]\n",
    "ccf_hillary = ccf[ccf['fips'].isin(fips_hillary)]"
   ]
  },
  {
   "cell_type": "code",
   "execution_count": 124,
   "metadata": {},
   "outputs": [
    {
     "data": {
      "text/plain": [
       "White alone, percent, 2014                                         88.739766\n",
       "White alone, not Hispanic or Latino, percent, 2014                 84.031998\n",
       "Black or African American alone, percent, 2014                      7.457953\n",
       "Hispanic or Latino, percent, 2014                                   5.393588\n",
       "Two or More Races, percent, 2014                                    1.586067\n",
       "American Indian and Alaska Native alone, percent, 2014              1.267448\n",
       "Asian alone, percent, 2014                                          0.866893\n",
       "Native Hawaiian and Other Pacific Islander alone, percent, 2014     0.072010\n",
       "dtype: float64"
      ]
     },
     "execution_count": 124,
     "metadata": {},
     "output_type": "execute_result"
    }
   ],
   "source": [
    "ccf_trump_perc = ccf_trump.mean().drop('fips')\n",
    "ccf_trump_perc = ccf_trump_perc.sort_values(ascending=False)\n",
    "ccf_trump_perc"
   ]
  },
  {
   "cell_type": "code",
   "execution_count": 125,
   "metadata": {},
   "outputs": [
    {
     "data": {
      "text/plain": [
       "White alone, percent, 2014                                         62.425385\n",
       "White alone, not Hispanic or Latino, percent, 2014                 53.561154\n",
       "Black or African American alone, percent, 2014                     28.821923\n",
       "Hispanic or Latino, percent, 2014                                  10.630385\n",
       "Asian alone, percent, 2014                                          3.628077\n",
       "American Indian and Alaska Native alone, percent, 2014              2.555385\n",
       "Two or More Races, percent, 2014                                    2.310769\n",
       "Native Hawaiian and Other Pacific Islander alone, percent, 2014     0.256154\n",
       "dtype: float64"
      ]
     },
     "execution_count": 125,
     "metadata": {},
     "output_type": "execute_result"
    }
   ],
   "source": [
    "ccf_hillary_perc = ccf_hillary.mean().drop('fips')\n",
    "ccf_hillary_perc = ccf_hillary_perc.sort_values(ascending=False)\n",
    "ccf_hillary_perc"
   ]
  },
  {
   "cell_type": "code",
   "execution_count": 128,
   "metadata": {},
   "outputs": [
    {
     "name": "stderr",
     "output_type": "stream",
     "text": [
      "No handles with labels found to put in legend.\n"
     ]
    },
    {
     "data": {
      "text/plain": [
       "<matplotlib.legend.Legend at 0x1204c6438>"
      ]
     },
     "execution_count": 128,
     "metadata": {},
     "output_type": "execute_result"
    },
    {
     "data": {
      "image/png": "[encoded data removed]",
      "text/plain": [
       "<Figure size 720x720 with 1 Axes>"
      ]
     },
     "metadata": {},
     "output_type": "display_data"
    }
   ],
   "source": [
    "f, ax = plt.subplots()\n",
    "plot_trump = ccf_trump_perc.plot.pie(autopct='%.2f', textprops=dict(color='w'), fontsize=14, figsize=(10,10), ax = ax, labels=None, title=\"Percentage by race, Voted for Trump\")\n",
    "ax.legend(loc = 'best')"
   ]
  },
  {
   "cell_type": "code",
   "execution_count": 127,
   "metadata": {},
   "outputs": [
    {
     "name": "stderr",
     "output_type": "stream",
     "text": [
      "No handles with labels found to put in legend.\n"
     ]
    },
    {
     "data": {
      "text/plain": [
       "<matplotlib.legend.Legend at 0x120313b00>"
      ]
     },
     "execution_count": 127,
     "metadata": {},
     "output_type": "execute_result"
    },
    {
     "data": {
      "image/png": "[encoded data removed]",
      "text/plain": [
       "<Figure size 720x720 with 1 Axes>"
      ]
     },
     "metadata": {},
     "output_type": "display_data"
    }
   ],
   "source": [
    "f, ax = plt.subplots()\n",
    "plot_hillary = ccf_hillary_perc.plot.pie(autopct='%.2f', textprops=dict(color='w'), fontsize=14, figsize=(10,10), ax = ax, labels=None, title=\"Percentage by race, Voted for Hillary\")\n",
    "ax.legend(loc = 'best')"
   ]
  },
  {
   "cell_type": "code",
   "execution_count": null,
   "metadata": {},
   "outputs": [],
   "source": []
  },
  {
   "cell_type": "code",
   "execution_count": null,
   "metadata": {},
   "outputs": [],
   "source": []
  }
 ],
 "metadata": {
  "kernelspec": {
   "display_name": "Python 3",
   "language": "python",
   "name": "python3"
  },
  "language_info": {
   "codemirror_mode": {
    "name": "ipython",
    "version": 3
   },
   "file_extension": ".py",
   "mimetype": "text/x-python",
   "name": "python",
   "nbconvert_exporter": "python",
   "pygments_lexer": "ipython3",
   "version": "3.7.1"
  }
 },
 "nbformat": 4,
 "nbformat_minor": 2
}

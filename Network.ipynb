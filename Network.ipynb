{
 "cells": [
  {
   "cell_type": "code",
   "execution_count": 7,
   "metadata": {},
   "outputs": [],
   "source": [
    "import numpy as np\n",
    "import pandas as pd \n",
    "from datetime import datetime\n",
    "import matplotlib.pyplot as plt"
   ]
  },
  {
   "cell_type": "code",
   "execution_count": 13,
   "metadata": {},
   "outputs": [
    {
     "data": {
      "text/plain": [
       "'C:\\\\Users\\\\YeShuchuan'"
      ]
     },
     "execution_count": 13,
     "metadata": {},
     "output_type": "execute_result"
    }
   ],
   "source": [
    "pwd"
   ]
  },
  {
   "cell_type": "code",
   "execution_count": 16,
   "metadata": {},
   "outputs": [
    {
     "name": "stdout",
     "output_type": "stream",
     "text": [
      "C:\\Users\\YeShuchuan\\Desktop\\itds2018\\New folder\\2016\n"
     ]
    }
   ],
   "source": [
    "cd C:\\Users\\YeShuchuan\\Desktop\\itds2018\\New folder\\2016"
   ]
  },
  {
   "cell_type": "code",
   "execution_count": 18,
   "metadata": {},
   "outputs": [
    {
     "name": "stderr",
     "output_type": "stream",
     "text": [
      "c:\\users\\yeshuchuan\\appdata\\local\\programs\\python\\python36-32\\lib\\site-packages\\IPython\\core\\interactiveshell.py:2785: DtypeWarning: Columns (198) have mixed types. Specify dtype option on import or set low_memory=False.\n",
      "  interactivity=interactivity, compiler=compiler, result=result)\n",
      "c:\\users\\yeshuchuan\\appdata\\local\\programs\\python\\python36-32\\lib\\site-packages\\IPython\\core\\interactiveshell.py:2785: DtypeWarning: Columns (180) have mixed types. Specify dtype option on import or set low_memory=False.\n",
      "  interactivity=interactivity, compiler=compiler, result=result)\n"
     ]
    }
   ],
   "source": [
    "Donald = pd.read_csv(\"Donald.csv\", encoding='ISO-8859-1')\n",
    "Trump = pd.read_csv(\"Trump.csv\", encoding='ISO-8859-1')\n",
    "Clinton = pd.read_csv(\"Clinton.csv\", encoding='ISO-8859-1')\n",
    "Hillary = pd.read_csv(\"Hillary.csv\", encoding='ISO-8859-1')"
   ]
  },
  {
   "cell_type": "code",
   "execution_count": 19,
   "metadata": {},
   "outputs": [
    {
     "data": {
      "text/html": [
       "<div>\n",
       "<style scoped>\n",
       "    .dataframe tbody tr th:only-of-type {\n",
       "        vertical-align: middle;\n",
       "    }\n",
       "\n",
       "    .dataframe tbody tr th {\n",
       "        vertical-align: top;\n",
       "    }\n",
       "\n",
       "    .dataframe thead th {\n",
       "        text-align: right;\n",
       "    }\n",
       "</style>\n",
       "<table border=\"1\" class=\"dataframe\">\n",
       "  <thead>\n",
       "    <tr style=\"text-align: right;\">\n",
       "      <th></th>\n",
       "      <th>timestamp</th>\n",
       "      <th>id</th>\n",
       "      <th>link</th>\n",
       "      <th>caption</th>\n",
       "      <th>author</th>\n",
       "      <th>network</th>\n",
       "      <th>likes</th>\n",
       "      <th>Unnamed: 7</th>\n",
       "      <th>Unnamed: 8</th>\n",
       "      <th>Unnamed: 9</th>\n",
       "      <th>...</th>\n",
       "      <th>Unnamed: 190</th>\n",
       "      <th>Unnamed: 191</th>\n",
       "      <th>Unnamed: 192</th>\n",
       "      <th>Unnamed: 193</th>\n",
       "      <th>Unnamed: 194</th>\n",
       "      <th>Unnamed: 195</th>\n",
       "      <th>Unnamed: 196</th>\n",
       "      <th>Unnamed: 197</th>\n",
       "      <th>Unnamed: 198</th>\n",
       "      <th>Unnamed: 199</th>\n",
       "    </tr>\n",
       "  </thead>\n",
       "  <tbody>\n",
       "    <tr>\n",
       "      <th>0</th>\n",
       "      <td>7/25/16 20:36</td>\n",
       "      <td>1617878</td>\n",
       "      <td>http://imgur.com/a/8QHBb</td>\n",
       "      <td>cp 666\\n Donald Trump\\n HP 666/666\\n 18.8 m\\n ...</td>\n",
       "      <td>politicalhumor</td>\n",
       "      <td>imgur</td>\n",
       "      <td>-19</td>\n",
       "      <td>NaN</td>\n",
       "      <td>NaN</td>\n",
       "      <td>NaN</td>\n",
       "      <td>...</td>\n",
       "      <td>NaN</td>\n",
       "      <td>NaN</td>\n",
       "      <td>NaN</td>\n",
       "      <td>NaN</td>\n",
       "      <td>NaN</td>\n",
       "      <td>NaN</td>\n",
       "      <td>NaN</td>\n",
       "      <td>NaN</td>\n",
       "      <td>NaN</td>\n",
       "      <td>NaN</td>\n",
       "    </tr>\n",
       "    <tr>\n",
       "      <th>1</th>\n",
       "      <td>1/3/16 17:07</td>\n",
       "      <td>882383</td>\n",
       "      <td>http://imgur.com/PNH3li7</td>\n",
       "      <td>TAKE ME TO YOUR LEADER\\n JESUS NOT DONALD TRUM...</td>\n",
       "      <td>dankchristianmemes</td>\n",
       "      <td>imgur</td>\n",
       "      <td>-15</td>\n",
       "      <td>NaN</td>\n",
       "      <td>NaN</td>\n",
       "      <td>NaN</td>\n",
       "      <td>...</td>\n",
       "      <td>NaN</td>\n",
       "      <td>NaN</td>\n",
       "      <td>NaN</td>\n",
       "      <td>NaN</td>\n",
       "      <td>NaN</td>\n",
       "      <td>NaN</td>\n",
       "      <td>NaN</td>\n",
       "      <td>NaN</td>\n",
       "      <td>NaN</td>\n",
       "      <td>NaN</td>\n",
       "    </tr>\n",
       "    <tr>\n",
       "      <th>2</th>\n",
       "      <td>9/27/16 20:50</td>\n",
       "      <td>2574116</td>\n",
       "      <td>http://imgur.com/a/3zSGZ</td>\n",
       "      <td>ONLY THE\\n POOR\\n AND ONLY THE\\n STUPID\\n PAY\\...</td>\n",
       "      <td>politicalhumor</td>\n",
       "      <td>imgur</td>\n",
       "      <td>-13</td>\n",
       "      <td>NaN</td>\n",
       "      <td>NaN</td>\n",
       "      <td>NaN</td>\n",
       "      <td>...</td>\n",
       "      <td>NaN</td>\n",
       "      <td>NaN</td>\n",
       "      <td>NaN</td>\n",
       "      <td>NaN</td>\n",
       "      <td>NaN</td>\n",
       "      <td>NaN</td>\n",
       "      <td>NaN</td>\n",
       "      <td>NaN</td>\n",
       "      <td>NaN</td>\n",
       "      <td>NaN</td>\n",
       "    </tr>\n",
       "    <tr>\n",
       "      <th>3</th>\n",
       "      <td>1/31/16 17:17</td>\n",
       "      <td>800269</td>\n",
       "      <td>http://imgur.com/uieds24</td>\n",
       "      <td>WHEN GOD SAID LET THERE BE\\n LIGHT\\n HE HAD TO...</td>\n",
       "      <td>dankchristianmemes</td>\n",
       "      <td>imgur</td>\n",
       "      <td>-13</td>\n",
       "      <td>NaN</td>\n",
       "      <td>NaN</td>\n",
       "      <td>NaN</td>\n",
       "      <td>...</td>\n",
       "      <td>NaN</td>\n",
       "      <td>NaN</td>\n",
       "      <td>NaN</td>\n",
       "      <td>NaN</td>\n",
       "      <td>NaN</td>\n",
       "      <td>NaN</td>\n",
       "      <td>NaN</td>\n",
       "      <td>NaN</td>\n",
       "      <td>NaN</td>\n",
       "      <td>NaN</td>\n",
       "    </tr>\n",
       "    <tr>\n",
       "      <th>4</th>\n",
       "      <td>5/5/16 23:08</td>\n",
       "      <td>355062</td>\n",
       "      <td>http://imgur.com/BgtxDoF</td>\n",
       "      <td>4:33 PM\\n 91%\\n Search in\\n #Never Trump\\n Dan...</td>\n",
       "      <td>NaN</td>\n",
       "      <td>imgur</td>\n",
       "      <td>-12</td>\n",
       "      <td>NaN</td>\n",
       "      <td>NaN</td>\n",
       "      <td>NaN</td>\n",
       "      <td>...</td>\n",
       "      <td>NaN</td>\n",
       "      <td>NaN</td>\n",
       "      <td>NaN</td>\n",
       "      <td>NaN</td>\n",
       "      <td>NaN</td>\n",
       "      <td>NaN</td>\n",
       "      <td>NaN</td>\n",
       "      <td>NaN</td>\n",
       "      <td>NaN</td>\n",
       "      <td>NaN</td>\n",
       "    </tr>\n",
       "  </tbody>\n",
       "</table>\n",
       "<p>5 rows × 200 columns</p>\n",
       "</div>"
      ],
      "text/plain": [
       "       timestamp       id                      link  \\\n",
       "0  7/25/16 20:36  1617878  http://imgur.com/a/8QHBb   \n",
       "1   1/3/16 17:07   882383  http://imgur.com/PNH3li7   \n",
       "2  9/27/16 20:50  2574116  http://imgur.com/a/3zSGZ   \n",
       "3  1/31/16 17:17   800269  http://imgur.com/uieds24   \n",
       "4   5/5/16 23:08   355062  http://imgur.com/BgtxDoF   \n",
       "\n",
       "                                             caption              author  \\\n",
       "0  cp 666\\n Donald Trump\\n HP 666/666\\n 18.8 m\\n ...      politicalhumor   \n",
       "1  TAKE ME TO YOUR LEADER\\n JESUS NOT DONALD TRUM...  dankchristianmemes   \n",
       "2  ONLY THE\\n POOR\\n AND ONLY THE\\n STUPID\\n PAY\\...      politicalhumor   \n",
       "3  WHEN GOD SAID LET THERE BE\\n LIGHT\\n HE HAD TO...  dankchristianmemes   \n",
       "4  4:33 PM\\n 91%\\n Search in\\n #Never Trump\\n Dan...                 NaN   \n",
       "\n",
       "  network  likes  Unnamed: 7  Unnamed: 8  Unnamed: 9      ...       \\\n",
       "0   imgur    -19         NaN         NaN         NaN      ...        \n",
       "1   imgur    -15         NaN         NaN         NaN      ...        \n",
       "2   imgur    -13         NaN         NaN         NaN      ...        \n",
       "3   imgur    -13         NaN         NaN         NaN      ...        \n",
       "4   imgur    -12         NaN         NaN         NaN      ...        \n",
       "\n",
       "   Unnamed: 190  Unnamed: 191  Unnamed: 192  Unnamed: 193  Unnamed: 194  \\\n",
       "0           NaN           NaN           NaN           NaN           NaN   \n",
       "1           NaN           NaN           NaN           NaN           NaN   \n",
       "2           NaN           NaN           NaN           NaN           NaN   \n",
       "3           NaN           NaN           NaN           NaN           NaN   \n",
       "4           NaN           NaN           NaN           NaN           NaN   \n",
       "\n",
       "   Unnamed: 195  Unnamed: 196  Unnamed: 197  Unnamed: 198  Unnamed: 199  \n",
       "0           NaN           NaN           NaN           NaN           NaN  \n",
       "1           NaN           NaN           NaN           NaN           NaN  \n",
       "2           NaN           NaN           NaN           NaN           NaN  \n",
       "3           NaN           NaN           NaN           NaN           NaN  \n",
       "4           NaN           NaN           NaN           NaN           NaN  \n",
       "\n",
       "[5 rows x 200 columns]"
      ]
     },
     "execution_count": 19,
     "metadata": {},
     "output_type": "execute_result"
    }
   ],
   "source": [
    "Donald_Trump= [Donald, Trump]\n",
    "Donald_Trump_total = pd.concat(Donald_Trump)\n",
    "Donald_Trump_total.head()"
   ]
  },
  {
   "cell_type": "code",
   "execution_count": 20,
   "metadata": {},
   "outputs": [
    {
     "data": {
      "text/html": [
       "<div>\n",
       "<style scoped>\n",
       "    .dataframe tbody tr th:only-of-type {\n",
       "        vertical-align: middle;\n",
       "    }\n",
       "\n",
       "    .dataframe tbody tr th {\n",
       "        vertical-align: top;\n",
       "    }\n",
       "\n",
       "    .dataframe thead th {\n",
       "        text-align: right;\n",
       "    }\n",
       "</style>\n",
       "<table border=\"1\" class=\"dataframe\">\n",
       "  <thead>\n",
       "    <tr style=\"text-align: right;\">\n",
       "      <th></th>\n",
       "      <th>Unnamed: 10</th>\n",
       "      <th>Unnamed: 100</th>\n",
       "      <th>Unnamed: 101</th>\n",
       "      <th>Unnamed: 102</th>\n",
       "      <th>Unnamed: 103</th>\n",
       "      <th>Unnamed: 104</th>\n",
       "      <th>Unnamed: 105</th>\n",
       "      <th>Unnamed: 106</th>\n",
       "      <th>Unnamed: 107</th>\n",
       "      <th>Unnamed: 108</th>\n",
       "      <th>...</th>\n",
       "      <th>Unnamed: 97</th>\n",
       "      <th>Unnamed: 98</th>\n",
       "      <th>Unnamed: 99</th>\n",
       "      <th>author</th>\n",
       "      <th>caption</th>\n",
       "      <th>id</th>\n",
       "      <th>likes</th>\n",
       "      <th>link</th>\n",
       "      <th>network</th>\n",
       "      <th>timestamp</th>\n",
       "    </tr>\n",
       "  </thead>\n",
       "  <tbody>\n",
       "    <tr>\n",
       "      <th>0</th>\n",
       "      <td>NaN</td>\n",
       "      <td>NaN</td>\n",
       "      <td>NaN</td>\n",
       "      <td>NaN</td>\n",
       "      <td>NaN</td>\n",
       "      <td>NaN</td>\n",
       "      <td>NaN</td>\n",
       "      <td>NaN</td>\n",
       "      <td>NaN</td>\n",
       "      <td>NaN</td>\n",
       "      <td>...</td>\n",
       "      <td>NaN</td>\n",
       "      <td>NaN</td>\n",
       "      <td>NaN</td>\n",
       "      <td>forwardsfromgrandma</td>\n",
       "      <td>Son killed by\\n country, in a\\n in a\\n war sta...</td>\n",
       "      <td>1742494</td>\n",
       "      <td>-20</td>\n",
       "      <td>http://imgur.com/a/lNHED</td>\n",
       "      <td>imgur</td>\n",
       "      <td>8/1/16 20:56</td>\n",
       "    </tr>\n",
       "    <tr>\n",
       "      <th>1</th>\n",
       "      <td>NaN</td>\n",
       "      <td>NaN</td>\n",
       "      <td>NaN</td>\n",
       "      <td>NaN</td>\n",
       "      <td>NaN</td>\n",
       "      <td>NaN</td>\n",
       "      <td>NaN</td>\n",
       "      <td>NaN</td>\n",
       "      <td>NaN</td>\n",
       "      <td>NaN</td>\n",
       "      <td>...</td>\n",
       "      <td>NaN</td>\n",
       "      <td>NaN</td>\n",
       "      <td>NaN</td>\n",
       "      <td>TumblrInAction</td>\n",
       "      <td>1h\\n Why end racism when we can just\\n end the...</td>\n",
       "      <td>1633557</td>\n",
       "      <td>-16</td>\n",
       "      <td>http://imgur.com/a/FRGrq</td>\n",
       "      <td>imgur</td>\n",
       "      <td>7/27/16 0:54</td>\n",
       "    </tr>\n",
       "    <tr>\n",
       "      <th>2</th>\n",
       "      <td>NaN</td>\n",
       "      <td>NaN</td>\n",
       "      <td>NaN</td>\n",
       "      <td>NaN</td>\n",
       "      <td>NaN</td>\n",
       "      <td>NaN</td>\n",
       "      <td>NaN</td>\n",
       "      <td>NaN</td>\n",
       "      <td>NaN</td>\n",
       "      <td>NaN</td>\n",
       "      <td>...</td>\n",
       "      <td>NaN</td>\n",
       "      <td>NaN</td>\n",
       "      <td>NaN</td>\n",
       "      <td>forwardsfromgrandma</td>\n",
       "      <td>HILLARY CLINTON SAYS YOU CAN\\n KILL A BABY THE...</td>\n",
       "      <td>3017540</td>\n",
       "      <td>-14</td>\n",
       "      <td>http://imgur.com/a/giimL</td>\n",
       "      <td>imgur</td>\n",
       "      <td>10/20/16 7:34</td>\n",
       "    </tr>\n",
       "    <tr>\n",
       "      <th>3</th>\n",
       "      <td>NaN</td>\n",
       "      <td>NaN</td>\n",
       "      <td>NaN</td>\n",
       "      <td>NaN</td>\n",
       "      <td>NaN</td>\n",
       "      <td>NaN</td>\n",
       "      <td>NaN</td>\n",
       "      <td>NaN</td>\n",
       "      <td>NaN</td>\n",
       "      <td>NaN</td>\n",
       "      <td>...</td>\n",
       "      <td>NaN</td>\n",
       "      <td>NaN</td>\n",
       "      <td>NaN</td>\n",
       "      <td>4chan</td>\n",
       "      <td>I Liked\\n p Message Save\\n More\\n A Write a co...</td>\n",
       "      <td>3061639</td>\n",
       "      <td>-13</td>\n",
       "      <td>http://imgur.com/a/tPNT6</td>\n",
       "      <td>imgur</td>\n",
       "      <td>10/22/16 5:10</td>\n",
       "    </tr>\n",
       "    <tr>\n",
       "      <th>4</th>\n",
       "      <td>NaN</td>\n",
       "      <td>NaN</td>\n",
       "      <td>NaN</td>\n",
       "      <td>NaN</td>\n",
       "      <td>NaN</td>\n",
       "      <td>NaN</td>\n",
       "      <td>NaN</td>\n",
       "      <td>NaN</td>\n",
       "      <td>NaN</td>\n",
       "      <td>NaN</td>\n",
       "      <td>...</td>\n",
       "      <td>NaN</td>\n",
       "      <td>NaN</td>\n",
       "      <td>NaN</td>\n",
       "      <td>politicalhumor</td>\n",
       "      <td>This is such a hypocritical thing to be on hil...</td>\n",
       "      <td>3160267</td>\n",
       "      <td>-10</td>\n",
       "      <td>http://imgur.com/a/e6gme</td>\n",
       "      <td>imgur</td>\n",
       "      <td>10/26/16 2:30</td>\n",
       "    </tr>\n",
       "  </tbody>\n",
       "</table>\n",
       "<p>5 rows × 182 columns</p>\n",
       "</div>"
      ],
      "text/plain": [
       "   Unnamed: 10  Unnamed: 100  Unnamed: 101  Unnamed: 102  Unnamed: 103  \\\n",
       "0          NaN           NaN           NaN           NaN           NaN   \n",
       "1          NaN           NaN           NaN           NaN           NaN   \n",
       "2          NaN           NaN           NaN           NaN           NaN   \n",
       "3          NaN           NaN           NaN           NaN           NaN   \n",
       "4          NaN           NaN           NaN           NaN           NaN   \n",
       "\n",
       "   Unnamed: 104  Unnamed: 105  Unnamed: 106  Unnamed: 107  Unnamed: 108  \\\n",
       "0           NaN           NaN           NaN           NaN           NaN   \n",
       "1           NaN           NaN           NaN           NaN           NaN   \n",
       "2           NaN           NaN           NaN           NaN           NaN   \n",
       "3           NaN           NaN           NaN           NaN           NaN   \n",
       "4           NaN           NaN           NaN           NaN           NaN   \n",
       "\n",
       "       ...        Unnamed: 97  Unnamed: 98  Unnamed: 99               author  \\\n",
       "0      ...                NaN          NaN          NaN  forwardsfromgrandma   \n",
       "1      ...                NaN          NaN          NaN       TumblrInAction   \n",
       "2      ...                NaN          NaN          NaN  forwardsfromgrandma   \n",
       "3      ...                NaN          NaN          NaN                4chan   \n",
       "4      ...                NaN          NaN          NaN       politicalhumor   \n",
       "\n",
       "                                             caption       id  likes  \\\n",
       "0  Son killed by\\n country, in a\\n in a\\n war sta...  1742494    -20   \n",
       "1  1h\\n Why end racism when we can just\\n end the...  1633557    -16   \n",
       "2  HILLARY CLINTON SAYS YOU CAN\\n KILL A BABY THE...  3017540    -14   \n",
       "3  I Liked\\n p Message Save\\n More\\n A Write a co...  3061639    -13   \n",
       "4  This is such a hypocritical thing to be on hil...  3160267    -10   \n",
       "\n",
       "                       link  network      timestamp  \n",
       "0  http://imgur.com/a/lNHED    imgur   8/1/16 20:56  \n",
       "1  http://imgur.com/a/FRGrq    imgur   7/27/16 0:54  \n",
       "2  http://imgur.com/a/giimL    imgur  10/20/16 7:34  \n",
       "3  http://imgur.com/a/tPNT6    imgur  10/22/16 5:10  \n",
       "4  http://imgur.com/a/e6gme    imgur  10/26/16 2:30  \n",
       "\n",
       "[5 rows x 182 columns]"
      ]
     },
     "execution_count": 20,
     "metadata": {},
     "output_type": "execute_result"
    }
   ],
   "source": [
    "Clinton_Hillary= [Clinton, Hillary]\n",
    "Clinton_Hillary_total = pd.concat(Clinton_Hillary)\n",
    "Clinton_Hillary_total.head()"
   ]
  },
  {
   "cell_type": "code",
   "execution_count": 24,
   "metadata": {},
   "outputs": [
    {
     "data": {
      "text/plain": [
       "37903307"
      ]
     },
     "execution_count": 24,
     "metadata": {},
     "output_type": "execute_result"
    }
   ],
   "source": [
    "Donald_Trump_network = sum(Donald_Trump_total.likes)\n",
    "sum(Donald_Trump_total.likes)"
   ]
  },
  {
   "cell_type": "code",
   "execution_count": 27,
   "metadata": {},
   "outputs": [
    {
     "data": {
      "text/plain": [
       "13992404"
      ]
     },
     "execution_count": 27,
     "metadata": {},
     "output_type": "execute_result"
    }
   ],
   "source": [
    "Clinton_Hillary_network = sum(Clinton_Hillary_total.likes)\n",
    "sum(Clinton_Hillary_total.likes)"
   ]
  },
  {
   "cell_type": "code",
   "execution_count": 29,
   "metadata": {},
   "outputs": [],
   "source": [
    "Donald_Trump_network = Donald_Trump_total.groupby('network').sum()['likes']\n",
    "Clinton_Hillary_network = Clinton_Hillary_total.groupby('network').sum()['likes']"
   ]
  },
  {
   "cell_type": "code",
   "execution_count": 33,
   "metadata": {},
   "outputs": [
    {
     "data": {
      "text/plain": [
       "<matplotlib.axes._subplots.AxesSubplot at 0x118382b0>"
      ]
     },
     "execution_count": 33,
     "metadata": {},
     "output_type": "execute_result"
    },
    {
     "data": {
      "image/png": "[encoded data removed]",
      "text/plain": [
       "<Figure size 432x288 with 1 Axes>"
      ]
     },
     "metadata": {},
     "output_type": "display_data"
    }
   ],
   "source": [
    "Donald_Trump_network.plot.bar()"
   ]
  },
  {
   "cell_type": "code",
   "execution_count": 34,
   "metadata": {},
   "outputs": [
    {
     "data": {
      "text/plain": [
       "<matplotlib.axes._subplots.AxesSubplot at 0x111d0510>"
      ]
     },
     "execution_count": 34,
     "metadata": {},
     "output_type": "execute_result"
    },
    {
     "data": {
      "image/png": "[encoded data removed]",
      "text/plain": [
       "<Figure size 432x288 with 1 Axes>"
      ]
     },
     "metadata": {},
     "output_type": "display_data"
    }
   ],
   "source": [
    "Clinton_Hillary_network.plot.bar()"
   ]
  },
  {
   "cell_type": "code",
   "execution_count": 30,
   "metadata": {},
   "outputs": [],
   "source": [
    "network_data = pd.concat([Donald_Trump_network, Clinton_Hillary_network], axis=1)\n",
    "network_data.columns=['Trump','Hillary']"
   ]
  },
  {
   "cell_type": "code",
   "execution_count": 31,
   "metadata": {},
   "outputs": [
    {
     "data": {
      "text/html": [
       "<div>\n",
       "<style scoped>\n",
       "    .dataframe tbody tr th:only-of-type {\n",
       "        vertical-align: middle;\n",
       "    }\n",
       "\n",
       "    .dataframe tbody tr th {\n",
       "        vertical-align: top;\n",
       "    }\n",
       "\n",
       "    .dataframe thead th {\n",
       "        text-align: right;\n",
       "    }\n",
       "</style>\n",
       "<table border=\"1\" class=\"dataframe\">\n",
       "  <thead>\n",
       "    <tr style=\"text-align: right;\">\n",
       "      <th></th>\n",
       "      <th>Trump</th>\n",
       "      <th>Hillary</th>\n",
       "    </tr>\n",
       "    <tr>\n",
       "      <th>network</th>\n",
       "      <th></th>\n",
       "      <th></th>\n",
       "    </tr>\n",
       "  </thead>\n",
       "  <tbody>\n",
       "    <tr>\n",
       "      <th>facebook</th>\n",
       "      <td>13094828</td>\n",
       "      <td>7411606</td>\n",
       "    </tr>\n",
       "    <tr>\n",
       "      <th>imgur</th>\n",
       "      <td>110920</td>\n",
       "      <td>47455</td>\n",
       "    </tr>\n",
       "    <tr>\n",
       "      <th>instagram</th>\n",
       "      <td>22494612</td>\n",
       "      <td>5794669</td>\n",
       "    </tr>\n",
       "    <tr>\n",
       "      <th>twitter</th>\n",
       "      <td>2202947</td>\n",
       "      <td>738674</td>\n",
       "    </tr>\n",
       "  </tbody>\n",
       "</table>\n",
       "</div>"
      ],
      "text/plain": [
       "              Trump  Hillary\n",
       "network                     \n",
       "facebook   13094828  7411606\n",
       "imgur        110920    47455\n",
       "instagram  22494612  5794669\n",
       "twitter     2202947   738674"
      ]
     },
     "execution_count": 31,
     "metadata": {},
     "output_type": "execute_result"
    }
   ],
   "source": [
    "network_data.head()\n"
   ]
  },
  {
   "cell_type": "code",
   "execution_count": 35,
   "metadata": {},
   "outputs": [
    {
     "data": {
      "text/plain": [
       "<matplotlib.axes._subplots.AxesSubplot at 0x17178a30>"
      ]
     },
     "execution_count": 35,
     "metadata": {},
     "output_type": "execute_result"
    },
    {
     "data": {
      "image/png": "[encoded data removed]",
      "text/plain": [
       "<Figure size 432x288 with 1 Axes>"
      ]
     },
     "metadata": {},
     "output_type": "display_data"
    }
   ],
   "source": [
    "network_data.plot(kind='bar')\n"
   ]
  },
  {
   "cell_type": "code",
   "execution_count": 39,
   "metadata": {},
   "outputs": [
    {
     "data": {
      "text/plain": [
       "author\n",
       "3.46937E+14    4027672\n",
       "1419706373     2437090\n",
       "1518566697     2352841\n",
       "346080030      1640506\n",
       "1092927757     1121811\n",
       "276527863       965280\n",
       "1476135621      799471\n",
       "1439787748      799197\n",
       "1906691731      722557\n",
       "327078936       679403\n",
       "Name: likes, dtype: int64"
      ]
     },
     "execution_count": 39,
     "metadata": {},
     "output_type": "execute_result"
    }
   ],
   "source": [
    "Donald_Trump_author = Donald_Trump_total.groupby(['author']).likes.sum().sort_values(ascending=False)\n",
    "Donald_Trump_author.head(10)"
   ]
  },
  {
   "cell_type": "code",
   "execution_count": 41,
   "metadata": {},
   "outputs": [
    {
     "data": {
      "text/plain": [
       "author\n",
       "3.46937E+14    1245978\n",
       "11762801        939984\n",
       "1419706373      915663\n",
       "3.07189E+14     534783\n",
       "1.64687E+15     369554\n",
       "32458049        351185\n",
       "1539151608      330131\n",
       "3.80517E+14     326895\n",
       "1092927757      309041\n",
       "2.26821E+14     286827\n",
       "Name: likes, dtype: int64"
      ]
     },
     "execution_count": 41,
     "metadata": {},
     "output_type": "execute_result"
    }
   ],
   "source": [
    "Clinton_Hillary_author = Clinton_Hillary_total.groupby(['author']).likes.sum().sort_values(ascending=False)\n",
    "Clinton_Hillary_author.head(10)"
   ]
  },
  {
   "cell_type": "code",
   "execution_count": null,
   "metadata": {},
   "outputs": [],
   "source": []
  }
 ],
 "metadata": {
  "kernelspec": {
   "display_name": "Python 3",
   "language": "python",
   "name": "python3"
  },
  "language_info": {
   "codemirror_mode": {
    "name": "ipython",
    "version": 3
   },
   "file_extension": ".py",
   "mimetype": "text/x-python",
   "name": "python",
   "nbconvert_exporter": "python",
   "pygments_lexer": "ipython3",
   "version": "3.6.5"
  }
 },
 "nbformat": 4,
 "nbformat_minor": 2
}

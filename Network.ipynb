{
 "cells": [
  {
   "cell_type": "code",
   "execution_count": 52,
   "metadata": {},
   "outputs": [],
   "source": [
    "import numpy as np\n",
    "import pandas as pd \n",
    "from datetime import datetime\n",
    "import matplotlib.pyplot as plt\n",
    "import seaborn as sns\n",
    "import requests as rq\n",
    "from datetime import datetime\n",
    "from pandas import Series,DataFrame\n",
    "from io import StringIO\n",
    "from __future__ import division\n",
    "import statsmodels.api as sm\n",
    "from sklearn.linear_model import LinearRegression\n",
    "\n",
    "sns.set_style('whitegrid')\n",
    "%matplotlib inline\n"
   ]
  },
  {
   "cell_type": "code",
   "execution_count": 37,
   "metadata": {},
   "outputs": [
    {
     "data": {
      "text/plain": [
       "'C:\\\\Users\\\\YeShuchuan\\\\Desktop\\\\itds2018\\\\New folder\\\\2016-us-election'"
      ]
     },
     "execution_count": 37,
     "metadata": {},
     "output_type": "execute_result"
    }
   ],
   "source": [
    "pwd"
   ]
  },
  {
   "cell_type": "code",
   "execution_count": 38,
   "metadata": {},
   "outputs": [
    {
     "name": "stdout",
     "output_type": "stream",
     "text": [
      "C:\\Users\\YeShuchuan\\Desktop\\itds2018\\New folder\\2016\n"
     ]
    }
   ],
   "source": [
    "cd C:\\Users\\YeShuchuan\\Desktop\\itds2018\\New folder\\2016"
   ]
  },
  {
   "cell_type": "markdown",
   "metadata": {},
   "source": [
    "# Network - Input CSV file"
   ]
  },
  {
   "cell_type": "code",
   "execution_count": 40,
   "metadata": {},
   "outputs": [
    {
     "name": "stderr",
     "output_type": "stream",
     "text": [
      "c:\\users\\yeshuchuan\\appdata\\local\\programs\\python\\python36-32\\lib\\site-packages\\IPython\\core\\interactiveshell.py:2785: DtypeWarning: Columns (198) have mixed types. Specify dtype option on import or set low_memory=False.\n",
      "  interactivity=interactivity, compiler=compiler, result=result)\n",
      "c:\\users\\yeshuchuan\\appdata\\local\\programs\\python\\python36-32\\lib\\site-packages\\IPython\\core\\interactiveshell.py:2785: DtypeWarning: Columns (180) have mixed types. Specify dtype option on import or set low_memory=False.\n",
      "  interactivity=interactivity, compiler=compiler, result=result)\n"
     ]
    }
   ],
   "source": [
    "Donald = pd.read_csv(\"Donald.csv\", encoding='ISO-8859-1', parse_dates = ['timestamp'])\n",
    "Trump = pd.read_csv(\"Trump.csv\", encoding='ISO-8859-1', parse_dates = ['timestamp'])\n",
    "Clinton = pd.read_csv(\"Clinton.csv\", encoding='ISO-8859-1', parse_dates = ['timestamp'])\n",
    "Hillary = pd.read_csv(\"Hillary.csv\", encoding='ISO-8859-1', parse_dates = ['timestamp'])"
   ]
  },
  {
   "cell_type": "code",
   "execution_count": 5,
   "metadata": {},
   "outputs": [
    {
     "data": {
      "text/html": [
       "<div>\n",
       "<style scoped>\n",
       "    .dataframe tbody tr th:only-of-type {\n",
       "        vertical-align: middle;\n",
       "    }\n",
       "\n",
       "    .dataframe tbody tr th {\n",
       "        vertical-align: top;\n",
       "    }\n",
       "\n",
       "    .dataframe thead th {\n",
       "        text-align: right;\n",
       "    }\n",
       "</style>\n",
       "<table border=\"1\" class=\"dataframe\">\n",
       "  <thead>\n",
       "    <tr style=\"text-align: right;\">\n",
       "      <th></th>\n",
       "      <th>timestamp</th>\n",
       "      <th>id</th>\n",
       "      <th>link</th>\n",
       "      <th>caption</th>\n",
       "      <th>author</th>\n",
       "      <th>network</th>\n",
       "      <th>likes</th>\n",
       "      <th>Unnamed: 7</th>\n",
       "      <th>Unnamed: 8</th>\n",
       "      <th>Unnamed: 9</th>\n",
       "      <th>...</th>\n",
       "      <th>Unnamed: 190</th>\n",
       "      <th>Unnamed: 191</th>\n",
       "      <th>Unnamed: 192</th>\n",
       "      <th>Unnamed: 193</th>\n",
       "      <th>Unnamed: 194</th>\n",
       "      <th>Unnamed: 195</th>\n",
       "      <th>Unnamed: 196</th>\n",
       "      <th>Unnamed: 197</th>\n",
       "      <th>Unnamed: 198</th>\n",
       "      <th>Unnamed: 199</th>\n",
       "    </tr>\n",
       "  </thead>\n",
       "  <tbody>\n",
       "    <tr>\n",
       "      <th>0</th>\n",
       "      <td>7/25/16 20:36</td>\n",
       "      <td>1617878</td>\n",
       "      <td>http://imgur.com/a/8QHBb</td>\n",
       "      <td>cp 666\\n Donald Trump\\n HP 666/666\\n 18.8 m\\n ...</td>\n",
       "      <td>politicalhumor</td>\n",
       "      <td>imgur</td>\n",
       "      <td>-19</td>\n",
       "      <td>NaN</td>\n",
       "      <td>NaN</td>\n",
       "      <td>NaN</td>\n",
       "      <td>...</td>\n",
       "      <td>NaN</td>\n",
       "      <td>NaN</td>\n",
       "      <td>NaN</td>\n",
       "      <td>NaN</td>\n",
       "      <td>NaN</td>\n",
       "      <td>NaN</td>\n",
       "      <td>NaN</td>\n",
       "      <td>NaN</td>\n",
       "      <td>NaN</td>\n",
       "      <td>NaN</td>\n",
       "    </tr>\n",
       "    <tr>\n",
       "      <th>1</th>\n",
       "      <td>1/3/16 17:07</td>\n",
       "      <td>882383</td>\n",
       "      <td>http://imgur.com/PNH3li7</td>\n",
       "      <td>TAKE ME TO YOUR LEADER\\n JESUS NOT DONALD TRUM...</td>\n",
       "      <td>dankchristianmemes</td>\n",
       "      <td>imgur</td>\n",
       "      <td>-15</td>\n",
       "      <td>NaN</td>\n",
       "      <td>NaN</td>\n",
       "      <td>NaN</td>\n",
       "      <td>...</td>\n",
       "      <td>NaN</td>\n",
       "      <td>NaN</td>\n",
       "      <td>NaN</td>\n",
       "      <td>NaN</td>\n",
       "      <td>NaN</td>\n",
       "      <td>NaN</td>\n",
       "      <td>NaN</td>\n",
       "      <td>NaN</td>\n",
       "      <td>NaN</td>\n",
       "      <td>NaN</td>\n",
       "    </tr>\n",
       "    <tr>\n",
       "      <th>2</th>\n",
       "      <td>9/27/16 20:50</td>\n",
       "      <td>2574116</td>\n",
       "      <td>http://imgur.com/a/3zSGZ</td>\n",
       "      <td>ONLY THE\\n POOR\\n AND ONLY THE\\n STUPID\\n PAY\\...</td>\n",
       "      <td>politicalhumor</td>\n",
       "      <td>imgur</td>\n",
       "      <td>-13</td>\n",
       "      <td>NaN</td>\n",
       "      <td>NaN</td>\n",
       "      <td>NaN</td>\n",
       "      <td>...</td>\n",
       "      <td>NaN</td>\n",
       "      <td>NaN</td>\n",
       "      <td>NaN</td>\n",
       "      <td>NaN</td>\n",
       "      <td>NaN</td>\n",
       "      <td>NaN</td>\n",
       "      <td>NaN</td>\n",
       "      <td>NaN</td>\n",
       "      <td>NaN</td>\n",
       "      <td>NaN</td>\n",
       "    </tr>\n",
       "    <tr>\n",
       "      <th>3</th>\n",
       "      <td>1/31/16 17:17</td>\n",
       "      <td>800269</td>\n",
       "      <td>http://imgur.com/uieds24</td>\n",
       "      <td>WHEN GOD SAID LET THERE BE\\n LIGHT\\n HE HAD TO...</td>\n",
       "      <td>dankchristianmemes</td>\n",
       "      <td>imgur</td>\n",
       "      <td>-13</td>\n",
       "      <td>NaN</td>\n",
       "      <td>NaN</td>\n",
       "      <td>NaN</td>\n",
       "      <td>...</td>\n",
       "      <td>NaN</td>\n",
       "      <td>NaN</td>\n",
       "      <td>NaN</td>\n",
       "      <td>NaN</td>\n",
       "      <td>NaN</td>\n",
       "      <td>NaN</td>\n",
       "      <td>NaN</td>\n",
       "      <td>NaN</td>\n",
       "      <td>NaN</td>\n",
       "      <td>NaN</td>\n",
       "    </tr>\n",
       "    <tr>\n",
       "      <th>4</th>\n",
       "      <td>5/5/16 23:08</td>\n",
       "      <td>355062</td>\n",
       "      <td>http://imgur.com/BgtxDoF</td>\n",
       "      <td>4:33 PM\\n 91%\\n Search in\\n #Never Trump\\n Dan...</td>\n",
       "      <td>NaN</td>\n",
       "      <td>imgur</td>\n",
       "      <td>-12</td>\n",
       "      <td>NaN</td>\n",
       "      <td>NaN</td>\n",
       "      <td>NaN</td>\n",
       "      <td>...</td>\n",
       "      <td>NaN</td>\n",
       "      <td>NaN</td>\n",
       "      <td>NaN</td>\n",
       "      <td>NaN</td>\n",
       "      <td>NaN</td>\n",
       "      <td>NaN</td>\n",
       "      <td>NaN</td>\n",
       "      <td>NaN</td>\n",
       "      <td>NaN</td>\n",
       "      <td>NaN</td>\n",
       "    </tr>\n",
       "  </tbody>\n",
       "</table>\n",
       "<p>5 rows × 200 columns</p>\n",
       "</div>"
      ],
      "text/plain": [
       "       timestamp       id                      link  \\\n",
       "0  7/25/16 20:36  1617878  http://imgur.com/a/8QHBb   \n",
       "1   1/3/16 17:07   882383  http://imgur.com/PNH3li7   \n",
       "2  9/27/16 20:50  2574116  http://imgur.com/a/3zSGZ   \n",
       "3  1/31/16 17:17   800269  http://imgur.com/uieds24   \n",
       "4   5/5/16 23:08   355062  http://imgur.com/BgtxDoF   \n",
       "\n",
       "                                             caption              author  \\\n",
       "0  cp 666\\n Donald Trump\\n HP 666/666\\n 18.8 m\\n ...      politicalhumor   \n",
       "1  TAKE ME TO YOUR LEADER\\n JESUS NOT DONALD TRUM...  dankchristianmemes   \n",
       "2  ONLY THE\\n POOR\\n AND ONLY THE\\n STUPID\\n PAY\\...      politicalhumor   \n",
       "3  WHEN GOD SAID LET THERE BE\\n LIGHT\\n HE HAD TO...  dankchristianmemes   \n",
       "4  4:33 PM\\n 91%\\n Search in\\n #Never Trump\\n Dan...                 NaN   \n",
       "\n",
       "  network  likes  Unnamed: 7  Unnamed: 8  Unnamed: 9      ...       \\\n",
       "0   imgur    -19         NaN         NaN         NaN      ...        \n",
       "1   imgur    -15         NaN         NaN         NaN      ...        \n",
       "2   imgur    -13         NaN         NaN         NaN      ...        \n",
       "3   imgur    -13         NaN         NaN         NaN      ...        \n",
       "4   imgur    -12         NaN         NaN         NaN      ...        \n",
       "\n",
       "   Unnamed: 190  Unnamed: 191  Unnamed: 192  Unnamed: 193  Unnamed: 194  \\\n",
       "0           NaN           NaN           NaN           NaN           NaN   \n",
       "1           NaN           NaN           NaN           NaN           NaN   \n",
       "2           NaN           NaN           NaN           NaN           NaN   \n",
       "3           NaN           NaN           NaN           NaN           NaN   \n",
       "4           NaN           NaN           NaN           NaN           NaN   \n",
       "\n",
       "   Unnamed: 195  Unnamed: 196  Unnamed: 197  Unnamed: 198  Unnamed: 199  \n",
       "0           NaN           NaN           NaN           NaN           NaN  \n",
       "1           NaN           NaN           NaN           NaN           NaN  \n",
       "2           NaN           NaN           NaN           NaN           NaN  \n",
       "3           NaN           NaN           NaN           NaN           NaN  \n",
       "4           NaN           NaN           NaN           NaN           NaN  \n",
       "\n",
       "[5 rows x 200 columns]"
      ]
     },
     "execution_count": 5,
     "metadata": {},
     "output_type": "execute_result"
    }
   ],
   "source": [
    "Donald_Trump= [Donald, Trump]\n",
    "Donald_Trump_total = pd.concat(Donald_Trump)\n",
    "Donald_Trump_total.head()"
   ]
  },
  {
   "cell_type": "code",
   "execution_count": 6,
   "metadata": {},
   "outputs": [
    {
     "data": {
      "text/html": [
       "<div>\n",
       "<style scoped>\n",
       "    .dataframe tbody tr th:only-of-type {\n",
       "        vertical-align: middle;\n",
       "    }\n",
       "\n",
       "    .dataframe tbody tr th {\n",
       "        vertical-align: top;\n",
       "    }\n",
       "\n",
       "    .dataframe thead th {\n",
       "        text-align: right;\n",
       "    }\n",
       "</style>\n",
       "<table border=\"1\" class=\"dataframe\">\n",
       "  <thead>\n",
       "    <tr style=\"text-align: right;\">\n",
       "      <th></th>\n",
       "      <th>Unnamed: 10</th>\n",
       "      <th>Unnamed: 100</th>\n",
       "      <th>Unnamed: 101</th>\n",
       "      <th>Unnamed: 102</th>\n",
       "      <th>Unnamed: 103</th>\n",
       "      <th>Unnamed: 104</th>\n",
       "      <th>Unnamed: 105</th>\n",
       "      <th>Unnamed: 106</th>\n",
       "      <th>Unnamed: 107</th>\n",
       "      <th>Unnamed: 108</th>\n",
       "      <th>...</th>\n",
       "      <th>Unnamed: 97</th>\n",
       "      <th>Unnamed: 98</th>\n",
       "      <th>Unnamed: 99</th>\n",
       "      <th>author</th>\n",
       "      <th>caption</th>\n",
       "      <th>id</th>\n",
       "      <th>likes</th>\n",
       "      <th>link</th>\n",
       "      <th>network</th>\n",
       "      <th>timestamp</th>\n",
       "    </tr>\n",
       "  </thead>\n",
       "  <tbody>\n",
       "    <tr>\n",
       "      <th>0</th>\n",
       "      <td>NaN</td>\n",
       "      <td>NaN</td>\n",
       "      <td>NaN</td>\n",
       "      <td>NaN</td>\n",
       "      <td>NaN</td>\n",
       "      <td>NaN</td>\n",
       "      <td>NaN</td>\n",
       "      <td>NaN</td>\n",
       "      <td>NaN</td>\n",
       "      <td>NaN</td>\n",
       "      <td>...</td>\n",
       "      <td>NaN</td>\n",
       "      <td>NaN</td>\n",
       "      <td>NaN</td>\n",
       "      <td>forwardsfromgrandma</td>\n",
       "      <td>Son killed by\\n country, in a\\n in a\\n war sta...</td>\n",
       "      <td>1742494</td>\n",
       "      <td>-20</td>\n",
       "      <td>http://imgur.com/a/lNHED</td>\n",
       "      <td>imgur</td>\n",
       "      <td>8/1/16 20:56</td>\n",
       "    </tr>\n",
       "    <tr>\n",
       "      <th>1</th>\n",
       "      <td>NaN</td>\n",
       "      <td>NaN</td>\n",
       "      <td>NaN</td>\n",
       "      <td>NaN</td>\n",
       "      <td>NaN</td>\n",
       "      <td>NaN</td>\n",
       "      <td>NaN</td>\n",
       "      <td>NaN</td>\n",
       "      <td>NaN</td>\n",
       "      <td>NaN</td>\n",
       "      <td>...</td>\n",
       "      <td>NaN</td>\n",
       "      <td>NaN</td>\n",
       "      <td>NaN</td>\n",
       "      <td>TumblrInAction</td>\n",
       "      <td>1h\\n Why end racism when we can just\\n end the...</td>\n",
       "      <td>1633557</td>\n",
       "      <td>-16</td>\n",
       "      <td>http://imgur.com/a/FRGrq</td>\n",
       "      <td>imgur</td>\n",
       "      <td>7/27/16 0:54</td>\n",
       "    </tr>\n",
       "    <tr>\n",
       "      <th>2</th>\n",
       "      <td>NaN</td>\n",
       "      <td>NaN</td>\n",
       "      <td>NaN</td>\n",
       "      <td>NaN</td>\n",
       "      <td>NaN</td>\n",
       "      <td>NaN</td>\n",
       "      <td>NaN</td>\n",
       "      <td>NaN</td>\n",
       "      <td>NaN</td>\n",
       "      <td>NaN</td>\n",
       "      <td>...</td>\n",
       "      <td>NaN</td>\n",
       "      <td>NaN</td>\n",
       "      <td>NaN</td>\n",
       "      <td>forwardsfromgrandma</td>\n",
       "      <td>HILLARY CLINTON SAYS YOU CAN\\n KILL A BABY THE...</td>\n",
       "      <td>3017540</td>\n",
       "      <td>-14</td>\n",
       "      <td>http://imgur.com/a/giimL</td>\n",
       "      <td>imgur</td>\n",
       "      <td>10/20/16 7:34</td>\n",
       "    </tr>\n",
       "    <tr>\n",
       "      <th>3</th>\n",
       "      <td>NaN</td>\n",
       "      <td>NaN</td>\n",
       "      <td>NaN</td>\n",
       "      <td>NaN</td>\n",
       "      <td>NaN</td>\n",
       "      <td>NaN</td>\n",
       "      <td>NaN</td>\n",
       "      <td>NaN</td>\n",
       "      <td>NaN</td>\n",
       "      <td>NaN</td>\n",
       "      <td>...</td>\n",
       "      <td>NaN</td>\n",
       "      <td>NaN</td>\n",
       "      <td>NaN</td>\n",
       "      <td>4chan</td>\n",
       "      <td>I Liked\\n p Message Save\\n More\\n A Write a co...</td>\n",
       "      <td>3061639</td>\n",
       "      <td>-13</td>\n",
       "      <td>http://imgur.com/a/tPNT6</td>\n",
       "      <td>imgur</td>\n",
       "      <td>10/22/16 5:10</td>\n",
       "    </tr>\n",
       "    <tr>\n",
       "      <th>4</th>\n",
       "      <td>NaN</td>\n",
       "      <td>NaN</td>\n",
       "      <td>NaN</td>\n",
       "      <td>NaN</td>\n",
       "      <td>NaN</td>\n",
       "      <td>NaN</td>\n",
       "      <td>NaN</td>\n",
       "      <td>NaN</td>\n",
       "      <td>NaN</td>\n",
       "      <td>NaN</td>\n",
       "      <td>...</td>\n",
       "      <td>NaN</td>\n",
       "      <td>NaN</td>\n",
       "      <td>NaN</td>\n",
       "      <td>politicalhumor</td>\n",
       "      <td>This is such a hypocritical thing to be on hil...</td>\n",
       "      <td>3160267</td>\n",
       "      <td>-10</td>\n",
       "      <td>http://imgur.com/a/e6gme</td>\n",
       "      <td>imgur</td>\n",
       "      <td>10/26/16 2:30</td>\n",
       "    </tr>\n",
       "  </tbody>\n",
       "</table>\n",
       "<p>5 rows × 182 columns</p>\n",
       "</div>"
      ],
      "text/plain": [
       "   Unnamed: 10  Unnamed: 100  Unnamed: 101  Unnamed: 102  Unnamed: 103  \\\n",
       "0          NaN           NaN           NaN           NaN           NaN   \n",
       "1          NaN           NaN           NaN           NaN           NaN   \n",
       "2          NaN           NaN           NaN           NaN           NaN   \n",
       "3          NaN           NaN           NaN           NaN           NaN   \n",
       "4          NaN           NaN           NaN           NaN           NaN   \n",
       "\n",
       "   Unnamed: 104  Unnamed: 105  Unnamed: 106  Unnamed: 107  Unnamed: 108  \\\n",
       "0           NaN           NaN           NaN           NaN           NaN   \n",
       "1           NaN           NaN           NaN           NaN           NaN   \n",
       "2           NaN           NaN           NaN           NaN           NaN   \n",
       "3           NaN           NaN           NaN           NaN           NaN   \n",
       "4           NaN           NaN           NaN           NaN           NaN   \n",
       "\n",
       "       ...        Unnamed: 97  Unnamed: 98  Unnamed: 99               author  \\\n",
       "0      ...                NaN          NaN          NaN  forwardsfromgrandma   \n",
       "1      ...                NaN          NaN          NaN       TumblrInAction   \n",
       "2      ...                NaN          NaN          NaN  forwardsfromgrandma   \n",
       "3      ...                NaN          NaN          NaN                4chan   \n",
       "4      ...                NaN          NaN          NaN       politicalhumor   \n",
       "\n",
       "                                             caption       id  likes  \\\n",
       "0  Son killed by\\n country, in a\\n in a\\n war sta...  1742494    -20   \n",
       "1  1h\\n Why end racism when we can just\\n end the...  1633557    -16   \n",
       "2  HILLARY CLINTON SAYS YOU CAN\\n KILL A BABY THE...  3017540    -14   \n",
       "3  I Liked\\n p Message Save\\n More\\n A Write a co...  3061639    -13   \n",
       "4  This is such a hypocritical thing to be on hil...  3160267    -10   \n",
       "\n",
       "                       link  network      timestamp  \n",
       "0  http://imgur.com/a/lNHED    imgur   8/1/16 20:56  \n",
       "1  http://imgur.com/a/FRGrq    imgur   7/27/16 0:54  \n",
       "2  http://imgur.com/a/giimL    imgur  10/20/16 7:34  \n",
       "3  http://imgur.com/a/tPNT6    imgur  10/22/16 5:10  \n",
       "4  http://imgur.com/a/e6gme    imgur  10/26/16 2:30  \n",
       "\n",
       "[5 rows x 182 columns]"
      ]
     },
     "execution_count": 6,
     "metadata": {},
     "output_type": "execute_result"
    }
   ],
   "source": [
    "Clinton_Hillary= [Clinton, Hillary]\n",
    "Clinton_Hillary_total = pd.concat(Clinton_Hillary)\n",
    "Clinton_Hillary_total.head()"
   ]
  },
  {
   "cell_type": "markdown",
   "metadata": {},
   "source": [
    "# Compare Trump and Hillary likes over different network"
   ]
  },
  {
   "cell_type": "markdown",
   "metadata": {},
   "source": [
    "Trump likes on network"
   ]
  },
  {
   "cell_type": "code",
   "execution_count": 7,
   "metadata": {},
   "outputs": [
    {
     "data": {
      "text/plain": [
       "37903307"
      ]
     },
     "execution_count": 7,
     "metadata": {},
     "output_type": "execute_result"
    }
   ],
   "source": [
    "Donald_Trump_network = sum(Donald_Trump_total.likes)\n",
    "sum(Donald_Trump_total.likes)"
   ]
  },
  {
   "cell_type": "markdown",
   "metadata": {},
   "source": [
    "Clinton likes on network"
   ]
  },
  {
   "cell_type": "code",
   "execution_count": 8,
   "metadata": {},
   "outputs": [
    {
     "data": {
      "text/plain": [
       "13992404"
      ]
     },
     "execution_count": 8,
     "metadata": {},
     "output_type": "execute_result"
    }
   ],
   "source": [
    "Clinton_Hillary_network = sum(Clinton_Hillary_total.likes)\n",
    "sum(Clinton_Hillary_total.likes)"
   ]
  },
  {
   "cell_type": "markdown",
   "metadata": {},
   "source": [
    "Compare network usage"
   ]
  },
  {
   "cell_type": "code",
   "execution_count": 9,
   "metadata": {},
   "outputs": [],
   "source": [
    "Donald_Trump_network = Donald_Trump_total.groupby('network').sum()['likes']\n",
    "Clinton_Hillary_network = Clinton_Hillary_total.groupby('network').sum()['likes']"
   ]
  },
  {
   "cell_type": "code",
   "execution_count": 10,
   "metadata": {},
   "outputs": [
    {
     "data": {
      "text/plain": [
       "<matplotlib.axes._subplots.AxesSubplot at 0x13399630>"
      ]
     },
     "execution_count": 10,
     "metadata": {},
     "output_type": "execute_result"
    },
    {
     "data": {
      "image/png": "[encoded data removed]",
      "text/plain": [
       "<Figure size 432x288 with 1 Axes>"
      ]
     },
     "metadata": {},
     "output_type": "display_data"
    }
   ],
   "source": [
    "Donald_Trump_network.plot.bar()"
   ]
  },
  {
   "cell_type": "code",
   "execution_count": 11,
   "metadata": {},
   "outputs": [
    {
     "data": {
      "text/plain": [
       "<matplotlib.axes._subplots.AxesSubplot at 0x13da76f0>"
      ]
     },
     "execution_count": 11,
     "metadata": {},
     "output_type": "execute_result"
    },
    {
     "data": {
      "image/png": "[encoded data removed]",
      "text/plain": [
       "<Figure size 432x288 with 1 Axes>"
      ]
     },
     "metadata": {},
     "output_type": "display_data"
    }
   ],
   "source": [
    "Clinton_Hillary_network.plot.bar()"
   ]
  },
  {
   "cell_type": "markdown",
   "metadata": {},
   "source": [
    "Find value from Facebook, Imgur, Instagram, Twitter and get who have more more social media 'likes'."
   ]
  },
  {
   "cell_type": "code",
   "execution_count": 12,
   "metadata": {},
   "outputs": [],
   "source": [
    "network_data = pd.concat([Donald_Trump_network, Clinton_Hillary_network], axis=1)\n",
    "network_data.columns=['Trump','Hillary']"
   ]
  },
  {
   "cell_type": "code",
   "execution_count": 13,
   "metadata": {},
   "outputs": [
    {
     "data": {
      "text/html": [
       "<div>\n",
       "<style scoped>\n",
       "    .dataframe tbody tr th:only-of-type {\n",
       "        vertical-align: middle;\n",
       "    }\n",
       "\n",
       "    .dataframe tbody tr th {\n",
       "        vertical-align: top;\n",
       "    }\n",
       "\n",
       "    .dataframe thead th {\n",
       "        text-align: right;\n",
       "    }\n",
       "</style>\n",
       "<table border=\"1\" class=\"dataframe\">\n",
       "  <thead>\n",
       "    <tr style=\"text-align: right;\">\n",
       "      <th></th>\n",
       "      <th>Trump</th>\n",
       "      <th>Hillary</th>\n",
       "    </tr>\n",
       "    <tr>\n",
       "      <th>network</th>\n",
       "      <th></th>\n",
       "      <th></th>\n",
       "    </tr>\n",
       "  </thead>\n",
       "  <tbody>\n",
       "    <tr>\n",
       "      <th>facebook</th>\n",
       "      <td>13094828</td>\n",
       "      <td>7411606</td>\n",
       "    </tr>\n",
       "    <tr>\n",
       "      <th>imgur</th>\n",
       "      <td>110920</td>\n",
       "      <td>47455</td>\n",
       "    </tr>\n",
       "    <tr>\n",
       "      <th>instagram</th>\n",
       "      <td>22494612</td>\n",
       "      <td>5794669</td>\n",
       "    </tr>\n",
       "    <tr>\n",
       "      <th>twitter</th>\n",
       "      <td>2202947</td>\n",
       "      <td>738674</td>\n",
       "    </tr>\n",
       "  </tbody>\n",
       "</table>\n",
       "</div>"
      ],
      "text/plain": [
       "              Trump  Hillary\n",
       "network                     \n",
       "facebook   13094828  7411606\n",
       "imgur        110920    47455\n",
       "instagram  22494612  5794669\n",
       "twitter     2202947   738674"
      ]
     },
     "execution_count": 13,
     "metadata": {},
     "output_type": "execute_result"
    }
   ],
   "source": [
    "network_data.head()"
   ]
  },
  {
   "cell_type": "markdown",
   "metadata": {},
   "source": [
    "The above indicates Trump had more social media 'likes' than Hillary. The most used network is instagram."
   ]
  },
  {
   "cell_type": "code",
   "execution_count": 14,
   "metadata": {},
   "outputs": [
    {
     "data": {
      "text/plain": [
       "<matplotlib.axes._subplots.AxesSubplot at 0x13e944d0>"
      ]
     },
     "execution_count": 14,
     "metadata": {},
     "output_type": "execute_result"
    },
    {
     "data": {
      "image/png": "[encoded data removed]",
      "text/plain": [
       "<Figure size 432x288 with 1 Axes>"
      ]
     },
     "metadata": {},
     "output_type": "display_data"
    }
   ],
   "source": [
    "network_data.plot(kind='bar')\n"
   ]
  },
  {
   "cell_type": "markdown",
   "metadata": {},
   "source": [
    "The number of social media 'likes' by time in 2016"
   ]
  },
  {
   "cell_type": "code",
   "execution_count": 44,
   "metadata": {},
   "outputs": [],
   "source": [
    "Clinton_Hillary = pd.concat([Hillary, Clinton], ignore_index=True, join=\"inner\")\n",
    "Clinton_Hillary = Clinton_Hillary[Clinton_Hillary['timestamp'] > datetime(2016, 1, 1)]\n",
    "Clinton_Hillary.sort_values (['timestamp'], inplace = True)\n",
    "Clinton_Hillary = Clinton_Hillary.drop_duplicates(['id'])"
   ]
  },
  {
   "cell_type": "code",
   "execution_count": 45,
   "metadata": {},
   "outputs": [],
   "source": [
    "Donald_Trump = pd.concat([Donald,Trump], ignore_index=True, join=\"inner\")\n",
    "Donald_Trump = Donald_Trump[Donald_Trump['timestamp'] > datetime(2016, 1, 1)]\n",
    "Donald_Trump.sort_values(['timestamp'], inplace = True)\n",
    "Donald_Trump = Donald_Trump.drop_duplicates(['id'])"
   ]
  },
  {
   "cell_type": "code",
   "execution_count": 68,
   "metadata": {},
   "outputs": [
    {
     "data": {
      "text/plain": [
       "<matplotlib.axes._subplots.AxesSubplot at 0x178b9310>"
      ]
     },
     "execution_count": 68,
     "metadata": {},
     "output_type": "execute_result"
    },
    {
     "data": {
      "image/png": "[encoded data removed]",
      "text/plain": [
       "<Figure size 432x288 with 1 Axes>"
      ]
     },
     "metadata": {},
     "output_type": "display_data"
    }
   ],
   "source": [
    "Clinton_Hillary['year'] = pd.DatetimeIndex(Clinton_Hillary['timestamp']).year\n",
    "Clinton_Hillary['month'] = pd.DatetimeIndex(Clinton_Hillary['timestamp']).month\n",
    "Clinton_Hillary['day'] = pd.DatetimeIndex(Clinton_Hillary['timestamp']).day\n",
    "Clinton_Hillary_agg = Clinton_Hillary.groupby([Clinton_Hillary['year'], Clinton_Hillary['month']])['likes'].sum()\n",
    "\n",
    "Donald_Trump['year'] = pd.DatetimeIndex(Donald_Trump['timestamp']).year\n",
    "Donald_Trump['month'] = pd.DatetimeIndex(Donald_Trump['timestamp']).month\n",
    "Donald_Trump['day'] = pd.DatetimeIndex(Donald_Trump['timestamp']).day\n",
    "Donald_Trump_agg = Donald_Trump.groupby([Donald_Trump['year'], Donald_Trump['month']])['likes'].sum()\n",
    "\n",
    "data = pd.concat([Clinton_Hillary_agg, Donald_Trump_agg], axis = 1)\n",
    "data.columns = ['Hillary', 'Trump']\n",
    "data.plot()\n"
   ]
  },
  {
   "cell_type": "code",
   "execution_count": 74,
   "metadata": {},
   "outputs": [],
   "source": [
    "hillary_day_counts = Clinton_Hillary[\"day\"].value_counts()\n",
    "hillary_day_counts.sort_index(inplace=True)\n",
    "\n",
    "trump_day_counts = Donald_Trump[\"day\"].value_counts()\n",
    "trump_day_counts.sort_index(inplace=True)"
   ]
  },
  {
   "cell_type": "code",
   "execution_count": 75,
   "metadata": {},
   "outputs": [
    {
     "data": {
      "text/plain": [
       "<matplotlib.axes._subplots.AxesSubplot at 0x153ce390>"
      ]
     },
     "execution_count": 75,
     "metadata": {},
     "output_type": "execute_result"
    },
    {
     "data": {
      "image/png": "[encoded data removed]",
      "text/plain": [
       "<Figure size 432x288 with 1 Axes>"
      ]
     },
     "metadata": {},
     "output_type": "display_data"
    }
   ],
   "source": [
    "day_counts = pd.concat( [hillary_day_counts, trump_day_counts], axis=1)\n",
    "day_counts.columns = [\"Hillary\", \"Trump\"]\n",
    "day_counts.plot()\n"
   ]
  },
  {
   "cell_type": "markdown",
   "metadata": {},
   "source": [
    "The above indicates there is a significantly increase at end, maybe because of the Debates and the final days of campaign. People are more like discussing about Trump everyday in Nov."
   ]
  },
  {
   "cell_type": "markdown",
   "metadata": {},
   "source": [
    "Trump have more social media 'likes' than Hillary, also Trump have more likes than Hillary and more activity."
   ]
  },
  {
   "cell_type": "code",
   "execution_count": null,
   "metadata": {},
   "outputs": [],
   "source": []
  },
  {
   "cell_type": "markdown",
   "metadata": {},
   "source": [
    "# poll - Input CSV file"
   ]
  },
  {
   "cell_type": "code",
   "execution_count": 56,
   "metadata": {},
   "outputs": [
    {
     "name": "stdout",
     "output_type": "stream",
     "text": [
      "C:\\Users\\YeShuchuan\\Desktop\\itds2018\\New folder\\2016-us-election\n"
     ]
    }
   ],
   "source": [
    "cd C:\\Users\\YeShuchuan\\Desktop\\itds2018\\New folder\\2016-us-election"
   ]
  },
  {
   "cell_type": "code",
   "execution_count": 57,
   "metadata": {},
   "outputs": [
    {
     "name": "stdout",
     "output_type": "stream",
     "text": [
      "   column_name                                        description\n",
      "0    PST045214                          Population, 2014 estimate\n",
      "1    PST040210          Population, 2010 (April 1) estimates base\n",
      "2    PST120214  Population, percent change - April 1, 2010 to ...\n",
      "3    POP010210                                   Population, 2010\n",
      "4    AGE135214               Persons under 5 years, percent, 2014\n",
      "5    AGE295214              Persons under 18 years, percent, 2014\n",
      "6    AGE775214           Persons 65 years and over, percent, 2014\n",
      "7    SEX255214                      Female persons, percent, 2014\n",
      "8    RHI125214                         White alone, percent, 2014\n",
      "9    RHI225214     Black or African American alone, percent, 2014\n",
      "10   RHI325214  American Indian and Alaska Native alone, perce...\n",
      "11   RHI425214                         Asian alone, percent, 2014\n",
      "12   RHI525214  Native Hawaiian and Other Pacific Islander alo...\n",
      "13   RHI625214                   Two or More Races, percent, 2014\n",
      "14   RHI725214                  Hispanic or Latino, percent, 2014\n",
      "15   RHI825214  White alone, not Hispanic or Latino, percent, ...\n",
      "16   POP715213  Living in same house 1 year & over, percent, 2...\n",
      "17   POP645213           Foreign born persons, percent, 2009-2013\n",
      "18   POP815213  Language other than English spoken at home, pc...\n",
      "19   EDU635213  High school graduate or higher, percent of per...\n",
      "20   EDU685213  Bachelor's degree or higher, percent of person...\n",
      "21   VET605213                                Veterans, 2009-2013\n",
      "22   LFE305213  Mean travel time to work (minutes), workers ag...\n",
      "23   HSG010214                                Housing units, 2014\n",
      "24   HSG445213                      Homeownership rate, 2009-2013\n",
      "25   HSG096213  Housing units in multi-unit structures, percen...\n",
      "26   HSG495213  Median value of owner-occupied housing units, ...\n",
      "27   HSD410213                              Households, 2009-2013\n",
      "28   HSD310213                   Persons per household, 2009-2013\n",
      "29   INC910213  Per capita money income in past 12 months (201...\n",
      "30   INC110213                 Median household income, 2009-2013\n",
      "31   PVY020213    Persons below poverty level, percent, 2009-2013\n",
      "32   BZA010213               Private nonfarm establishments, 2013\n",
      "33   BZA110213                  Private nonfarm employment,  2013\n",
      "34   BZA115213  Private nonfarm employment, percent change, 20...\n",
      "35   NES010213                   Nonemployer establishments, 2013\n",
      "36   SBO001207                        Total number of firms, 2007\n",
      "37   SBO315207                   Black-owned firms, percent, 2007\n",
      "38   SBO115207  American Indian- and Alaska Native-owned firms...\n",
      "39   SBO215207                   Asian-owned firms, percent, 2007\n",
      "40   SBO515207  Native Hawaiian- and Other Pacific Islander-ow...\n",
      "41   SBO415207                Hispanic-owned firms, percent, 2007\n",
      "42   SBO015207                   Women-owned firms, percent, 2007\n",
      "43   MAN450207             Manufacturers shipments, 2007 ($1,000)\n",
      "44   WTN220207           Merchant wholesaler sales, 2007 ($1,000)\n",
      "45   RTN130207                        Retail sales, 2007 ($1,000)\n",
      "46   RTN131207                      Retail sales per capita, 2007\n",
      "47   AFN120207  Accommodation and food services sales, 2007 ($...\n",
      "48   BPS030214                             Building permits, 2014\n",
      "49   LND110210                    Land area in square miles, 2010\n",
      "50   POP060210                   Population per square mile, 2010\n"
     ]
    }
   ],
   "source": [
    "county_facts = pd.read_csv(\"county_facts.csv\")\n",
    "county_facts_dictionary = pd.read_csv(\"county_facts_dictionary.csv\")\n",
    "primary_results = pd.read_csv(\"primary_results.csv\")\n",
    "url = \"http://elections.huffingtonpost.com/pollster/2016-general-election-trump-vs-clinton.csv\"\n",
    "print(county_facts_dictionary)"
   ]
  },
  {
   "cell_type": "code",
   "execution_count": 19,
   "metadata": {},
   "outputs": [
    {
     "name": "stdout",
     "output_type": "stream",
     "text": [
      "     state state_abbreviation   county    fips     party        candidate  \\\n",
      "0  Alabama                 AL  Autauga  1001.0  Democrat   Bernie Sanders   \n",
      "1  Alabama                 AL  Autauga  1001.0  Democrat  Hillary Clinton   \n",
      "2  Alabama                 AL  Baldwin  1003.0  Democrat   Bernie Sanders   \n",
      "3  Alabama                 AL  Baldwin  1003.0  Democrat  Hillary Clinton   \n",
      "4  Alabama                 AL  Barbour  1005.0  Democrat   Bernie Sanders   \n",
      "\n",
      "   votes  fraction_votes  \n",
      "0    544           0.182  \n",
      "1   2387           0.800  \n",
      "2   2694           0.329  \n",
      "3   5290           0.647  \n",
      "4    222           0.078  \n"
     ]
    }
   ],
   "source": [
    "print (primary_results.head())"
   ]
  },
  {
   "cell_type": "code",
   "execution_count": 21,
   "metadata": {},
   "outputs": [],
   "source": [
    "source = rq.get(url).text\n",
    "\n",
    "poll_data = StringIO(source)"
   ]
  },
  {
   "cell_type": "code",
   "execution_count": 22,
   "metadata": {},
   "outputs": [],
   "source": [
    "poll_df = pd.read_csv(poll_data)"
   ]
  },
  {
   "cell_type": "code",
   "execution_count": 23,
   "metadata": {},
   "outputs": [
    {
     "data": {
      "text/html": [
       "<div>\n",
       "<style scoped>\n",
       "    .dataframe tbody tr th:only-of-type {\n",
       "        vertical-align: middle;\n",
       "    }\n",
       "\n",
       "    .dataframe tbody tr th {\n",
       "        vertical-align: top;\n",
       "    }\n",
       "\n",
       "    .dataframe thead th {\n",
       "        text-align: right;\n",
       "    }\n",
       "</style>\n",
       "<table border=\"1\" class=\"dataframe\">\n",
       "  <thead>\n",
       "    <tr style=\"text-align: right;\">\n",
       "      <th></th>\n",
       "      <th>Pollster</th>\n",
       "      <th>Start Date</th>\n",
       "      <th>End Date</th>\n",
       "      <th>Entry Date/Time (ET)</th>\n",
       "      <th>Number of Observations</th>\n",
       "      <th>Population</th>\n",
       "      <th>Mode</th>\n",
       "      <th>Trump</th>\n",
       "      <th>Clinton</th>\n",
       "      <th>Other</th>\n",
       "      <th>Undecided</th>\n",
       "      <th>Pollster URL</th>\n",
       "      <th>Source URL</th>\n",
       "      <th>Partisan</th>\n",
       "      <th>Affiliation</th>\n",
       "      <th>Question Text</th>\n",
       "      <th>Question Iteration</th>\n",
       "    </tr>\n",
       "  </thead>\n",
       "  <tbody>\n",
       "    <tr>\n",
       "      <th>0</th>\n",
       "      <td>Insights West</td>\n",
       "      <td>2016-11-04</td>\n",
       "      <td>2016-11-07</td>\n",
       "      <td>2016-11-08T12:16:30Z</td>\n",
       "      <td>940.0</td>\n",
       "      <td>Likely Voters</td>\n",
       "      <td>Internet</td>\n",
       "      <td>41.0</td>\n",
       "      <td>45.0</td>\n",
       "      <td>2.0</td>\n",
       "      <td>8.0</td>\n",
       "      <td>http://elections.huffingtonpost.com/pollster/p...</td>\n",
       "      <td>http://www.insightswest.com/news/clinton-is-ah...</td>\n",
       "      <td>Nonpartisan</td>\n",
       "      <td>None</td>\n",
       "      <td>As you may know, there will be a presidential ...</td>\n",
       "      <td>1</td>\n",
       "    </tr>\n",
       "    <tr>\n",
       "      <th>1</th>\n",
       "      <td>Insights West</td>\n",
       "      <td>2016-11-04</td>\n",
       "      <td>2016-11-07</td>\n",
       "      <td>2016-11-08T12:16:30Z</td>\n",
       "      <td>NaN</td>\n",
       "      <td>Likely Voters - Democrat</td>\n",
       "      <td>Internet</td>\n",
       "      <td>6.0</td>\n",
       "      <td>89.0</td>\n",
       "      <td>0.0</td>\n",
       "      <td>4.0</td>\n",
       "      <td>http://elections.huffingtonpost.com/pollster/p...</td>\n",
       "      <td>http://www.insightswest.com/news/clinton-is-ah...</td>\n",
       "      <td>Nonpartisan</td>\n",
       "      <td>None</td>\n",
       "      <td>As you may know, there will be a presidential ...</td>\n",
       "      <td>1</td>\n",
       "    </tr>\n",
       "    <tr>\n",
       "      <th>2</th>\n",
       "      <td>Insights West</td>\n",
       "      <td>2016-11-04</td>\n",
       "      <td>2016-11-07</td>\n",
       "      <td>2016-11-08T12:16:30Z</td>\n",
       "      <td>NaN</td>\n",
       "      <td>Likely Voters - Republican</td>\n",
       "      <td>Internet</td>\n",
       "      <td>82.0</td>\n",
       "      <td>7.0</td>\n",
       "      <td>2.0</td>\n",
       "      <td>6.0</td>\n",
       "      <td>http://elections.huffingtonpost.com/pollster/p...</td>\n",
       "      <td>http://www.insightswest.com/news/clinton-is-ah...</td>\n",
       "      <td>Nonpartisan</td>\n",
       "      <td>None</td>\n",
       "      <td>As you may know, there will be a presidential ...</td>\n",
       "      <td>1</td>\n",
       "    </tr>\n",
       "    <tr>\n",
       "      <th>3</th>\n",
       "      <td>Insights West</td>\n",
       "      <td>2016-11-04</td>\n",
       "      <td>2016-11-07</td>\n",
       "      <td>2016-11-08T12:16:30Z</td>\n",
       "      <td>NaN</td>\n",
       "      <td>Likely Voters - independent</td>\n",
       "      <td>Internet</td>\n",
       "      <td>38.0</td>\n",
       "      <td>43.0</td>\n",
       "      <td>4.0</td>\n",
       "      <td>7.0</td>\n",
       "      <td>http://elections.huffingtonpost.com/pollster/p...</td>\n",
       "      <td>http://www.insightswest.com/news/clinton-is-ah...</td>\n",
       "      <td>Nonpartisan</td>\n",
       "      <td>None</td>\n",
       "      <td>As you may know, there will be a presidential ...</td>\n",
       "      <td>1</td>\n",
       "    </tr>\n",
       "    <tr>\n",
       "      <th>4</th>\n",
       "      <td>IBD/TIPP</td>\n",
       "      <td>2016-11-04</td>\n",
       "      <td>2016-11-07</td>\n",
       "      <td>2016-11-08T12:10:06Z</td>\n",
       "      <td>1107.0</td>\n",
       "      <td>Likely Voters</td>\n",
       "      <td>Live Phone</td>\n",
       "      <td>43.0</td>\n",
       "      <td>41.0</td>\n",
       "      <td>4.0</td>\n",
       "      <td>5.0</td>\n",
       "      <td>http://elections.huffingtonpost.com/pollster/p...</td>\n",
       "      <td>http://www.investors.com/politics/ibd-tipp-pre...</td>\n",
       "      <td>Nonpartisan</td>\n",
       "      <td>None</td>\n",
       "      <td>NaN</td>\n",
       "      <td>1</td>\n",
       "    </tr>\n",
       "  </tbody>\n",
       "</table>\n",
       "</div>"
      ],
      "text/plain": [
       "        Pollster  Start Date    End Date  Entry Date/Time (ET)  \\\n",
       "0  Insights West  2016-11-04  2016-11-07  2016-11-08T12:16:30Z   \n",
       "1  Insights West  2016-11-04  2016-11-07  2016-11-08T12:16:30Z   \n",
       "2  Insights West  2016-11-04  2016-11-07  2016-11-08T12:16:30Z   \n",
       "3  Insights West  2016-11-04  2016-11-07  2016-11-08T12:16:30Z   \n",
       "4       IBD/TIPP  2016-11-04  2016-11-07  2016-11-08T12:10:06Z   \n",
       "\n",
       "   Number of Observations                   Population        Mode  Trump  \\\n",
       "0                   940.0                Likely Voters    Internet   41.0   \n",
       "1                     NaN     Likely Voters - Democrat    Internet    6.0   \n",
       "2                     NaN   Likely Voters - Republican    Internet   82.0   \n",
       "3                     NaN  Likely Voters - independent    Internet   38.0   \n",
       "4                  1107.0                Likely Voters  Live Phone   43.0   \n",
       "\n",
       "   Clinton  Other  Undecided  \\\n",
       "0     45.0    2.0        8.0   \n",
       "1     89.0    0.0        4.0   \n",
       "2      7.0    2.0        6.0   \n",
       "3     43.0    4.0        7.0   \n",
       "4     41.0    4.0        5.0   \n",
       "\n",
       "                                        Pollster URL  \\\n",
       "0  http://elections.huffingtonpost.com/pollster/p...   \n",
       "1  http://elections.huffingtonpost.com/pollster/p...   \n",
       "2  http://elections.huffingtonpost.com/pollster/p...   \n",
       "3  http://elections.huffingtonpost.com/pollster/p...   \n",
       "4  http://elections.huffingtonpost.com/pollster/p...   \n",
       "\n",
       "                                          Source URL     Partisan Affiliation  \\\n",
       "0  http://www.insightswest.com/news/clinton-is-ah...  Nonpartisan        None   \n",
       "1  http://www.insightswest.com/news/clinton-is-ah...  Nonpartisan        None   \n",
       "2  http://www.insightswest.com/news/clinton-is-ah...  Nonpartisan        None   \n",
       "3  http://www.insightswest.com/news/clinton-is-ah...  Nonpartisan        None   \n",
       "4  http://www.investors.com/politics/ibd-tipp-pre...  Nonpartisan        None   \n",
       "\n",
       "                                       Question Text  Question Iteration  \n",
       "0  As you may know, there will be a presidential ...                   1  \n",
       "1  As you may know, there will be a presidential ...                   1  \n",
       "2  As you may know, there will be a presidential ...                   1  \n",
       "3  As you may know, there will be a presidential ...                   1  \n",
       "4                                                NaN                   1  "
      ]
     },
     "execution_count": 23,
     "metadata": {},
     "output_type": "execute_result"
    }
   ],
   "source": [
    "poll_df.head()"
   ]
  },
  {
   "cell_type": "code",
   "execution_count": 24,
   "metadata": {},
   "outputs": [
    {
     "data": {
      "text/plain": [
       "<seaborn.axisgrid.FacetGrid at 0xf7b4cd0>"
      ]
     },
     "execution_count": 24,
     "metadata": {},
     "output_type": "execute_result"
    },
    {
     "data": {
      "image/png": "[encoded data removed]",
      "text/plain": [
       "<Figure size 288x288 with 1 Axes>"
      ]
     },
     "metadata": {},
     "output_type": "display_data"
    }
   ],
   "source": [
    "sns.factorplot('Affiliation',data=poll_df,kind='count')\n"
   ]
  },
  {
   "cell_type": "code",
   "execution_count": 25,
   "metadata": {},
   "outputs": [
    {
     "data": {
      "text/plain": [
       "<seaborn.axisgrid.FacetGrid at 0x13e7e730>"
      ]
     },
     "execution_count": 25,
     "metadata": {},
     "output_type": "execute_result"
    },
    {
     "data": {
      "image/png": "[encoded data removed]",
      "text/plain": [
       "<Figure size 468.5x288 with 1 Axes>"
      ]
     },
     "metadata": {},
     "output_type": "display_data"
    }
   ],
   "source": [
    "sns.factorplot('Affiliation',data=poll_df,hue='Population',kind='count')"
   ]
  },
  {
   "cell_type": "code",
   "execution_count": 26,
   "metadata": {},
   "outputs": [
    {
     "data": {
      "text/plain": [
       "<seaborn.axisgrid.FacetGrid at 0x152a5d10>"
      ]
     },
     "execution_count": 26,
     "metadata": {},
     "output_type": "execute_result"
    },
    {
     "data": {
      "image/png": "[encoded data removed]",
      "text/plain": [
       "<Figure size 288x288 with 1 Axes>"
      ]
     },
     "metadata": {},
     "output_type": "display_data"
    }
   ],
   "source": [
    "sns.factorplot('Mode',data=poll_df,kind='count')"
   ]
  },
  {
   "cell_type": "markdown",
   "metadata": {},
   "source": [
    "Did the poll results favor Clinton or Trump?"
   ]
  },
  {
   "cell_type": "code",
   "execution_count": 27,
   "metadata": {},
   "outputs": [
    {
     "data": {
      "text/html": [
       "<div>\n",
       "<style scoped>\n",
       "    .dataframe tbody tr th:only-of-type {\n",
       "        vertical-align: middle;\n",
       "    }\n",
       "\n",
       "    .dataframe tbody tr th {\n",
       "        vertical-align: top;\n",
       "    }\n",
       "\n",
       "    .dataframe thead th {\n",
       "        text-align: right;\n",
       "    }\n",
       "</style>\n",
       "<table border=\"1\" class=\"dataframe\">\n",
       "  <thead>\n",
       "    <tr style=\"text-align: right;\">\n",
       "      <th></th>\n",
       "      <th>Average</th>\n",
       "      <th>Stdev</th>\n",
       "    </tr>\n",
       "  </thead>\n",
       "  <tbody>\n",
       "    <tr>\n",
       "      <th>Trump</th>\n",
       "      <td>40.643890</td>\n",
       "      <td>23.566390</td>\n",
       "    </tr>\n",
       "    <tr>\n",
       "      <th>Clinton</th>\n",
       "      <td>42.733903</td>\n",
       "      <td>25.298731</td>\n",
       "    </tr>\n",
       "    <tr>\n",
       "      <th>Other</th>\n",
       "      <td>5.806011</td>\n",
       "      <td>5.009533</td>\n",
       "    </tr>\n",
       "    <tr>\n",
       "      <th>Undecided</th>\n",
       "      <td>9.315068</td>\n",
       "      <td>6.253118</td>\n",
       "    </tr>\n",
       "  </tbody>\n",
       "</table>\n",
       "</div>"
      ],
      "text/plain": [
       "             Average      Stdev\n",
       "Trump      40.643890  23.566390\n",
       "Clinton    42.733903  25.298731\n",
       "Other       5.806011   5.009533\n",
       "Undecided   9.315068   6.253118"
      ]
     },
     "execution_count": 27,
     "metadata": {},
     "output_type": "execute_result"
    }
   ],
   "source": [
    "avg = pd.DataFrame(poll_df.mean())\n",
    "avg.drop(['Number of Observations','Question Iteration'],axis=0,inplace=True)\n",
    "\n",
    "std = pd.DataFrame(poll_df.std())\n",
    "std.drop(['Number of Observations','Question Iteration'],axis=0,inplace=True)\n",
    "\n",
    "\n",
    "poll_avg = pd.concat([avg,std],axis=1)\n",
    "poll_avg.columns = ['Average','Stdev']\n",
    "poll_avg"
   ]
  },
  {
   "cell_type": "markdown",
   "metadata": {},
   "source": [
    "The race seems to be really close, with results in favour of Clinton with a higher standard deviation than for Trump.\n"
   ]
  },
  {
   "cell_type": "code",
   "execution_count": 87,
   "metadata": {},
   "outputs": [
    {
     "data": {
      "text/html": [
       "<div>\n",
       "<style scoped>\n",
       "    .dataframe tbody tr th:only-of-type {\n",
       "        vertical-align: middle;\n",
       "    }\n",
       "\n",
       "    .dataframe tbody tr th {\n",
       "        vertical-align: top;\n",
       "    }\n",
       "\n",
       "    .dataframe thead th {\n",
       "        text-align: right;\n",
       "    }\n",
       "</style>\n",
       "<table border=\"1\" class=\"dataframe\">\n",
       "  <thead>\n",
       "    <tr style=\"text-align: right;\">\n",
       "      <th></th>\n",
       "      <th>Start Date</th>\n",
       "      <th>Number of Observations</th>\n",
       "      <th>Trump</th>\n",
       "      <th>Clinton</th>\n",
       "      <th>Other</th>\n",
       "      <th>Undecided</th>\n",
       "      <th>Question Iteration</th>\n",
       "      <th>Difference</th>\n",
       "    </tr>\n",
       "  </thead>\n",
       "  <tbody>\n",
       "    <tr>\n",
       "      <th>0</th>\n",
       "      <td>2015-05-19</td>\n",
       "      <td>1046.00</td>\n",
       "      <td>34.25</td>\n",
       "      <td>48.75</td>\n",
       "      <td>2.5</td>\n",
       "      <td>14.00</td>\n",
       "      <td>1.0</td>\n",
       "      <td>0.1450</td>\n",
       "    </tr>\n",
       "    <tr>\n",
       "      <th>1</th>\n",
       "      <td>2015-06-20</td>\n",
       "      <td>420.75</td>\n",
       "      <td>35.00</td>\n",
       "      <td>47.25</td>\n",
       "      <td>NaN</td>\n",
       "      <td>17.75</td>\n",
       "      <td>1.0</td>\n",
       "      <td>0.1225</td>\n",
       "    </tr>\n",
       "    <tr>\n",
       "      <th>2</th>\n",
       "      <td>2015-06-21</td>\n",
       "      <td>1005.00</td>\n",
       "      <td>34.00</td>\n",
       "      <td>51.00</td>\n",
       "      <td>3.0</td>\n",
       "      <td>12.00</td>\n",
       "      <td>1.0</td>\n",
       "      <td>0.1700</td>\n",
       "    </tr>\n",
       "    <tr>\n",
       "      <th>3</th>\n",
       "      <td>2015-06-26</td>\n",
       "      <td>890.00</td>\n",
       "      <td>36.75</td>\n",
       "      <td>57.00</td>\n",
       "      <td>6.0</td>\n",
       "      <td>0.00</td>\n",
       "      <td>1.0</td>\n",
       "      <td>0.2025</td>\n",
       "    </tr>\n",
       "    <tr>\n",
       "      <th>4</th>\n",
       "      <td>2015-07-09</td>\n",
       "      <td>499.25</td>\n",
       "      <td>35.25</td>\n",
       "      <td>49.50</td>\n",
       "      <td>NaN</td>\n",
       "      <td>16.00</td>\n",
       "      <td>1.0</td>\n",
       "      <td>0.1425</td>\n",
       "    </tr>\n",
       "  </tbody>\n",
       "</table>\n",
       "</div>"
      ],
      "text/plain": [
       "   Start Date  Number of Observations  Trump  Clinton  Other  Undecided  \\\n",
       "0  2015-05-19                 1046.00  34.25    48.75    2.5      14.00   \n",
       "1  2015-06-20                  420.75  35.00    47.25    NaN      17.75   \n",
       "2  2015-06-21                 1005.00  34.00    51.00    3.0      12.00   \n",
       "3  2015-06-26                  890.00  36.75    57.00    6.0       0.00   \n",
       "4  2015-07-09                  499.25  35.25    49.50    NaN      16.00   \n",
       "\n",
       "   Question Iteration  Difference  \n",
       "0                 1.0      0.1450  \n",
       "1                 1.0      0.1225  \n",
       "2                 1.0      0.1700  \n",
       "3                 1.0      0.2025  \n",
       "4                 1.0      0.1425  "
      ]
     },
     "execution_count": 87,
     "metadata": {},
     "output_type": "execute_result"
    }
   ],
   "source": [
    "poll_df['Difference'] = (poll_df.Clinton - poll_df.Trump)/100\n",
    "\n",
    "poll_df.head()"
   ]
  },
  {
   "cell_type": "code",
   "execution_count": 90,
   "metadata": {},
   "outputs": [
    {
     "data": {
      "text/html": [
       "<div>\n",
       "<style scoped>\n",
       "    .dataframe tbody tr th:only-of-type {\n",
       "        vertical-align: middle;\n",
       "    }\n",
       "\n",
       "    .dataframe tbody tr th {\n",
       "        vertical-align: top;\n",
       "    }\n",
       "\n",
       "    .dataframe thead th {\n",
       "        text-align: right;\n",
       "    }\n",
       "</style>\n",
       "<table border=\"1\" class=\"dataframe\">\n",
       "  <thead>\n",
       "    <tr style=\"text-align: right;\">\n",
       "      <th></th>\n",
       "      <th>Start Date</th>\n",
       "      <th>Number of Observations</th>\n",
       "      <th>Trump</th>\n",
       "      <th>Clinton</th>\n",
       "      <th>Other</th>\n",
       "      <th>Undecided</th>\n",
       "      <th>Question Iteration</th>\n",
       "      <th>Difference</th>\n",
       "    </tr>\n",
       "  </thead>\n",
       "  <tbody>\n",
       "    <tr>\n",
       "      <th>237</th>\n",
       "      <td>2016-10-06</td>\n",
       "      <td>2363.000000</td>\n",
       "      <td>39.000000</td>\n",
       "      <td>39.545455</td>\n",
       "      <td>8.818182</td>\n",
       "      <td>7.727273</td>\n",
       "      <td>1.363636</td>\n",
       "      <td>0.005455</td>\n",
       "    </tr>\n",
       "    <tr>\n",
       "      <th>238</th>\n",
       "      <td>2016-10-07</td>\n",
       "      <td>567.500000</td>\n",
       "      <td>40.000000</td>\n",
       "      <td>42.500000</td>\n",
       "      <td>3.750000</td>\n",
       "      <td>8.500000</td>\n",
       "      <td>1.000000</td>\n",
       "      <td>0.025000</td>\n",
       "    </tr>\n",
       "    <tr>\n",
       "      <th>239</th>\n",
       "      <td>2016-10-08</td>\n",
       "      <td>623.307692</td>\n",
       "      <td>39.230769</td>\n",
       "      <td>43.230769</td>\n",
       "      <td>2.666667</td>\n",
       "      <td>9.846154</td>\n",
       "      <td>1.307692</td>\n",
       "      <td>0.040000</td>\n",
       "    </tr>\n",
       "    <tr>\n",
       "      <th>240</th>\n",
       "      <td>2016-10-09</td>\n",
       "      <td>1500.000000</td>\n",
       "      <td>39.000000</td>\n",
       "      <td>43.000000</td>\n",
       "      <td>6.000000</td>\n",
       "      <td>5.000000</td>\n",
       "      <td>1.000000</td>\n",
       "      <td>0.040000</td>\n",
       "    </tr>\n",
       "    <tr>\n",
       "      <th>241</th>\n",
       "      <td>2016-10-10</td>\n",
       "      <td>4098.266667</td>\n",
       "      <td>40.047619</td>\n",
       "      <td>43.476190</td>\n",
       "      <td>4.312500</td>\n",
       "      <td>8.050000</td>\n",
       "      <td>1.238095</td>\n",
       "      <td>0.034286</td>\n",
       "    </tr>\n",
       "    <tr>\n",
       "      <th>242</th>\n",
       "      <td>2016-10-11</td>\n",
       "      <td>699.000000</td>\n",
       "      <td>39.625000</td>\n",
       "      <td>42.875000</td>\n",
       "      <td>3.375000</td>\n",
       "      <td>8.500000</td>\n",
       "      <td>1.000000</td>\n",
       "      <td>0.032500</td>\n",
       "    </tr>\n",
       "    <tr>\n",
       "      <th>243</th>\n",
       "      <td>2016-10-12</td>\n",
       "      <td>612.600000</td>\n",
       "      <td>39.800000</td>\n",
       "      <td>47.300000</td>\n",
       "      <td>4.800000</td>\n",
       "      <td>4.200000</td>\n",
       "      <td>1.400000</td>\n",
       "      <td>0.075000</td>\n",
       "    </tr>\n",
       "    <tr>\n",
       "      <th>244</th>\n",
       "      <td>2016-10-13</td>\n",
       "      <td>932.800000</td>\n",
       "      <td>40.684211</td>\n",
       "      <td>39.578947</td>\n",
       "      <td>6.733333</td>\n",
       "      <td>9.263158</td>\n",
       "      <td>1.421053</td>\n",
       "      <td>-0.011053</td>\n",
       "    </tr>\n",
       "    <tr>\n",
       "      <th>245</th>\n",
       "      <td>2016-10-14</td>\n",
       "      <td>821.000000</td>\n",
       "      <td>40.285714</td>\n",
       "      <td>46.857143</td>\n",
       "      <td>4.285714</td>\n",
       "      <td>5.428571</td>\n",
       "      <td>1.142857</td>\n",
       "      <td>0.065714</td>\n",
       "    </tr>\n",
       "    <tr>\n",
       "      <th>246</th>\n",
       "      <td>2016-10-15</td>\n",
       "      <td>595.200000</td>\n",
       "      <td>40.375000</td>\n",
       "      <td>41.000000</td>\n",
       "      <td>4.750000</td>\n",
       "      <td>8.250000</td>\n",
       "      <td>1.000000</td>\n",
       "      <td>0.006250</td>\n",
       "    </tr>\n",
       "    <tr>\n",
       "      <th>247</th>\n",
       "      <td>2016-10-16</td>\n",
       "      <td>NaN</td>\n",
       "      <td>43.000000</td>\n",
       "      <td>40.000000</td>\n",
       "      <td>4.333333</td>\n",
       "      <td>6.000000</td>\n",
       "      <td>1.000000</td>\n",
       "      <td>-0.030000</td>\n",
       "    </tr>\n",
       "    <tr>\n",
       "      <th>248</th>\n",
       "      <td>2016-10-17</td>\n",
       "      <td>7111.200000</td>\n",
       "      <td>42.076923</td>\n",
       "      <td>46.769231</td>\n",
       "      <td>3.666667</td>\n",
       "      <td>4.583333</td>\n",
       "      <td>1.076923</td>\n",
       "      <td>0.046923</td>\n",
       "    </tr>\n",
       "    <tr>\n",
       "      <th>249</th>\n",
       "      <td>2016-10-18</td>\n",
       "      <td>692.000000</td>\n",
       "      <td>40.500000</td>\n",
       "      <td>43.000000</td>\n",
       "      <td>7.500000</td>\n",
       "      <td>4.000000</td>\n",
       "      <td>1.000000</td>\n",
       "      <td>0.025000</td>\n",
       "    </tr>\n",
       "    <tr>\n",
       "      <th>250</th>\n",
       "      <td>2016-10-19</td>\n",
       "      <td>697.250000</td>\n",
       "      <td>39.000000</td>\n",
       "      <td>42.625000</td>\n",
       "      <td>4.250000</td>\n",
       "      <td>12.000000</td>\n",
       "      <td>1.500000</td>\n",
       "      <td>0.036250</td>\n",
       "    </tr>\n",
       "    <tr>\n",
       "      <th>251</th>\n",
       "      <td>2016-10-20</td>\n",
       "      <td>862.062500</td>\n",
       "      <td>39.964286</td>\n",
       "      <td>43.750000</td>\n",
       "      <td>6.050000</td>\n",
       "      <td>7.857143</td>\n",
       "      <td>1.285714</td>\n",
       "      <td>0.037857</td>\n",
       "    </tr>\n",
       "    <tr>\n",
       "      <th>252</th>\n",
       "      <td>2016-10-21</td>\n",
       "      <td>1009.500000</td>\n",
       "      <td>37.333333</td>\n",
       "      <td>47.333333</td>\n",
       "      <td>4.000000</td>\n",
       "      <td>5.000000</td>\n",
       "      <td>1.000000</td>\n",
       "      <td>0.100000</td>\n",
       "    </tr>\n",
       "    <tr>\n",
       "      <th>253</th>\n",
       "      <td>2016-10-22</td>\n",
       "      <td>832.000000</td>\n",
       "      <td>41.900000</td>\n",
       "      <td>42.900000</td>\n",
       "      <td>3.400000</td>\n",
       "      <td>6.100000</td>\n",
       "      <td>1.000000</td>\n",
       "      <td>0.010000</td>\n",
       "    </tr>\n",
       "    <tr>\n",
       "      <th>254</th>\n",
       "      <td>2016-10-23</td>\n",
       "      <td>875.000000</td>\n",
       "      <td>39.000000</td>\n",
       "      <td>43.000000</td>\n",
       "      <td>2.000000</td>\n",
       "      <td>10.000000</td>\n",
       "      <td>1.000000</td>\n",
       "      <td>0.040000</td>\n",
       "    </tr>\n",
       "    <tr>\n",
       "      <th>255</th>\n",
       "      <td>2016-10-24</td>\n",
       "      <td>20992.500000</td>\n",
       "      <td>43.750000</td>\n",
       "      <td>47.750000</td>\n",
       "      <td>3.333333</td>\n",
       "      <td>3.666667</td>\n",
       "      <td>1.250000</td>\n",
       "      <td>0.040000</td>\n",
       "    </tr>\n",
       "    <tr>\n",
       "      <th>256</th>\n",
       "      <td>2016-10-25</td>\n",
       "      <td>1500.000000</td>\n",
       "      <td>45.000000</td>\n",
       "      <td>45.000000</td>\n",
       "      <td>4.000000</td>\n",
       "      <td>2.000000</td>\n",
       "      <td>1.000000</td>\n",
       "      <td>0.000000</td>\n",
       "    </tr>\n",
       "    <tr>\n",
       "      <th>257</th>\n",
       "      <td>2016-10-26</td>\n",
       "      <td>1280.000000</td>\n",
       "      <td>42.500000</td>\n",
       "      <td>44.500000</td>\n",
       "      <td>3.500000</td>\n",
       "      <td>5.000000</td>\n",
       "      <td>1.000000</td>\n",
       "      <td>0.020000</td>\n",
       "    </tr>\n",
       "    <tr>\n",
       "      <th>258</th>\n",
       "      <td>2016-10-27</td>\n",
       "      <td>1249.000000</td>\n",
       "      <td>47.000000</td>\n",
       "      <td>52.000000</td>\n",
       "      <td>NaN</td>\n",
       "      <td>1.000000</td>\n",
       "      <td>1.000000</td>\n",
       "      <td>0.050000</td>\n",
       "    </tr>\n",
       "    <tr>\n",
       "      <th>259</th>\n",
       "      <td>2016-10-28</td>\n",
       "      <td>1333.000000</td>\n",
       "      <td>44.125000</td>\n",
       "      <td>44.250000</td>\n",
       "      <td>5.000000</td>\n",
       "      <td>4.375000</td>\n",
       "      <td>1.500000</td>\n",
       "      <td>0.001250</td>\n",
       "    </tr>\n",
       "    <tr>\n",
       "      <th>260</th>\n",
       "      <td>2016-10-29</td>\n",
       "      <td>883.777778</td>\n",
       "      <td>41.333333</td>\n",
       "      <td>42.666667</td>\n",
       "      <td>4.600000</td>\n",
       "      <td>9.222222</td>\n",
       "      <td>1.444444</td>\n",
       "      <td>0.013333</td>\n",
       "    </tr>\n",
       "    <tr>\n",
       "      <th>261</th>\n",
       "      <td>2016-10-30</td>\n",
       "      <td>859.285714</td>\n",
       "      <td>45.714286</td>\n",
       "      <td>43.428571</td>\n",
       "      <td>3.714286</td>\n",
       "      <td>3.714286</td>\n",
       "      <td>1.000000</td>\n",
       "      <td>-0.022857</td>\n",
       "    </tr>\n",
       "    <tr>\n",
       "      <th>262</th>\n",
       "      <td>2016-10-31</td>\n",
       "      <td>30546.600000</td>\n",
       "      <td>45.200000</td>\n",
       "      <td>48.600000</td>\n",
       "      <td>3.333333</td>\n",
       "      <td>3.333333</td>\n",
       "      <td>1.400000</td>\n",
       "      <td>0.034000</td>\n",
       "    </tr>\n",
       "    <tr>\n",
       "      <th>263</th>\n",
       "      <td>2016-11-01</td>\n",
       "      <td>734.125000</td>\n",
       "      <td>45.500000</td>\n",
       "      <td>43.571429</td>\n",
       "      <td>4.642857</td>\n",
       "      <td>2.384615</td>\n",
       "      <td>1.285714</td>\n",
       "      <td>-0.019286</td>\n",
       "    </tr>\n",
       "    <tr>\n",
       "      <th>264</th>\n",
       "      <td>2016-11-02</td>\n",
       "      <td>1748.400000</td>\n",
       "      <td>40.823529</td>\n",
       "      <td>42.411765</td>\n",
       "      <td>6.941176</td>\n",
       "      <td>6.823529</td>\n",
       "      <td>1.470588</td>\n",
       "      <td>0.015882</td>\n",
       "    </tr>\n",
       "    <tr>\n",
       "      <th>265</th>\n",
       "      <td>2016-11-03</td>\n",
       "      <td>1386.250000</td>\n",
       "      <td>43.285714</td>\n",
       "      <td>46.428571</td>\n",
       "      <td>4.428571</td>\n",
       "      <td>2.000000</td>\n",
       "      <td>1.000000</td>\n",
       "      <td>0.031429</td>\n",
       "    </tr>\n",
       "    <tr>\n",
       "      <th>266</th>\n",
       "      <td>2016-11-04</td>\n",
       "      <td>1144.461538</td>\n",
       "      <td>43.052632</td>\n",
       "      <td>43.789474</td>\n",
       "      <td>4.052632</td>\n",
       "      <td>4.578947</td>\n",
       "      <td>1.052632</td>\n",
       "      <td>0.007368</td>\n",
       "    </tr>\n",
       "  </tbody>\n",
       "</table>\n",
       "</div>"
      ],
      "text/plain": [
       "     Start Date  Number of Observations      Trump    Clinton     Other  \\\n",
       "237  2016-10-06             2363.000000  39.000000  39.545455  8.818182   \n",
       "238  2016-10-07              567.500000  40.000000  42.500000  3.750000   \n",
       "239  2016-10-08              623.307692  39.230769  43.230769  2.666667   \n",
       "240  2016-10-09             1500.000000  39.000000  43.000000  6.000000   \n",
       "241  2016-10-10             4098.266667  40.047619  43.476190  4.312500   \n",
       "242  2016-10-11              699.000000  39.625000  42.875000  3.375000   \n",
       "243  2016-10-12              612.600000  39.800000  47.300000  4.800000   \n",
       "244  2016-10-13              932.800000  40.684211  39.578947  6.733333   \n",
       "245  2016-10-14              821.000000  40.285714  46.857143  4.285714   \n",
       "246  2016-10-15              595.200000  40.375000  41.000000  4.750000   \n",
       "247  2016-10-16                     NaN  43.000000  40.000000  4.333333   \n",
       "248  2016-10-17             7111.200000  42.076923  46.769231  3.666667   \n",
       "249  2016-10-18              692.000000  40.500000  43.000000  7.500000   \n",
       "250  2016-10-19              697.250000  39.000000  42.625000  4.250000   \n",
       "251  2016-10-20              862.062500  39.964286  43.750000  6.050000   \n",
       "252  2016-10-21             1009.500000  37.333333  47.333333  4.000000   \n",
       "253  2016-10-22              832.000000  41.900000  42.900000  3.400000   \n",
       "254  2016-10-23              875.000000  39.000000  43.000000  2.000000   \n",
       "255  2016-10-24            20992.500000  43.750000  47.750000  3.333333   \n",
       "256  2016-10-25             1500.000000  45.000000  45.000000  4.000000   \n",
       "257  2016-10-26             1280.000000  42.500000  44.500000  3.500000   \n",
       "258  2016-10-27             1249.000000  47.000000  52.000000       NaN   \n",
       "259  2016-10-28             1333.000000  44.125000  44.250000  5.000000   \n",
       "260  2016-10-29              883.777778  41.333333  42.666667  4.600000   \n",
       "261  2016-10-30              859.285714  45.714286  43.428571  3.714286   \n",
       "262  2016-10-31            30546.600000  45.200000  48.600000  3.333333   \n",
       "263  2016-11-01              734.125000  45.500000  43.571429  4.642857   \n",
       "264  2016-11-02             1748.400000  40.823529  42.411765  6.941176   \n",
       "265  2016-11-03             1386.250000  43.285714  46.428571  4.428571   \n",
       "266  2016-11-04             1144.461538  43.052632  43.789474  4.052632   \n",
       "\n",
       "     Undecided  Question Iteration  Difference  \n",
       "237   7.727273            1.363636    0.005455  \n",
       "238   8.500000            1.000000    0.025000  \n",
       "239   9.846154            1.307692    0.040000  \n",
       "240   5.000000            1.000000    0.040000  \n",
       "241   8.050000            1.238095    0.034286  \n",
       "242   8.500000            1.000000    0.032500  \n",
       "243   4.200000            1.400000    0.075000  \n",
       "244   9.263158            1.421053   -0.011053  \n",
       "245   5.428571            1.142857    0.065714  \n",
       "246   8.250000            1.000000    0.006250  \n",
       "247   6.000000            1.000000   -0.030000  \n",
       "248   4.583333            1.076923    0.046923  \n",
       "249   4.000000            1.000000    0.025000  \n",
       "250  12.000000            1.500000    0.036250  \n",
       "251   7.857143            1.285714    0.037857  \n",
       "252   5.000000            1.000000    0.100000  \n",
       "253   6.100000            1.000000    0.010000  \n",
       "254  10.000000            1.000000    0.040000  \n",
       "255   3.666667            1.250000    0.040000  \n",
       "256   2.000000            1.000000    0.000000  \n",
       "257   5.000000            1.000000    0.020000  \n",
       "258   1.000000            1.000000    0.050000  \n",
       "259   4.375000            1.500000    0.001250  \n",
       "260   9.222222            1.444444    0.013333  \n",
       "261   3.714286            1.000000   -0.022857  \n",
       "262   3.333333            1.400000    0.034000  \n",
       "263   2.384615            1.285714   -0.019286  \n",
       "264   6.823529            1.470588    0.015882  \n",
       "265   2.000000            1.000000    0.031429  \n",
       "266   4.578947            1.052632    0.007368  "
      ]
     },
     "execution_count": 90,
     "metadata": {},
     "output_type": "execute_result"
    }
   ],
   "source": [
    "poll_df.tail(30)"
   ]
  },
  {
   "cell_type": "code",
   "execution_count": 88,
   "metadata": {},
   "outputs": [
    {
     "data": {
      "text/plain": [
       "<matplotlib.axes._subplots.AxesSubplot at 0x17949af0>"
      ]
     },
     "execution_count": 88,
     "metadata": {},
     "output_type": "execute_result"
    },
    {
     "data": {
      "image/png": "[encoded data removed]",
      "text/plain": [
       "<Figure size 1080x288 with 1 Axes>"
      ]
     },
     "metadata": {},
     "output_type": "display_data"
    }
   ],
   "source": [
    "poll_df.plot('Start Date','Difference',figsize=(15,4),marker='o',linestyle='-')"
   ]
  },
  {
   "cell_type": "markdown",
   "metadata": {},
   "source": [
    "The difference is Clinton - Trump. So a positive difference indicates a Clinton lead, and a negative difference indicates a Trump lead.\n",
    "The visualisation indicates that Clinton has a slight lead in the polls, on average."
   ]
  },
  {
   "cell_type": "markdown",
   "metadata": {},
   "source": [
    "# In Network, Trump had a distinct advantage,people more like to discuss Trump on internet, so trump enjoy high popularity, but Clinton had a distinct advantage in Poll all time."
   ]
  },
  {
   "cell_type": "code",
   "execution_count": null,
   "metadata": {},
   "outputs": [],
   "source": []
  }
 ],
 "metadata": {
  "kernelspec": {
   "display_name": "Python 3",
   "language": "python",
   "name": "python3"
  },
  "language_info": {
   "codemirror_mode": {
    "name": "ipython",
    "version": 3
   },
   "file_extension": ".py",
   "mimetype": "text/x-python",
   "name": "python",
   "nbconvert_exporter": "python",
   "pygments_lexer": "ipython3",
   "version": "3.6.5"
  }
 },
 "nbformat": 4,
 "nbformat_minor": 2
}

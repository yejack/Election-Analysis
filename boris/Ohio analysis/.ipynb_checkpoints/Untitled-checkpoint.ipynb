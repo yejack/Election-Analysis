{
 "cells": [
  {
   "cell_type": "code",
   "execution_count": 78,
   "metadata": {},
   "outputs": [
    {
     "data": {
      "text/html": [
       "\n",
       "    <div class=\"bk-root\">\n",
       "        <a href=\"https://bokeh.pydata.org\" target=\"_blank\" class=\"bk-logo bk-logo-small bk-logo-notebook\"></a>\n",
       "        <span id=\"ecc56dc5-2ab9-4bde-9f8e-cfc8cc7f0ac0\">Loading BokehJS ...</span>\n",
       "    </div>"
      ]
     },
     "metadata": {},
     "output_type": "display_data"
    },
    {
     "data": {
      "application/javascript": [
       "\n",
       "(function(root) {\n",
       "  function now() {\n",
       "    return new Date();\n",
       "  }\n",
       "\n",
       "  var force = true;\n",
       "\n",
       "  if (typeof (root._bokeh_onload_callbacks) === \"undefined\" || force === true) {\n",
       "    root._bokeh_onload_callbacks = [];\n",
       "    root._bokeh_is_loading = undefined;\n",
       "  }\n",
       "\n",
       "  var JS_MIME_TYPE = 'application/javascript';\n",
       "  var HTML_MIME_TYPE = 'text/html';\n",
       "  var EXEC_MIME_TYPE = 'application/vnd.bokehjs_exec.v0+json';\n",
       "  var CLASS_NAME = 'output_bokeh rendered_html';\n",
       "\n",
       "  /**\n",
       "   * Render data to the DOM node\n",
       "   */\n",
       "  function render(props, node) {\n",
       "    var script = document.createElement(\"script\");\n",
       "    node.appendChild(script);\n",
       "  }\n",
       "\n",
       "  /**\n",
       "   * Handle when an output is cleared or removed\n",
       "   */\n",
       "  function handleClearOutput(event, handle) {\n",
       "    var cell = handle.cell;\n",
       "\n",
       "    var id = cell.output_area._bokeh_element_id;\n",
       "    var server_id = cell.output_area._bokeh_server_id;\n",
       "    // Clean up Bokeh references\n",
       "    if (id !== undefined) {\n",
       "      Bokeh.index[id].model.document.clear();\n",
       "      delete Bokeh.index[id];\n",
       "    }\n",
       "\n",
       "    if (server_id !== undefined) {\n",
       "      // Clean up Bokeh references\n",
       "      var cmd = \"from bokeh.io.state import curstate; print(curstate().uuid_to_server['\" + server_id + \"'].get_sessions()[0].document.roots[0]._id)\";\n",
       "      cell.notebook.kernel.execute(cmd, {\n",
       "        iopub: {\n",
       "          output: function(msg) {\n",
       "            var element_id = msg.content.text.trim();\n",
       "            Bokeh.index[element_id].model.document.clear();\n",
       "            delete Bokeh.index[element_id];\n",
       "          }\n",
       "        }\n",
       "      });\n",
       "      // Destroy server and session\n",
       "      var cmd = \"import bokeh.io.notebook as ion; ion.destroy_server('\" + server_id + \"')\";\n",
       "      cell.notebook.kernel.execute(cmd);\n",
       "    }\n",
       "  }\n",
       "\n",
       "  /**\n",
       "   * Handle when a new output is added\n",
       "   */\n",
       "  function handleAddOutput(event, handle) {\n",
       "    var output_area = handle.output_area;\n",
       "    var output = handle.output;\n",
       "\n",
       "    // limit handleAddOutput to display_data with EXEC_MIME_TYPE content only\n",
       "    if ((output.output_type != \"display_data\") || (!output.data.hasOwnProperty(EXEC_MIME_TYPE))) {\n",
       "      return\n",
       "    }\n",
       "\n",
       "    var toinsert = output_area.element.find(\".\" + CLASS_NAME.split(' ')[0]);\n",
       "\n",
       "    if (output.metadata[EXEC_MIME_TYPE][\"id\"] !== undefined) {\n",
       "      toinsert[toinsert.length - 1].firstChild.textContent = output.data[JS_MIME_TYPE];\n",
       "      // store reference to embed id on output_area\n",
       "      output_area._bokeh_element_id = output.metadata[EXEC_MIME_TYPE][\"id\"];\n",
       "    }\n",
       "    if (output.metadata[EXEC_MIME_TYPE][\"server_id\"] !== undefined) {\n",
       "      var bk_div = document.createElement(\"div\");\n",
       "      bk_div.innerHTML = output.data[HTML_MIME_TYPE];\n",
       "      var script_attrs = bk_div.children[0].attributes;\n",
       "      for (var i = 0; i < script_attrs.length; i++) {\n",
       "        toinsert[toinsert.length - 1].firstChild.setAttribute(script_attrs[i].name, script_attrs[i].value);\n",
       "      }\n",
       "      // store reference to server id on output_area\n",
       "      output_area._bokeh_server_id = output.metadata[EXEC_MIME_TYPE][\"server_id\"];\n",
       "    }\n",
       "  }\n",
       "\n",
       "  function register_renderer(events, OutputArea) {\n",
       "\n",
       "    function append_mime(data, metadata, element) {\n",
       "      // create a DOM node to render to\n",
       "      var toinsert = this.create_output_subarea(\n",
       "        metadata,\n",
       "        CLASS_NAME,\n",
       "        EXEC_MIME_TYPE\n",
       "      );\n",
       "      this.keyboard_manager.register_events(toinsert);\n",
       "      // Render to node\n",
       "      var props = {data: data, metadata: metadata[EXEC_MIME_TYPE]};\n",
       "      render(props, toinsert[toinsert.length - 1]);\n",
       "      element.append(toinsert);\n",
       "      return toinsert\n",
       "    }\n",
       "\n",
       "    /* Handle when an output is cleared or removed */\n",
       "    events.on('clear_output.CodeCell', handleClearOutput);\n",
       "    events.on('delete.Cell', handleClearOutput);\n",
       "\n",
       "    /* Handle when a new output is added */\n",
       "    events.on('output_added.OutputArea', handleAddOutput);\n",
       "\n",
       "    /**\n",
       "     * Register the mime type and append_mime function with output_area\n",
       "     */\n",
       "    OutputArea.prototype.register_mime_type(EXEC_MIME_TYPE, append_mime, {\n",
       "      /* Is output safe? */\n",
       "      safe: true,\n",
       "      /* Index of renderer in `output_area.display_order` */\n",
       "      index: 0\n",
       "    });\n",
       "  }\n",
       "\n",
       "  // register the mime type if in Jupyter Notebook environment and previously unregistered\n",
       "  if (root.Jupyter !== undefined) {\n",
       "    var events = require('base/js/events');\n",
       "    var OutputArea = require('notebook/js/outputarea').OutputArea;\n",
       "\n",
       "    if (OutputArea.prototype.mime_types().indexOf(EXEC_MIME_TYPE) == -1) {\n",
       "      register_renderer(events, OutputArea);\n",
       "    }\n",
       "  }\n",
       "\n",
       "  \n",
       "  if (typeof (root._bokeh_timeout) === \"undefined\" || force === true) {\n",
       "    root._bokeh_timeout = Date.now() + 5000;\n",
       "    root._bokeh_failed_load = false;\n",
       "  }\n",
       "\n",
       "  var NB_LOAD_WARNING = {'data': {'text/html':\n",
       "     \"<div style='background-color: #fdd'>\\n\"+\n",
       "     \"<p>\\n\"+\n",
       "     \"BokehJS does not appear to have successfully loaded. If loading BokehJS from CDN, this \\n\"+\n",
       "     \"may be due to a slow or bad network connection. Possible fixes:\\n\"+\n",
       "     \"</p>\\n\"+\n",
       "     \"<ul>\\n\"+\n",
       "     \"<li>re-rerun `output_notebook()` to attempt to load from CDN again, or</li>\\n\"+\n",
       "     \"<li>use INLINE resources instead, as so:</li>\\n\"+\n",
       "     \"</ul>\\n\"+\n",
       "     \"<code>\\n\"+\n",
       "     \"from bokeh.resources import INLINE\\n\"+\n",
       "     \"output_notebook(resources=INLINE)\\n\"+\n",
       "     \"</code>\\n\"+\n",
       "     \"</div>\"}};\n",
       "\n",
       "  function display_loaded() {\n",
       "    var el = document.getElementById(\"ecc56dc5-2ab9-4bde-9f8e-cfc8cc7f0ac0\");\n",
       "    if (el != null) {\n",
       "      el.textContent = \"BokehJS is loading...\";\n",
       "    }\n",
       "    if (root.Bokeh !== undefined) {\n",
       "      if (el != null) {\n",
       "        el.textContent = \"BokehJS \" + root.Bokeh.version + \" successfully loaded.\";\n",
       "      }\n",
       "    } else if (Date.now() < root._bokeh_timeout) {\n",
       "      setTimeout(display_loaded, 100)\n",
       "    }\n",
       "  }\n",
       "\n",
       "\n",
       "  function run_callbacks() {\n",
       "    try {\n",
       "      root._bokeh_onload_callbacks.forEach(function(callback) { callback() });\n",
       "    }\n",
       "    finally {\n",
       "      delete root._bokeh_onload_callbacks\n",
       "    }\n",
       "    console.info(\"Bokeh: all callbacks have finished\");\n",
       "  }\n",
       "\n",
       "  function load_libs(js_urls, callback) {\n",
       "    root._bokeh_onload_callbacks.push(callback);\n",
       "    if (root._bokeh_is_loading > 0) {\n",
       "      console.log(\"Bokeh: BokehJS is being loaded, scheduling callback at\", now());\n",
       "      return null;\n",
       "    }\n",
       "    if (js_urls == null || js_urls.length === 0) {\n",
       "      run_callbacks();\n",
       "      return null;\n",
       "    }\n",
       "    console.log(\"Bokeh: BokehJS not loaded, scheduling load and callback at\", now());\n",
       "    root._bokeh_is_loading = js_urls.length;\n",
       "    for (var i = 0; i < js_urls.length; i++) {\n",
       "      var url = js_urls[i];\n",
       "      var s = document.createElement('script');\n",
       "      s.src = url;\n",
       "      s.async = false;\n",
       "      s.onreadystatechange = s.onload = function() {\n",
       "        root._bokeh_is_loading--;\n",
       "        if (root._bokeh_is_loading === 0) {\n",
       "          console.log(\"Bokeh: all BokehJS libraries loaded\");\n",
       "          run_callbacks()\n",
       "        }\n",
       "      };\n",
       "      s.onerror = function() {\n",
       "        console.warn(\"failed to load library \" + url);\n",
       "      };\n",
       "      console.log(\"Bokeh: injecting script tag for BokehJS library: \", url);\n",
       "      document.getElementsByTagName(\"head\")[0].appendChild(s);\n",
       "    }\n",
       "  };var element = document.getElementById(\"ecc56dc5-2ab9-4bde-9f8e-cfc8cc7f0ac0\");\n",
       "  if (element == null) {\n",
       "    console.log(\"Bokeh: ERROR: autoload.js configured with elementid 'ecc56dc5-2ab9-4bde-9f8e-cfc8cc7f0ac0' but no matching script tag was found. \")\n",
       "    return false;\n",
       "  }\n",
       "\n",
       "  var js_urls = [\"https://cdn.pydata.org/bokeh/release/bokeh-0.12.16.min.js\", \"https://cdn.pydata.org/bokeh/release/bokeh-widgets-0.12.16.min.js\", \"https://cdn.pydata.org/bokeh/release/bokeh-tables-0.12.16.min.js\", \"https://cdn.pydata.org/bokeh/release/bokeh-gl-0.12.16.min.js\"];\n",
       "\n",
       "  var inline_js = [\n",
       "    function(Bokeh) {\n",
       "      Bokeh.set_log_level(\"info\");\n",
       "    },\n",
       "    \n",
       "    function(Bokeh) {\n",
       "      \n",
       "    },\n",
       "    function(Bokeh) {\n",
       "      console.log(\"Bokeh: injecting CSS: https://cdn.pydata.org/bokeh/release/bokeh-0.12.16.min.css\");\n",
       "      Bokeh.embed.inject_css(\"https://cdn.pydata.org/bokeh/release/bokeh-0.12.16.min.css\");\n",
       "      console.log(\"Bokeh: injecting CSS: https://cdn.pydata.org/bokeh/release/bokeh-widgets-0.12.16.min.css\");\n",
       "      Bokeh.embed.inject_css(\"https://cdn.pydata.org/bokeh/release/bokeh-widgets-0.12.16.min.css\");\n",
       "      console.log(\"Bokeh: injecting CSS: https://cdn.pydata.org/bokeh/release/bokeh-tables-0.12.16.min.css\");\n",
       "      Bokeh.embed.inject_css(\"https://cdn.pydata.org/bokeh/release/bokeh-tables-0.12.16.min.css\");\n",
       "    }\n",
       "  ];\n",
       "\n",
       "  function run_inline_js() {\n",
       "    \n",
       "    if ((root.Bokeh !== undefined) || (force === true)) {\n",
       "      for (var i = 0; i < inline_js.length; i++) {\n",
       "        inline_js[i].call(root, root.Bokeh);\n",
       "      }if (force === true) {\n",
       "        display_loaded();\n",
       "      }} else if (Date.now() < root._bokeh_timeout) {\n",
       "      setTimeout(run_inline_js, 100);\n",
       "    } else if (!root._bokeh_failed_load) {\n",
       "      console.log(\"Bokeh: BokehJS failed to load within specified timeout.\");\n",
       "      root._bokeh_failed_load = true;\n",
       "    } else if (force !== true) {\n",
       "      var cell = $(document.getElementById(\"ecc56dc5-2ab9-4bde-9f8e-cfc8cc7f0ac0\")).parents('.cell').data().cell;\n",
       "      cell.output_area.append_execute_result(NB_LOAD_WARNING)\n",
       "    }\n",
       "\n",
       "  }\n",
       "\n",
       "  if (root._bokeh_is_loading === 0) {\n",
       "    console.log(\"Bokeh: BokehJS loaded, going straight to plotting\");\n",
       "    run_inline_js();\n",
       "  } else {\n",
       "    load_libs(js_urls, function() {\n",
       "      console.log(\"Bokeh: BokehJS plotting callback run at\", now());\n",
       "      run_inline_js();\n",
       "    });\n",
       "  }\n",
       "}(window));"
      ],
      "application/vnd.bokehjs_load.v0+json": "\n(function(root) {\n  function now() {\n    return new Date();\n  }\n\n  var force = true;\n\n  if (typeof (root._bokeh_onload_callbacks) === \"undefined\" || force === true) {\n    root._bokeh_onload_callbacks = [];\n    root._bokeh_is_loading = undefined;\n  }\n\n  \n\n  \n  if (typeof (root._bokeh_timeout) === \"undefined\" || force === true) {\n    root._bokeh_timeout = Date.now() + 5000;\n    root._bokeh_failed_load = false;\n  }\n\n  var NB_LOAD_WARNING = {'data': {'text/html':\n     \"<div style='background-color: #fdd'>\\n\"+\n     \"<p>\\n\"+\n     \"BokehJS does not appear to have successfully loaded. If loading BokehJS from CDN, this \\n\"+\n     \"may be due to a slow or bad network connection. Possible fixes:\\n\"+\n     \"</p>\\n\"+\n     \"<ul>\\n\"+\n     \"<li>re-rerun `output_notebook()` to attempt to load from CDN again, or</li>\\n\"+\n     \"<li>use INLINE resources instead, as so:</li>\\n\"+\n     \"</ul>\\n\"+\n     \"<code>\\n\"+\n     \"from bokeh.resources import INLINE\\n\"+\n     \"output_notebook(resources=INLINE)\\n\"+\n     \"</code>\\n\"+\n     \"</div>\"}};\n\n  function display_loaded() {\n    var el = document.getElementById(\"ecc56dc5-2ab9-4bde-9f8e-cfc8cc7f0ac0\");\n    if (el != null) {\n      el.textContent = \"BokehJS is loading...\";\n    }\n    if (root.Bokeh !== undefined) {\n      if (el != null) {\n        el.textContent = \"BokehJS \" + root.Bokeh.version + \" successfully loaded.\";\n      }\n    } else if (Date.now() < root._bokeh_timeout) {\n      setTimeout(display_loaded, 100)\n    }\n  }\n\n\n  function run_callbacks() {\n    try {\n      root._bokeh_onload_callbacks.forEach(function(callback) { callback() });\n    }\n    finally {\n      delete root._bokeh_onload_callbacks\n    }\n    console.info(\"Bokeh: all callbacks have finished\");\n  }\n\n  function load_libs(js_urls, callback) {\n    root._bokeh_onload_callbacks.push(callback);\n    if (root._bokeh_is_loading > 0) {\n      console.log(\"Bokeh: BokehJS is being loaded, scheduling callback at\", now());\n      return null;\n    }\n    if (js_urls == null || js_urls.length === 0) {\n      run_callbacks();\n      return null;\n    }\n    console.log(\"Bokeh: BokehJS not loaded, scheduling load and callback at\", now());\n    root._bokeh_is_loading = js_urls.length;\n    for (var i = 0; i < js_urls.length; i++) {\n      var url = js_urls[i];\n      var s = document.createElement('script');\n      s.src = url;\n      s.async = false;\n      s.onreadystatechange = s.onload = function() {\n        root._bokeh_is_loading--;\n        if (root._bokeh_is_loading === 0) {\n          console.log(\"Bokeh: all BokehJS libraries loaded\");\n          run_callbacks()\n        }\n      };\n      s.onerror = function() {\n        console.warn(\"failed to load library \" + url);\n      };\n      console.log(\"Bokeh: injecting script tag for BokehJS library: \", url);\n      document.getElementsByTagName(\"head\")[0].appendChild(s);\n    }\n  };var element = document.getElementById(\"ecc56dc5-2ab9-4bde-9f8e-cfc8cc7f0ac0\");\n  if (element == null) {\n    console.log(\"Bokeh: ERROR: autoload.js configured with elementid 'ecc56dc5-2ab9-4bde-9f8e-cfc8cc7f0ac0' but no matching script tag was found. \")\n    return false;\n  }\n\n  var js_urls = [\"https://cdn.pydata.org/bokeh/release/bokeh-0.12.16.min.js\", \"https://cdn.pydata.org/bokeh/release/bokeh-widgets-0.12.16.min.js\", \"https://cdn.pydata.org/bokeh/release/bokeh-tables-0.12.16.min.js\", \"https://cdn.pydata.org/bokeh/release/bokeh-gl-0.12.16.min.js\"];\n\n  var inline_js = [\n    function(Bokeh) {\n      Bokeh.set_log_level(\"info\");\n    },\n    \n    function(Bokeh) {\n      \n    },\n    function(Bokeh) {\n      console.log(\"Bokeh: injecting CSS: https://cdn.pydata.org/bokeh/release/bokeh-0.12.16.min.css\");\n      Bokeh.embed.inject_css(\"https://cdn.pydata.org/bokeh/release/bokeh-0.12.16.min.css\");\n      console.log(\"Bokeh: injecting CSS: https://cdn.pydata.org/bokeh/release/bokeh-widgets-0.12.16.min.css\");\n      Bokeh.embed.inject_css(\"https://cdn.pydata.org/bokeh/release/bokeh-widgets-0.12.16.min.css\");\n      console.log(\"Bokeh: injecting CSS: https://cdn.pydata.org/bokeh/release/bokeh-tables-0.12.16.min.css\");\n      Bokeh.embed.inject_css(\"https://cdn.pydata.org/bokeh/release/bokeh-tables-0.12.16.min.css\");\n    }\n  ];\n\n  function run_inline_js() {\n    \n    if ((root.Bokeh !== undefined) || (force === true)) {\n      for (var i = 0; i < inline_js.length; i++) {\n        inline_js[i].call(root, root.Bokeh);\n      }if (force === true) {\n        display_loaded();\n      }} else if (Date.now() < root._bokeh_timeout) {\n      setTimeout(run_inline_js, 100);\n    } else if (!root._bokeh_failed_load) {\n      console.log(\"Bokeh: BokehJS failed to load within specified timeout.\");\n      root._bokeh_failed_load = true;\n    } else if (force !== true) {\n      var cell = $(document.getElementById(\"ecc56dc5-2ab9-4bde-9f8e-cfc8cc7f0ac0\")).parents('.cell').data().cell;\n      cell.output_area.append_execute_result(NB_LOAD_WARNING)\n    }\n\n  }\n\n  if (root._bokeh_is_loading === 0) {\n    console.log(\"Bokeh: BokehJS loaded, going straight to plotting\");\n    run_inline_js();\n  } else {\n    load_libs(js_urls, function() {\n      console.log(\"Bokeh: BokehJS plotting callback run at\", now());\n      run_inline_js();\n    });\n  }\n}(window));"
     },
     "metadata": {},
     "output_type": "display_data"
    }
   ],
   "source": [
    "import gzip as gz\n",
    "import os\n",
    "from io import StringIO\n",
    "import pandas as pd\n",
    "import datetime as DT\n",
    "import numpy as np\n",
    "import itertools\n",
    "\n",
    "from bokeh.io import show, output_notebook\n",
    "from bokeh.models import FactorRange\n",
    "from bokeh.plotting import figure\n",
    "\n",
    "from sklearn.linear_model import LogisticRegression\n",
    "from sklearn.tree import DecisionTreeClassifier\n",
    "from sklearn.ensemble import RandomForestClassifier, GradientBoostingClassifier\n",
    "from sklearn.metrics import accuracy_score, recall_score, precision_score, confusion_matrix\n",
    "from sklearn.metrics import roc_curve, roc_auc_score\n",
    "from sklearn.model_selection import KFold, train_test_split, GridSearchCV, RandomizedSearchCV, GridSearchCV\n",
    "\n",
    "import matplotlib.pyplot as plt\n",
    "from mpl_toolkits.mplot3d import Axes3D\n",
    "\n",
    "output_notebook()\n",
    "\n",
    "import warnings\n",
    "warnings.filterwarnings('ignore')"
   ]
  },
  {
   "cell_type": "markdown",
   "metadata": {},
   "source": [
    "# Introduction"
   ]
  },
  {
   "cell_type": "markdown",
   "metadata": {},
   "source": [
    "We put ourselves in the position of a manager in charge of a statewide campaign. As part of voter outreach, state and national campaigns typically include targeted mailings. Let's say that we have the resources to send 100,000 such mailings. Who should we send them to?"
   ]
  },
  {
   "cell_type": "code",
   "execution_count": 2,
   "metadata": {},
   "outputs": [],
   "source": [
    "#data_path = \"Data\"\n",
    "#if not os.path.isdir(data_path):\n",
    "#    os.mkdir(data_path)\n",
    "#if len(os.listdir(data_path)) == 0:\n",
    "#    !wget -O /Data/1.gz https://www6.sos.state.oh.us/ords/f?p=VOTERFTP:DOWNLOAD::FILE:NO:2:P2_PRODUCT_NUMBER:363\n",
    "#    !wget -O /Data/2.gz https://www6.sos.state.oh.us/ords/f?p=VOTERFTP:DOWNLOAD::FILE:NO:2:P2_PRODUCT_NUMBER:364\n",
    "#    !wget -O /Data/3.gz https://www6.sos.state.oh.us/ords/f?p=VOTERFTP:DOWNLOAD::FILE:NO:2:P2_PRODUCT_NUMBER:365\n",
    "#    !wget -O /Data/4.gz https://www6.sos.state.oh.us/ords/f?p=VOTERFTP:DOWNLOAD::FILE:NO:2:P2_PRODUCT_NUMBER:366"
   ]
  },
  {
   "cell_type": "markdown",
   "metadata": {},
   "source": [
    "The Ohio voter file (https://www6.sos.state.oh.us/ords/f?p=VOTERFTP:STWD:::#stwdVtrFiles) contains a wealth of information about registered voters. We will use that data to make a prediction model to aid in our voter outreach. The data set contains over 8 million entries and over 100 columns, so it takes some time to load."
   ]
  },
  {
   "cell_type": "markdown",
   "metadata": {},
   "source": [
    "# Data preparation"
   ]
  },
  {
   "cell_type": "code",
   "execution_count": 3,
   "metadata": {},
   "outputs": [],
   "source": [
    "data_path = \"data\"\n",
    "files = [os.path.join(data_path, file) for file in os.listdir(data_path) \n",
    "         if os.path.isfile(os.path.join(data_path, file)) and file.endswith(\".gz\")]"
   ]
  },
  {
   "cell_type": "code",
   "execution_count": 4,
   "metadata": {},
   "outputs": [],
   "source": [
    "csv_files = []\n",
    "for file in files:\n",
    "    with gz.open(file, \"r\") as z:\n",
    "        file_content = z.read().decode(\"utf-8\")\n",
    "        csv_files.append(file_content)"
   ]
  },
  {
   "cell_type": "code",
   "execution_count": 5,
   "metadata": {},
   "outputs": [],
   "source": [
    "df_list = []\n",
    "for csv_file in csv_files:\n",
    "    df = pd.read_csv(StringIO(csv_file), index_col=None, header=0)\n",
    "    df_list.append(df)\n",
    "    \n",
    "df = pd.concat(df_list, axis = 0, ignore_index = True)"
   ]
  },
  {
   "cell_type": "code",
   "execution_count": 6,
   "metadata": {},
   "outputs": [
    {
     "data": {
      "text/html": [
       "<div>\n",
       "<style scoped>\n",
       "    .dataframe tbody tr th:only-of-type {\n",
       "        vertical-align: middle;\n",
       "    }\n",
       "\n",
       "    .dataframe tbody tr th {\n",
       "        vertical-align: top;\n",
       "    }\n",
       "\n",
       "    .dataframe thead th {\n",
       "        text-align: right;\n",
       "    }\n",
       "</style>\n",
       "<table border=\"1\" class=\"dataframe\">\n",
       "  <thead>\n",
       "    <tr style=\"text-align: right;\">\n",
       "      <th></th>\n",
       "      <th>COUNTY_NUMBER</th>\n",
       "      <th>LAST_NAME</th>\n",
       "      <th>FIRST_NAME</th>\n",
       "      <th>MIDDLE_NAME</th>\n",
       "      <th>SUFFIX</th>\n",
       "      <th>DATE_OF_BIRTH</th>\n",
       "      <th>REGISTRATION_DATE</th>\n",
       "      <th>VOTER_STATUS</th>\n",
       "      <th>PARTY_AFFILIATION</th>\n",
       "      <th>RESIDENTIAL_ADDRESS1</th>\n",
       "      <th>...</th>\n",
       "      <th>PRIMARY-03/15/2016</th>\n",
       "      <th>GENERAL-06/07/2016</th>\n",
       "      <th>PRIMARY-09/13/2016</th>\n",
       "      <th>GENERAL-11/08/2016</th>\n",
       "      <th>PRIMARY-05/02/2017</th>\n",
       "      <th>PRIMARY-09/12/2017</th>\n",
       "      <th>GENERAL-11/07/2017</th>\n",
       "      <th>PRIMARY-05/08/2018</th>\n",
       "      <th>GENERAL-08/07/2018</th>\n",
       "      <th>GENERAL-11/06/2018</th>\n",
       "    </tr>\n",
       "  </thead>\n",
       "  <tbody>\n",
       "    <tr>\n",
       "      <th>0</th>\n",
       "      <td>17</td>\n",
       "      <td>MOLLENCOPF</td>\n",
       "      <td>OLIVIA</td>\n",
       "      <td>ANITA</td>\n",
       "      <td>NaN</td>\n",
       "      <td>1942-02-17</td>\n",
       "      <td>1973-08-13</td>\n",
       "      <td>ACTIVE</td>\n",
       "      <td>R</td>\n",
       "      <td>6612 WINDFALL RD</td>\n",
       "      <td>...</td>\n",
       "      <td>R</td>\n",
       "      <td>NaN</td>\n",
       "      <td>NaN</td>\n",
       "      <td>X</td>\n",
       "      <td>NaN</td>\n",
       "      <td>NaN</td>\n",
       "      <td>X</td>\n",
       "      <td>NaN</td>\n",
       "      <td>NaN</td>\n",
       "      <td>X</td>\n",
       "    </tr>\n",
       "    <tr>\n",
       "      <th>1</th>\n",
       "      <td>17</td>\n",
       "      <td>KELLER</td>\n",
       "      <td>TAMMERA</td>\n",
       "      <td>ANNETTE</td>\n",
       "      <td>NaN</td>\n",
       "      <td>1967-04-22</td>\n",
       "      <td>2018-10-09</td>\n",
       "      <td>ACTIVE</td>\n",
       "      <td>R</td>\n",
       "      <td>1140 WESTMOOR DR</td>\n",
       "      <td>...</td>\n",
       "      <td>R</td>\n",
       "      <td>NaN</td>\n",
       "      <td>NaN</td>\n",
       "      <td>X</td>\n",
       "      <td>NaN</td>\n",
       "      <td>NaN</td>\n",
       "      <td>X</td>\n",
       "      <td>NaN</td>\n",
       "      <td>NaN</td>\n",
       "      <td>NaN</td>\n",
       "    </tr>\n",
       "    <tr>\n",
       "      <th>2</th>\n",
       "      <td>18</td>\n",
       "      <td>GILLISPIE</td>\n",
       "      <td>MARTHA</td>\n",
       "      <td>H</td>\n",
       "      <td>NaN</td>\n",
       "      <td>1995-10-02</td>\n",
       "      <td>2018-10-09</td>\n",
       "      <td>ACTIVE</td>\n",
       "      <td>D</td>\n",
       "      <td>1673 CUMBERLAND RD</td>\n",
       "      <td>...</td>\n",
       "      <td>D</td>\n",
       "      <td>NaN</td>\n",
       "      <td>NaN</td>\n",
       "      <td>X</td>\n",
       "      <td>NaN</td>\n",
       "      <td>NaN</td>\n",
       "      <td>NaN</td>\n",
       "      <td>NaN</td>\n",
       "      <td>NaN</td>\n",
       "      <td>X</td>\n",
       "    </tr>\n",
       "    <tr>\n",
       "      <th>3</th>\n",
       "      <td>12</td>\n",
       "      <td>PARRILL</td>\n",
       "      <td>PHYLLIS</td>\n",
       "      <td>ANN</td>\n",
       "      <td>NaN</td>\n",
       "      <td>1934-05-01</td>\n",
       "      <td>1955-09-28</td>\n",
       "      <td>ACTIVE</td>\n",
       "      <td>D</td>\n",
       "      <td>2150 STOWE DR</td>\n",
       "      <td>...</td>\n",
       "      <td>D</td>\n",
       "      <td>NaN</td>\n",
       "      <td>NaN</td>\n",
       "      <td>X</td>\n",
       "      <td>X</td>\n",
       "      <td>NaN</td>\n",
       "      <td>X</td>\n",
       "      <td>D</td>\n",
       "      <td>NaN</td>\n",
       "      <td>X</td>\n",
       "    </tr>\n",
       "    <tr>\n",
       "      <th>4</th>\n",
       "      <td>8</td>\n",
       "      <td>LAKES</td>\n",
       "      <td>BILLICE</td>\n",
       "      <td>L</td>\n",
       "      <td>NaN</td>\n",
       "      <td>1936-08-26</td>\n",
       "      <td>1997-08-19</td>\n",
       "      <td>ACTIVE</td>\n",
       "      <td>D</td>\n",
       "      <td>5280 US HIGHWAY 62 AND 68</td>\n",
       "      <td>...</td>\n",
       "      <td>D</td>\n",
       "      <td>NaN</td>\n",
       "      <td>NaN</td>\n",
       "      <td>NaN</td>\n",
       "      <td>NaN</td>\n",
       "      <td>NaN</td>\n",
       "      <td>NaN</td>\n",
       "      <td>NaN</td>\n",
       "      <td>NaN</td>\n",
       "      <td>NaN</td>\n",
       "    </tr>\n",
       "  </tbody>\n",
       "</table>\n",
       "<p>5 rows × 28 columns</p>\n",
       "</div>"
      ],
      "text/plain": [
       "   COUNTY_NUMBER   LAST_NAME FIRST_NAME MIDDLE_NAME SUFFIX DATE_OF_BIRTH  \\\n",
       "0             17  MOLLENCOPF     OLIVIA       ANITA    NaN    1942-02-17   \n",
       "1             17      KELLER    TAMMERA     ANNETTE    NaN    1967-04-22   \n",
       "2             18   GILLISPIE     MARTHA           H    NaN    1995-10-02   \n",
       "3             12     PARRILL    PHYLLIS         ANN    NaN    1934-05-01   \n",
       "4              8       LAKES    BILLICE           L    NaN    1936-08-26   \n",
       "\n",
       "  REGISTRATION_DATE VOTER_STATUS PARTY_AFFILIATION       RESIDENTIAL_ADDRESS1  \\\n",
       "0        1973-08-13       ACTIVE                 R           6612 WINDFALL RD   \n",
       "1        2018-10-09       ACTIVE                 R           1140 WESTMOOR DR   \n",
       "2        2018-10-09       ACTIVE                 D         1673 CUMBERLAND RD   \n",
       "3        1955-09-28       ACTIVE                 D              2150 STOWE DR   \n",
       "4        1997-08-19       ACTIVE                 D  5280 US HIGHWAY 62 AND 68   \n",
       "\n",
       "         ...         PRIMARY-03/15/2016 GENERAL-06/07/2016 PRIMARY-09/13/2016  \\\n",
       "0        ...                          R                NaN                NaN   \n",
       "1        ...                          R                NaN                NaN   \n",
       "2        ...                          D                NaN                NaN   \n",
       "3        ...                          D                NaN                NaN   \n",
       "4        ...                          D                NaN                NaN   \n",
       "\n",
       "   GENERAL-11/08/2016  PRIMARY-05/02/2017  PRIMARY-09/12/2017  \\\n",
       "0                   X                 NaN                 NaN   \n",
       "1                   X                 NaN                 NaN   \n",
       "2                   X                 NaN                 NaN   \n",
       "3                   X                   X                 NaN   \n",
       "4                 NaN                 NaN                 NaN   \n",
       "\n",
       "   GENERAL-11/07/2017  PRIMARY-05/08/2018 GENERAL-08/07/2018  \\\n",
       "0                   X                 NaN                NaN   \n",
       "1                   X                 NaN                NaN   \n",
       "2                 NaN                 NaN                NaN   \n",
       "3                   X                   D                NaN   \n",
       "4                 NaN                 NaN                NaN   \n",
       "\n",
       "  GENERAL-11/06/2018  \n",
       "0                  X  \n",
       "1                NaN  \n",
       "2                  X  \n",
       "3                  X  \n",
       "4                NaN  \n",
       "\n",
       "[5 rows x 28 columns]"
      ]
     },
     "execution_count": 6,
     "metadata": {},
     "output_type": "execute_result"
    }
   ],
   "source": [
    "df_reduced = df.iloc[:, [1, 3 , 4, 5, 6, 7, 8, 9, 10, 11, 12, 13, 14, 15, 16, 17, 18, 31, 95, 96, 97, 98, 99, 100, 101, 102, 103, 104]]\n",
    "df_reduced.head()"
   ]
  },
  {
   "cell_type": "code",
   "execution_count": 7,
   "metadata": {},
   "outputs": [],
   "source": [
    "now = pd.Timestamp(DT.datetime.now())\n",
    "df_reduced['DATE_OF_BIRTH'] = pd.to_datetime(df['DATE_OF_BIRTH'])    # 1\n",
    "df_reduced['DATE_OF_BIRTH'] = df_reduced['DATE_OF_BIRTH'].where(df_reduced['DATE_OF_BIRTH'] < now, df_reduced['DATE_OF_BIRTH'] -  np.timedelta64(100, 'Y'))   # 2\n",
    "df_reduced['AGE'] = (now - df_reduced['DATE_OF_BIRTH']).astype('<m8[Y]')\n",
    "df_reduced = df_reduced[df_reduced['RESIDENTIAL_ZIP'].notnull()]\n",
    "df_reduced['RESIDENTIAL_ZIP'] = df_reduced['RESIDENTIAL_ZIP'].astype(np.int)\n",
    "\n",
    "#Development only\n",
    "df_reduced = df_reduced.sample(n=1000000, replace=False)"
   ]
  },
  {
   "cell_type": "markdown",
   "metadata": {},
   "source": [
    "We add the average income in a voter's zip code as a feature. The average income data is derived from the following data set: https://www.irs.gov/statistics/soi-tax-stats-individual-income-tax-statistics-2016-zip-code-data-soi. While the median income would be a better statistic, it is unfortunately not readily available for the recent years."
   ]
  },
  {
   "cell_type": "code",
   "execution_count": 8,
   "metadata": {},
   "outputs": [
    {
     "data": {
      "text/plain": [
       "ZIPCODE\n",
       "0        47775.961436\n",
       "35004    51611.648352\n",
       "35005    37054.511278\n",
       "35006    42025.961538\n",
       "35007    53577.406680\n",
       "Name: AVG_INCOME, dtype: float64"
      ]
     },
     "execution_count": 8,
     "metadata": {},
     "output_type": "execute_result"
    }
   ],
   "source": [
    "income_df = pd.read_csv(f\"{data_path}/16zpallnoagi.csv\", encoding = \"ISO-8859-1\")\n",
    "income_df.index = income_df['ZIPCODE']\n",
    "income_df['AVG_INCOME'] = income_df['A00200'] * 1000 / income_df['N00200']\n",
    "avg_income = income_df['AVG_INCOME']\n",
    "avg_income.head()"
   ]
  },
  {
   "cell_type": "code",
   "execution_count": 9,
   "metadata": {},
   "outputs": [],
   "source": [
    "df_reduced = df_reduced[df_reduced[\"RESIDENTIAL_ZIP\"].isin(avg_income.index)]\n",
    "df_reduced[\"AVG_INCOME\"] = df_reduced[\"RESIDENTIAL_ZIP\"].apply(lambda x: avg_income[x])"
   ]
  },
  {
   "cell_type": "markdown",
   "metadata": {},
   "source": [
    "The population density is certain to be an important feature in predicting someone's political views, as rural residents are in general more conservative and more likely to vote Republican. The population density by zip code data was obtained here: https://blog.splitwise.com/2014/01/06/free-us-population-density-and-unemployment-rate-by-zip-code/."
   ]
  },
  {
   "cell_type": "code",
   "execution_count": 10,
   "metadata": {},
   "outputs": [
    {
     "data": {
      "text/plain": [
       "Zip/ZCTA\n",
       "1001     1465.565461\n",
       "1002      527.751031\n",
       "1003    14587.904360\n",
       "1005      114.800416\n",
       "1007      278.270615\n",
       "Name: Density Per Sq Mile, dtype: float64"
      ]
     },
     "execution_count": 10,
     "metadata": {},
     "output_type": "execute_result"
    }
   ],
   "source": [
    "pop_density = pd.read_csv(f\"{data_path}/Zipcode-ZCTA-Population-Density-And-Area-Unsorted.csv\", encoding = \"ISO-8859-1\")\n",
    "pop_density['Zip/ZCTA'] = pop_density['Zip/ZCTA'].astype(np.int)\n",
    "pop_density.index = pop_density['Zip/ZCTA']\n",
    "pop_density = pop_density['Density Per Sq Mile']\n",
    "pop_density[pop_density > 0].head()"
   ]
  },
  {
   "cell_type": "code",
   "execution_count": 11,
   "metadata": {},
   "outputs": [],
   "source": [
    "df_reduced = df_reduced[df_reduced[\"RESIDENTIAL_ZIP\"].isin(pop_density.index)]\n",
    "df_reduced[\"POP_DENSITY\"] = df_reduced[\"RESIDENTIAL_ZIP\"].apply(lambda x: pop_density[x])"
   ]
  },
  {
   "cell_type": "code",
   "execution_count": 56,
   "metadata": {},
   "outputs": [],
   "source": [
    "voted_primary = df_reduced[df_reduced['PRIMARY-05/08/2018'].notnull() \n",
    "                           & df_reduced['PRIMARY-05/08/2018'].apply(lambda x: x == 'R' or x == 'D')]\n",
    "voted_primary['is_D'] = df_reduced['PRIMARY-05/08/2018'] == 'D'\n",
    "voted_primary['is_R'] = df_reduced['PRIMARY-05/08/2018'] == 'R'"
   ]
  },
  {
   "cell_type": "markdown",
   "metadata": {},
   "source": [
    "# A bit of exploratory analysis"
   ]
  },
  {
   "cell_type": "code",
   "execution_count": 13,
   "metadata": {},
   "outputs": [
    {
     "data": {
      "text/html": [
       "\n",
       "<div class=\"bk-root\">\n",
       "    <div class=\"bk-plotdiv\" id=\"242b6097-7ebc-42b7-814a-0f82780bc962\"></div>\n",
       "</div>"
      ]
     },
     "metadata": {},
     "output_type": "display_data"
    },
    {
     "data": {
      "application/javascript": [
       "(function(root) {\n",
       "  function embed_document(root) {\n",
       "    \n",
       "  var docs_json = {\"a70a9391-08f0-41a5-90f7-c065b1274604\":{\"roots\":{\"references\":[{\"attributes\":{\"fill_alpha\":{\"value\":0.1},\"fill_color\":{\"value\":\"#1f77b4\"},\"line_alpha\":{\"value\":0.1},\"line_color\":{\"value\":\"#1f77b4\"},\"top\":{\"field\":\"top\"},\"width\":{\"value\":0.9},\"x\":{\"field\":\"x\"}},\"id\":\"a1e08d3e-543a-446d-80e1-788a5480c005\",\"type\":\"VBar\"},{\"attributes\":{\"active_drag\":\"auto\",\"active_inspect\":\"auto\",\"active_scroll\":\"auto\",\"active_tap\":\"auto\"},\"id\":\"21ad9b81-63ad-40ce-a047-b32b799990a0\",\"type\":\"Toolbar\"},{\"attributes\":{},\"id\":\"ccafe837-8bd6-4ebc-be6a-7c949ed33731\",\"type\":\"CategoricalScale\"},{\"attributes\":{\"callback\":null,\"start\":0},\"id\":\"a577e114-26d3-4742-bd19-6aad35c8131b\",\"type\":\"DataRange1d\"},{\"attributes\":{},\"id\":\"ecff9705-331f-42a1-88ef-169b60335704\",\"type\":\"LinearScale\"},{\"attributes\":{\"formatter\":{\"id\":\"486913cf-c041-42e9-957c-53530a22903c\",\"type\":\"BasicTickFormatter\"},\"plot\":{\"id\":\"11c5490a-6738-4c21-b014-310a515686a1\",\"subtype\":\"Figure\",\"type\":\"Plot\"},\"ticker\":{\"id\":\"f2768fcf-d665-4a3d-8c38-ce95e91c6dde\",\"type\":\"BasicTicker\"}},\"id\":\"0dff10c5-4674-4af0-a500-3ac6bf1f9438\",\"type\":\"LinearAxis\"},{\"attributes\":{\"formatter\":{\"id\":\"9b7be6a7-64b9-452f-90ed-2b753b284f09\",\"type\":\"CategoricalTickFormatter\"},\"plot\":{\"id\":\"11c5490a-6738-4c21-b014-310a515686a1\",\"subtype\":\"Figure\",\"type\":\"Plot\"},\"ticker\":{\"id\":\"048b75b5-d4ee-4931-8dfb-bbfd90a5f784\",\"type\":\"CategoricalTicker\"}},\"id\":\"f7a0c6f9-e8b5-40ce-a2a4-b77830a8279a\",\"type\":\"CategoricalAxis\"},{\"attributes\":{},\"id\":\"048b75b5-d4ee-4931-8dfb-bbfd90a5f784\",\"type\":\"CategoricalTicker\"},{\"attributes\":{\"callback\":null,\"data\":{\"fill_color\":[\"blue\",\"red\"],\"top\":[88442,106172],\"x\":[\"Democrat\",\"Republican\"]},\"selected\":{\"id\":\"8f1aa6c6-e686-4aeb-8248-fd3257d79870\",\"type\":\"Selection\"},\"selection_policy\":{\"id\":\"df70a00e-e303-419c-be4b-b983e8adf7ce\",\"type\":\"UnionRenderers\"}},\"id\":\"408056e9-c30a-42b3-b140-632658f5f3a4\",\"type\":\"ColumnDataSource\"},{\"attributes\":{\"below\":[{\"id\":\"f7a0c6f9-e8b5-40ce-a2a4-b77830a8279a\",\"type\":\"CategoricalAxis\"}],\"left\":[{\"id\":\"0dff10c5-4674-4af0-a500-3ac6bf1f9438\",\"type\":\"LinearAxis\"}],\"plot_height\":350,\"renderers\":[{\"id\":\"f7a0c6f9-e8b5-40ce-a2a4-b77830a8279a\",\"type\":\"CategoricalAxis\"},{\"id\":\"9b779b31-d495-4634-89bc-196126dad68f\",\"type\":\"Grid\"},{\"id\":\"0dff10c5-4674-4af0-a500-3ac6bf1f9438\",\"type\":\"LinearAxis\"},{\"id\":\"50d604b7-c109-4484-8a1b-129ab7a8f91a\",\"type\":\"Grid\"},{\"id\":\"e5664ee9-ddd0-4934-a029-8899fb9b9e95\",\"type\":\"GlyphRenderer\"}],\"title\":{\"id\":\"8d653b6b-f13d-42b6-a95b-fa1786ddf6f8\",\"type\":\"Title\"},\"toolbar\":{\"id\":\"21ad9b81-63ad-40ce-a047-b32b799990a0\",\"type\":\"Toolbar\"},\"toolbar_location\":null,\"x_range\":{\"id\":\"33164e43-5694-4be1-bcab-389feb20e4e1\",\"type\":\"FactorRange\"},\"x_scale\":{\"id\":\"ccafe837-8bd6-4ebc-be6a-7c949ed33731\",\"type\":\"CategoricalScale\"},\"y_range\":{\"id\":\"a577e114-26d3-4742-bd19-6aad35c8131b\",\"type\":\"DataRange1d\"},\"y_scale\":{\"id\":\"ecff9705-331f-42a1-88ef-169b60335704\",\"type\":\"LinearScale\"}},\"id\":\"11c5490a-6738-4c21-b014-310a515686a1\",\"subtype\":\"Figure\",\"type\":\"Plot\"},{\"attributes\":{\"grid_line_color\":{\"value\":null},\"plot\":{\"id\":\"11c5490a-6738-4c21-b014-310a515686a1\",\"subtype\":\"Figure\",\"type\":\"Plot\"},\"ticker\":{\"id\":\"048b75b5-d4ee-4931-8dfb-bbfd90a5f784\",\"type\":\"CategoricalTicker\"}},\"id\":\"9b779b31-d495-4634-89bc-196126dad68f\",\"type\":\"Grid\"},{\"attributes\":{\"fill_alpha\":{\"value\":0.5},\"fill_color\":{\"field\":\"fill_color\"},\"line_alpha\":{\"value\":0.5},\"line_color\":{\"value\":\"#1f77b4\"},\"top\":{\"field\":\"top\"},\"width\":{\"value\":0.9},\"x\":{\"field\":\"x\"}},\"id\":\"b9de6678-3704-49a4-8ba2-004d1d6bf6e8\",\"type\":\"VBar\"},{\"attributes\":{},\"id\":\"f2768fcf-d665-4a3d-8c38-ce95e91c6dde\",\"type\":\"BasicTicker\"},{\"attributes\":{\"dimension\":1,\"plot\":{\"id\":\"11c5490a-6738-4c21-b014-310a515686a1\",\"subtype\":\"Figure\",\"type\":\"Plot\"},\"ticker\":{\"id\":\"f2768fcf-d665-4a3d-8c38-ce95e91c6dde\",\"type\":\"BasicTicker\"}},\"id\":\"50d604b7-c109-4484-8a1b-129ab7a8f91a\",\"type\":\"Grid\"},{\"attributes\":{},\"id\":\"df70a00e-e303-419c-be4b-b983e8adf7ce\",\"type\":\"UnionRenderers\"},{\"attributes\":{\"source\":{\"id\":\"408056e9-c30a-42b3-b140-632658f5f3a4\",\"type\":\"ColumnDataSource\"}},\"id\":\"ec6e58e7-0dd5-402e-a1b8-fe5ab10d6484\",\"type\":\"CDSView\"},{\"attributes\":{\"data_source\":{\"id\":\"408056e9-c30a-42b3-b140-632658f5f3a4\",\"type\":\"ColumnDataSource\"},\"glyph\":{\"id\":\"b9de6678-3704-49a4-8ba2-004d1d6bf6e8\",\"type\":\"VBar\"},\"hover_glyph\":null,\"muted_glyph\":null,\"nonselection_glyph\":{\"id\":\"a1e08d3e-543a-446d-80e1-788a5480c005\",\"type\":\"VBar\"},\"selection_glyph\":null,\"view\":{\"id\":\"ec6e58e7-0dd5-402e-a1b8-fe5ab10d6484\",\"type\":\"CDSView\"}},\"id\":\"e5664ee9-ddd0-4934-a029-8899fb9b9e95\",\"type\":\"GlyphRenderer\"},{\"attributes\":{},\"id\":\"486913cf-c041-42e9-957c-53530a22903c\",\"type\":\"BasicTickFormatter\"},{\"attributes\":{},\"id\":\"8f1aa6c6-e686-4aeb-8248-fd3257d79870\",\"type\":\"Selection\"},{\"attributes\":{\"callback\":null,\"factors\":[\"Democrat\",\"Republican\"]},\"id\":\"33164e43-5694-4be1-bcab-389feb20e4e1\",\"type\":\"FactorRange\"},{\"attributes\":{},\"id\":\"9b7be6a7-64b9-452f-90ed-2b753b284f09\",\"type\":\"CategoricalTickFormatter\"},{\"attributes\":{\"plot\":null,\"text\":\"Number of Politically Active Voters By Party\"},\"id\":\"8d653b6b-f13d-42b6-a95b-fa1786ddf6f8\",\"type\":\"Title\"}],\"root_ids\":[\"11c5490a-6738-4c21-b014-310a515686a1\"]},\"title\":\"Bokeh Application\",\"version\":\"0.12.16\"}};\n",
       "  var render_items = [{\"docid\":\"a70a9391-08f0-41a5-90f7-c065b1274604\",\"elementid\":\"242b6097-7ebc-42b7-814a-0f82780bc962\",\"modelid\":\"11c5490a-6738-4c21-b014-310a515686a1\"}];\n",
       "  root.Bokeh.embed.embed_items_notebook(docs_json, render_items);\n",
       "\n",
       "  }\n",
       "  if (root.Bokeh !== undefined) {\n",
       "    embed_document(root);\n",
       "  } else {\n",
       "    var attempts = 0;\n",
       "    var timer = setInterval(function(root) {\n",
       "      if (root.Bokeh !== undefined) {\n",
       "        embed_document(root);\n",
       "        clearInterval(timer);\n",
       "      }\n",
       "      attempts++;\n",
       "      if (attempts > 100) {\n",
       "        console.log(\"Bokeh: ERROR: Unable to run BokehJS code because BokehJS library is missing\")\n",
       "        clearInterval(timer);\n",
       "      }\n",
       "    }, 10, root)\n",
       "  }\n",
       "})(window);"
      ],
      "application/vnd.bokehjs_exec.v0+json": ""
     },
     "metadata": {
      "application/vnd.bokehjs_exec.v0+json": {
       "id": "11c5490a-6738-4c21-b014-310a515686a1"
      }
     },
     "output_type": "display_data"
    }
   ],
   "source": [
    "counts = [voted_primary.is_D.sum(), voted_primary.is_R.sum()]\n",
    "parties = [\"Democrat\", \"Republican\"]\n",
    "colors = [\"blue\", \"red\"]\n",
    "\n",
    "p = figure(x_range=parties, plot_height=350, title=\"Number of Politically Active Voters By Party\", toolbar_location=None, tools=\"\")\n",
    "p.vbar(x=parties, top=counts, width=0.9, alpha=0.5, fill_color=colors)\n",
    "p.xgrid.grid_line_color = None\n",
    "p.y_range.start = 0\n",
    "\n",
    "show(p)"
   ]
  },
  {
   "cell_type": "code",
   "execution_count": 14,
   "metadata": {},
   "outputs": [
    {
     "data": {
      "text/html": [
       "\n",
       "<div class=\"bk-root\">\n",
       "    <div class=\"bk-plotdiv\" id=\"d937b633-eeaf-4d36-9a27-6fc3ffb3b6fd\"></div>\n",
       "</div>"
      ]
     },
     "metadata": {},
     "output_type": "display_data"
    },
    {
     "data": {
      "application/javascript": [
       "(function(root) {\n",
       "  function embed_document(root) {\n",
       "    \n",
       "  var docs_json = {\"ba49432b-e1d9-4f97-8ab7-dad6c9022b0c\":{\"roots\":{\"references\":[{\"attributes\":{\"plot\":{\"id\":\"ff7d325b-8679-4568-9cf6-2163c0e97675\",\"subtype\":\"Figure\",\"type\":\"Plot\"},\"ticker\":{\"id\":\"fabe359d-899f-4e6d-8fc5-43478ab076c8\",\"type\":\"CategoricalTicker\"}},\"id\":\"a6d5e94f-e6f2-457d-9846-d0f42663c1ec\",\"type\":\"Grid\"},{\"attributes\":{\"callback\":null,\"start\":0},\"id\":\"8d59418a-31c9-4afe-9378-19572d3539c4\",\"type\":\"DataRange1d\"},{\"attributes\":{\"formatter\":{\"id\":\"2ccbc150-63c1-42c9-bde1-322cdae8ce7c\",\"type\":\"BasicTickFormatter\"},\"plot\":{\"id\":\"ff7d325b-8679-4568-9cf6-2163c0e97675\",\"subtype\":\"Figure\",\"type\":\"Plot\"},\"ticker\":{\"id\":\"931edada-5a53-4328-a283-3269307b9655\",\"type\":\"BasicTicker\"}},\"id\":\"b7d02ee3-2864-46ca-9a6c-94eb9f2fba4f\",\"type\":\"LinearAxis\"},{\"attributes\":{\"axis_label\":\"Incomes ($)\",\"formatter\":{\"id\":\"688911dc-707c-45e9-a89d-c45d4bf0c81d\",\"type\":\"CategoricalTickFormatter\"},\"plot\":{\"id\":\"ff7d325b-8679-4568-9cf6-2163c0e97675\",\"subtype\":\"Figure\",\"type\":\"Plot\"},\"ticker\":{\"id\":\"fabe359d-899f-4e6d-8fc5-43478ab076c8\",\"type\":\"CategoricalTicker\"}},\"id\":\"cafb7de2-47a3-4dec-a544-4f5abb8ace70\",\"type\":\"CategoricalAxis\"},{\"attributes\":{},\"id\":\"fabe359d-899f-4e6d-8fc5-43478ab076c8\",\"type\":\"CategoricalTicker\"},{\"attributes\":{\"fill_alpha\":{\"value\":0.5},\"fill_color\":{\"field\":\"fill_color\"},\"line_alpha\":{\"value\":0.5},\"line_color\":{\"field\":\"line_color\"},\"top\":{\"field\":\"top\"},\"width\":{\"value\":0.9},\"x\":{\"field\":\"x\"}},\"id\":\"bbe69cba-68ef-4f3d-8191-b98f7338464c\",\"type\":\"VBar\"},{\"attributes\":{},\"id\":\"931edada-5a53-4328-a283-3269307b9655\",\"type\":\"BasicTicker\"},{\"attributes\":{\"dimension\":1,\"plot\":{\"id\":\"ff7d325b-8679-4568-9cf6-2163c0e97675\",\"subtype\":\"Figure\",\"type\":\"Plot\"},\"ticker\":{\"id\":\"931edada-5a53-4328-a283-3269307b9655\",\"type\":\"BasicTicker\"}},\"id\":\"92959708-d01e-4e4d-9eaf-17e5f87444d0\",\"type\":\"Grid\"},{\"attributes\":{\"fill_alpha\":{\"value\":0.1},\"fill_color\":{\"value\":\"#1f77b4\"},\"line_alpha\":{\"value\":0.1},\"line_color\":{\"value\":\"#1f77b4\"},\"top\":{\"field\":\"top\"},\"width\":{\"value\":0.9},\"x\":{\"field\":\"x\"}},\"id\":\"7dae5197-56e2-4c4b-bb16-3f429bb65ec5\",\"type\":\"VBar\"},{\"attributes\":{},\"id\":\"2ccbc150-63c1-42c9-bde1-322cdae8ce7c\",\"type\":\"BasicTickFormatter\"},{\"attributes\":{\"callback\":null,\"data\":{\"fill_color\":[\"red\",\"blue\",\"red\",\"blue\",\"red\",\"blue\",\"red\",\"blue\",\"red\",\"blue\",\"red\",\"blue\",\"red\",\"blue\",\"red\",\"blue\",\"red\",\"blue\"],\"line_color\":[\"red\",\"blue\",\"red\",\"blue\",\"red\",\"blue\",\"red\",\"blue\",\"red\",\"blue\",\"red\",\"blue\",\"red\",\"blue\",\"red\",\"blue\",\"red\",\"blue\"],\"top\":[1569,6247,18058,19099,40293,26956,21028,15596,10093,7333,4846,4176,3731,2496,2511,3151,2496,1748],\"x\":[[\"20000-30000\",\"R\"],[\"20000-30000\",\"D\"],[\"30000-40000\",\"R\"],[\"30000-40000\",\"D\"],[\"40000-50000\",\"R\"],[\"40000-50000\",\"D\"],[\"50000-60000\",\"R\"],[\"50000-60000\",\"D\"],[\"60000-70000\",\"R\"],[\"60000-70000\",\"D\"],[\"70000-80000\",\"R\"],[\"70000-80000\",\"D\"],[\"80000-90000\",\"R\"],[\"80000-90000\",\"D\"],[\"90000-100000\",\"R\"],[\"90000-100000\",\"D\"],[\"100000-110000\",\"R\"],[\"100000-110000\",\"D\"]]},\"selected\":{\"id\":\"69d1b9fa-4bfa-41d6-99f7-fb1a8afe8393\",\"type\":\"Selection\"},\"selection_policy\":{\"id\":\"5378329a-12f6-4b17-bc71-4149ecd940ec\",\"type\":\"UnionRenderers\"}},\"id\":\"6f62b455-208c-48ba-8516-9017a15cec8f\",\"type\":\"ColumnDataSource\"},{\"attributes\":{\"data_source\":{\"id\":\"6f62b455-208c-48ba-8516-9017a15cec8f\",\"type\":\"ColumnDataSource\"},\"glyph\":{\"id\":\"bbe69cba-68ef-4f3d-8191-b98f7338464c\",\"type\":\"VBar\"},\"hover_glyph\":null,\"muted_glyph\":null,\"nonselection_glyph\":{\"id\":\"7dae5197-56e2-4c4b-bb16-3f429bb65ec5\",\"type\":\"VBar\"},\"selection_glyph\":null,\"view\":{\"id\":\"cf6be56e-709f-4e8b-82f1-8f7cd22b6110\",\"type\":\"CDSView\"}},\"id\":\"9c11bba5-d9e7-49f9-8bea-2abc429947b6\",\"type\":\"GlyphRenderer\"},{\"attributes\":{\"plot\":null,\"text\":\"Incomes by Party\"},\"id\":\"93c871c6-0738-4034-9b24-6df5af2240ff\",\"type\":\"Title\"},{\"attributes\":{},\"id\":\"5378329a-12f6-4b17-bc71-4149ecd940ec\",\"type\":\"UnionRenderers\"},{\"attributes\":{\"active_drag\":\"auto\",\"active_inspect\":\"auto\",\"active_scroll\":\"auto\",\"active_tap\":\"auto\"},\"id\":\"25024acd-7718-4387-9c93-ed7f24dafd12\",\"type\":\"Toolbar\"},{\"attributes\":{\"source\":{\"id\":\"6f62b455-208c-48ba-8516-9017a15cec8f\",\"type\":\"ColumnDataSource\"}},\"id\":\"cf6be56e-709f-4e8b-82f1-8f7cd22b6110\",\"type\":\"CDSView\"},{\"attributes\":{},\"id\":\"6cdd54ff-9039-4d05-b441-bd299fc9aece\",\"type\":\"CategoricalScale\"},{\"attributes\":{},\"id\":\"688911dc-707c-45e9-a89d-c45d4bf0c81d\",\"type\":\"CategoricalTickFormatter\"},{\"attributes\":{},\"id\":\"576ad068-d556-423c-9d0a-1eb7785a7c72\",\"type\":\"LinearScale\"},{\"attributes\":{},\"id\":\"69d1b9fa-4bfa-41d6-99f7-fb1a8afe8393\",\"type\":\"Selection\"},{\"attributes\":{\"callback\":null,\"factors\":[[\"20000-30000\",\"R\"],[\"20000-30000\",\"D\"],[\"30000-40000\",\"R\"],[\"30000-40000\",\"D\"],[\"40000-50000\",\"R\"],[\"40000-50000\",\"D\"],[\"50000-60000\",\"R\"],[\"50000-60000\",\"D\"],[\"60000-70000\",\"R\"],[\"60000-70000\",\"D\"],[\"70000-80000\",\"R\"],[\"70000-80000\",\"D\"],[\"80000-90000\",\"R\"],[\"80000-90000\",\"D\"],[\"90000-100000\",\"R\"],[\"90000-100000\",\"D\"],[\"100000-110000\",\"R\"],[\"100000-110000\",\"D\"]],\"range_padding\":0.1},\"id\":\"86da1902-f7a9-43d2-91c7-3155c1949d9c\",\"type\":\"FactorRange\"},{\"attributes\":{\"below\":[{\"id\":\"cafb7de2-47a3-4dec-a544-4f5abb8ace70\",\"type\":\"CategoricalAxis\"}],\"left\":[{\"id\":\"b7d02ee3-2864-46ca-9a6c-94eb9f2fba4f\",\"type\":\"LinearAxis\"}],\"plot_height\":500,\"plot_width\":1000,\"renderers\":[{\"id\":\"cafb7de2-47a3-4dec-a544-4f5abb8ace70\",\"type\":\"CategoricalAxis\"},{\"id\":\"a6d5e94f-e6f2-457d-9846-d0f42663c1ec\",\"type\":\"Grid\"},{\"id\":\"b7d02ee3-2864-46ca-9a6c-94eb9f2fba4f\",\"type\":\"LinearAxis\"},{\"id\":\"92959708-d01e-4e4d-9eaf-17e5f87444d0\",\"type\":\"Grid\"},{\"id\":\"9c11bba5-d9e7-49f9-8bea-2abc429947b6\",\"type\":\"GlyphRenderer\"}],\"title\":{\"id\":\"93c871c6-0738-4034-9b24-6df5af2240ff\",\"type\":\"Title\"},\"toolbar\":{\"id\":\"25024acd-7718-4387-9c93-ed7f24dafd12\",\"type\":\"Toolbar\"},\"toolbar_location\":null,\"x_range\":{\"id\":\"86da1902-f7a9-43d2-91c7-3155c1949d9c\",\"type\":\"FactorRange\"},\"x_scale\":{\"id\":\"6cdd54ff-9039-4d05-b441-bd299fc9aece\",\"type\":\"CategoricalScale\"},\"y_range\":{\"id\":\"8d59418a-31c9-4afe-9378-19572d3539c4\",\"type\":\"DataRange1d\"},\"y_scale\":{\"id\":\"576ad068-d556-423c-9d0a-1eb7785a7c72\",\"type\":\"LinearScale\"}},\"id\":\"ff7d325b-8679-4568-9cf6-2163c0e97675\",\"subtype\":\"Figure\",\"type\":\"Plot\"}],\"root_ids\":[\"ff7d325b-8679-4568-9cf6-2163c0e97675\"]},\"title\":\"Bokeh Application\",\"version\":\"0.12.16\"}};\n",
       "  var render_items = [{\"docid\":\"ba49432b-e1d9-4f97-8ab7-dad6c9022b0c\",\"elementid\":\"d937b633-eeaf-4d36-9a27-6fc3ffb3b6fd\",\"modelid\":\"ff7d325b-8679-4568-9cf6-2163c0e97675\"}];\n",
       "  root.Bokeh.embed.embed_items_notebook(docs_json, render_items);\n",
       "\n",
       "  }\n",
       "  if (root.Bokeh !== undefined) {\n",
       "    embed_document(root);\n",
       "  } else {\n",
       "    var attempts = 0;\n",
       "    var timer = setInterval(function(root) {\n",
       "      if (root.Bokeh !== undefined) {\n",
       "        embed_document(root);\n",
       "        clearInterval(timer);\n",
       "      }\n",
       "      attempts++;\n",
       "      if (attempts > 100) {\n",
       "        console.log(\"Bokeh: ERROR: Unable to run BokehJS code because BokehJS library is missing\")\n",
       "        clearInterval(timer);\n",
       "      }\n",
       "    }, 10, root)\n",
       "  }\n",
       "})(window);"
      ],
      "application/vnd.bokehjs_exec.v0+json": ""
     },
     "metadata": {
      "application/vnd.bokehjs_exec.v0+json": {
       "id": "ff7d325b-8679-4568-9cf6-2163c0e97675"
      }
     },
     "output_type": "display_data"
    }
   ],
   "source": [
    "def pairwise(iterable):\n",
    "    a, b = itertools.tee(iterable)\n",
    "    next(b, None)\n",
    "    return zip(a, b)\n",
    "\n",
    "income_levels = [i*10000 for i in range(2, 12)]\n",
    "factors = list(itertools.chain(*[((f\"{i}-{j}\", \"R\"), (f\"{i}-{j}\", \"D\")) for i, j in pairwise(income_levels)]))\n",
    "incomes_R = [voted_primary[voted_primary.is_R & (voted_primary[\"AVG_INCOME\"] > i) & (voted_primary[\"AVG_INCOME\"] < j)].shape[0] for i, j in pairwise(income_levels)]\n",
    "incomes_D = [voted_primary[voted_primary.is_D & (voted_primary[\"AVG_INCOME\"] > i) & (voted_primary[\"AVG_INCOME\"] < j)].shape[0] for i, j in pairwise(income_levels)]\n",
    "incomes = list(itertools.chain(*zip(incomes_R, incomes_D)))\n",
    "colors = list(itertools.chain(*[(\"red\", \"blue\") for i, j in pairwise(income_levels)]))\n",
    "\n",
    "p = figure(x_range=FactorRange(*factors), plot_height=500, plot_width=1000, title=\"Incomes by Party\", toolbar_location=None, tools=\"\")\n",
    "p.vbar(x=factors, top=incomes, width=0.9, alpha=0.5, color=colors)\n",
    "p.y_range.start = 0\n",
    "p.x_range.range_padding = 0.1\n",
    "p.xaxis.axis_label = \"Incomes ($)\"\n",
    "\n",
    "show(p)"
   ]
  },
  {
   "cell_type": "code",
   "execution_count": 15,
   "metadata": {},
   "outputs": [
    {
     "data": {
      "text/html": [
       "\n",
       "<div class=\"bk-root\">\n",
       "    <div class=\"bk-plotdiv\" id=\"56172bdf-3e33-4941-86be-1ed149111ee1\"></div>\n",
       "</div>"
      ]
     },
     "metadata": {},
     "output_type": "display_data"
    },
    {
     "data": {
      "application/javascript": [
       "(function(root) {\n",
       "  function embed_document(root) {\n",
       "    \n",
       "  var docs_json = {\"d49ab9dc-b323-45aa-974c-297b5a7600dc\":{\"roots\":{\"references\":[{\"attributes\":{},\"id\":\"50eaff22-73d7-49ac-b14a-7757904871d3\",\"type\":\"CategoricalScale\"},{\"attributes\":{\"below\":[{\"id\":\"7e776d0b-3c9e-43aa-a8b0-2b160660ed20\",\"type\":\"CategoricalAxis\"}],\"left\":[{\"id\":\"d37acf65-71c1-4379-bdb3-8a6608aed1c5\",\"type\":\"LinearAxis\"}],\"plot_height\":500,\"plot_width\":1000,\"renderers\":[{\"id\":\"7e776d0b-3c9e-43aa-a8b0-2b160660ed20\",\"type\":\"CategoricalAxis\"},{\"id\":\"8f8ac90e-cd97-4a80-a4b4-592ab48d9406\",\"type\":\"Grid\"},{\"id\":\"d37acf65-71c1-4379-bdb3-8a6608aed1c5\",\"type\":\"LinearAxis\"},{\"id\":\"91a1bd56-1cdd-4e1c-b00c-90f306f94a0d\",\"type\":\"Grid\"},{\"id\":\"fd149f9b-b290-4ced-8cfe-845e7b89fdaf\",\"type\":\"GlyphRenderer\"}],\"title\":{\"id\":\"432b3d92-aefc-4434-a63b-57598f931e3a\",\"type\":\"Title\"},\"toolbar\":{\"id\":\"4abd3770-f15a-40f9-9606-593b6eaf697f\",\"type\":\"Toolbar\"},\"toolbar_location\":null,\"x_range\":{\"id\":\"c0f254fd-aea7-43ea-99dc-f71769c2b670\",\"type\":\"FactorRange\"},\"x_scale\":{\"id\":\"50eaff22-73d7-49ac-b14a-7757904871d3\",\"type\":\"CategoricalScale\"},\"y_range\":{\"id\":\"8b303583-6752-4408-9ec1-0d3a0bf81bbd\",\"type\":\"DataRange1d\"},\"y_scale\":{\"id\":\"2b1cb379-4a75-48cf-93c2-463c858cf901\",\"type\":\"LinearScale\"}},\"id\":\"bc7e7ef9-be8f-42dc-8b1c-3d455674af47\",\"subtype\":\"Figure\",\"type\":\"Plot\"},{\"attributes\":{},\"id\":\"2b1cb379-4a75-48cf-93c2-463c858cf901\",\"type\":\"LinearScale\"},{\"attributes\":{\"formatter\":{\"id\":\"3ab0f513-1630-4cf3-a9e2-79806840582a\",\"type\":\"BasicTickFormatter\"},\"plot\":{\"id\":\"bc7e7ef9-be8f-42dc-8b1c-3d455674af47\",\"subtype\":\"Figure\",\"type\":\"Plot\"},\"ticker\":{\"id\":\"f44d1439-232d-4e9e-9739-fe41d6a8f848\",\"type\":\"BasicTicker\"}},\"id\":\"d37acf65-71c1-4379-bdb3-8a6608aed1c5\",\"type\":\"LinearAxis\"},{\"attributes\":{\"callback\":null,\"start\":0},\"id\":\"8b303583-6752-4408-9ec1-0d3a0bf81bbd\",\"type\":\"DataRange1d\"},{\"attributes\":{\"plot\":{\"id\":\"bc7e7ef9-be8f-42dc-8b1c-3d455674af47\",\"subtype\":\"Figure\",\"type\":\"Plot\"},\"ticker\":{\"id\":\"17abda69-151c-4362-a75a-3b0bdf6f7ba1\",\"type\":\"CategoricalTicker\"}},\"id\":\"8f8ac90e-cd97-4a80-a4b4-592ab48d9406\",\"type\":\"Grid\"},{\"attributes\":{\"formatter\":{\"id\":\"627651f8-7895-432e-94ea-1b1785ce4162\",\"type\":\"CategoricalTickFormatter\"},\"plot\":{\"id\":\"bc7e7ef9-be8f-42dc-8b1c-3d455674af47\",\"subtype\":\"Figure\",\"type\":\"Plot\"},\"ticker\":{\"id\":\"17abda69-151c-4362-a75a-3b0bdf6f7ba1\",\"type\":\"CategoricalTicker\"}},\"id\":\"7e776d0b-3c9e-43aa-a8b0-2b160660ed20\",\"type\":\"CategoricalAxis\"},{\"attributes\":{},\"id\":\"17abda69-151c-4362-a75a-3b0bdf6f7ba1\",\"type\":\"CategoricalTicker\"},{\"attributes\":{\"callback\":null,\"factors\":[[\"rural\",\"R\"],[\"rural\",\"D\"],[\"suburban\",\"R\"],[\"suburban\",\"D\"],[\"urban\",\"R\"],[\"urban\",\"D\"]],\"range_padding\":0.1},\"id\":\"c0f254fd-aea7-43ea-99dc-f71769c2b670\",\"type\":\"FactorRange\"},{\"attributes\":{\"fill_alpha\":{\"value\":0.5},\"fill_color\":{\"field\":\"fill_color\"},\"line_alpha\":{\"value\":0.5},\"line_color\":{\"field\":\"line_color\"},\"top\":{\"field\":\"top\"},\"width\":{\"value\":0.9},\"x\":{\"field\":\"x\"}},\"id\":\"2133d102-10e1-4e6a-9c52-95d9ea6babb0\",\"type\":\"VBar\"},{\"attributes\":{},\"id\":\"f44d1439-232d-4e9e-9739-fe41d6a8f848\",\"type\":\"BasicTicker\"},{\"attributes\":{\"dimension\":1,\"plot\":{\"id\":\"bc7e7ef9-be8f-42dc-8b1c-3d455674af47\",\"subtype\":\"Figure\",\"type\":\"Plot\"},\"ticker\":{\"id\":\"f44d1439-232d-4e9e-9739-fe41d6a8f848\",\"type\":\"BasicTicker\"}},\"id\":\"91a1bd56-1cdd-4e1c-b00c-90f306f94a0d\",\"type\":\"Grid\"},{\"attributes\":{\"callback\":null,\"data\":{\"fill_color\":[\"red\",\"blue\",\"red\",\"blue\",\"red\",\"blue\"],\"line_color\":[\"red\",\"blue\",\"red\",\"blue\",\"red\",\"blue\"],\"top\":[63925,31866,33156,32641,9088,23935],\"x\":[[\"rural\",\"R\"],[\"rural\",\"D\"],[\"suburban\",\"R\"],[\"suburban\",\"D\"],[\"urban\",\"R\"],[\"urban\",\"D\"]]},\"selected\":{\"id\":\"818bd70e-b027-40a5-a8c2-177899ec13f0\",\"type\":\"Selection\"},\"selection_policy\":{\"id\":\"bde32ebd-0fad-42e7-846b-3ac6253a486f\",\"type\":\"UnionRenderers\"}},\"id\":\"b2db9930-8cbd-451d-b38e-82ec482eb0d2\",\"type\":\"ColumnDataSource\"},{\"attributes\":{\"fill_alpha\":{\"value\":0.1},\"fill_color\":{\"value\":\"#1f77b4\"},\"line_alpha\":{\"value\":0.1},\"line_color\":{\"value\":\"#1f77b4\"},\"top\":{\"field\":\"top\"},\"width\":{\"value\":0.9},\"x\":{\"field\":\"x\"}},\"id\":\"ad203be3-bb7f-4776-ab08-372090e3a5f9\",\"type\":\"VBar\"},{\"attributes\":{},\"id\":\"bde32ebd-0fad-42e7-846b-3ac6253a486f\",\"type\":\"UnionRenderers\"},{\"attributes\":{\"active_drag\":\"auto\",\"active_inspect\":\"auto\",\"active_scroll\":\"auto\",\"active_tap\":\"auto\"},\"id\":\"4abd3770-f15a-40f9-9606-593b6eaf697f\",\"type\":\"Toolbar\"},{\"attributes\":{\"data_source\":{\"id\":\"b2db9930-8cbd-451d-b38e-82ec482eb0d2\",\"type\":\"ColumnDataSource\"},\"glyph\":{\"id\":\"2133d102-10e1-4e6a-9c52-95d9ea6babb0\",\"type\":\"VBar\"},\"hover_glyph\":null,\"muted_glyph\":null,\"nonselection_glyph\":{\"id\":\"ad203be3-bb7f-4776-ab08-372090e3a5f9\",\"type\":\"VBar\"},\"selection_glyph\":null,\"view\":{\"id\":\"10deee72-fe30-4091-ad68-c57c53fb3738\",\"type\":\"CDSView\"}},\"id\":\"fd149f9b-b290-4ced-8cfe-845e7b89fdaf\",\"type\":\"GlyphRenderer\"},{\"attributes\":{},\"id\":\"3ab0f513-1630-4cf3-a9e2-79806840582a\",\"type\":\"BasicTickFormatter\"},{\"attributes\":{\"source\":{\"id\":\"b2db9930-8cbd-451d-b38e-82ec482eb0d2\",\"type\":\"ColumnDataSource\"}},\"id\":\"10deee72-fe30-4091-ad68-c57c53fb3738\",\"type\":\"CDSView\"},{\"attributes\":{\"plot\":null,\"text\":\"Population Level by Party\"},\"id\":\"432b3d92-aefc-4434-a63b-57598f931e3a\",\"type\":\"Title\"},{\"attributes\":{},\"id\":\"818bd70e-b027-40a5-a8c2-177899ec13f0\",\"type\":\"Selection\"},{\"attributes\":{},\"id\":\"627651f8-7895-432e-94ea-1b1785ce4162\",\"type\":\"CategoricalTickFormatter\"}],\"root_ids\":[\"bc7e7ef9-be8f-42dc-8b1c-3d455674af47\"]},\"title\":\"Bokeh Application\",\"version\":\"0.12.16\"}};\n",
       "  var render_items = [{\"docid\":\"d49ab9dc-b323-45aa-974c-297b5a7600dc\",\"elementid\":\"56172bdf-3e33-4941-86be-1ed149111ee1\",\"modelid\":\"bc7e7ef9-be8f-42dc-8b1c-3d455674af47\"}];\n",
       "  root.Bokeh.embed.embed_items_notebook(docs_json, render_items);\n",
       "\n",
       "  }\n",
       "  if (root.Bokeh !== undefined) {\n",
       "    embed_document(root);\n",
       "  } else {\n",
       "    var attempts = 0;\n",
       "    var timer = setInterval(function(root) {\n",
       "      if (root.Bokeh !== undefined) {\n",
       "        embed_document(root);\n",
       "        clearInterval(timer);\n",
       "      }\n",
       "      attempts++;\n",
       "      if (attempts > 100) {\n",
       "        console.log(\"Bokeh: ERROR: Unable to run BokehJS code because BokehJS library is missing\")\n",
       "        clearInterval(timer);\n",
       "      }\n",
       "    }, 10, root)\n",
       "  }\n",
       "})(window);"
      ],
      "application/vnd.bokehjs_exec.v0+json": ""
     },
     "metadata": {
      "application/vnd.bokehjs_exec.v0+json": {
       "id": "bc7e7ef9-be8f-42dc-8b1c-3d455674af47"
      }
     },
     "output_type": "display_data"
    }
   ],
   "source": [
    "pop_min, pop_max = voted_primary[\"POP_DENSITY\"].min(), voted_primary[\"POP_DENSITY\"].max()\n",
    "pop_levels = [0, 1000, 3000, np.inf] #np.linspace(pop_min, pop_max, 4)\n",
    "pop_designations = [\"rural\", \"suburban\", \"urban\"]\n",
    "\n",
    "factors = list(itertools.chain(*[((i, \"R\"), (i, \"D\")) for i in pop_designations]))\n",
    "pop_R = [voted_primary[voted_primary.is_R & (voted_primary[\"POP_DENSITY\"] > i) & (voted_primary[\"POP_DENSITY\"] < j)].shape[0] for i, j in pairwise(pop_levels)]\n",
    "pop_D = [voted_primary[voted_primary.is_D & (voted_primary[\"POP_DENSITY\"] > i) & (voted_primary[\"POP_DENSITY\"] < j)].shape[0] for i, j in pairwise(pop_levels)]\n",
    "pops = list(itertools.chain(*zip(pop_R, pop_D)))\n",
    "colors = list(itertools.chain(*[(\"red\", \"blue\") for i, j in pairwise(pop_levels)]))\n",
    "\n",
    "p = figure(x_range=FactorRange(*factors), plot_height=500, plot_width=1000, title=\"Population Level by Party\", toolbar_location=None, tools=\"\")\n",
    "p.vbar(x=factors, top=pops, width=0.9, alpha=0.5, color=colors)\n",
    "p.y_range.start = 0\n",
    "p.x_range.range_padding = 0.1\n",
    "\n",
    "show(p)"
   ]
  },
  {
   "cell_type": "code",
   "execution_count": 16,
   "metadata": {},
   "outputs": [
    {
     "data": {
      "text/html": [
       "\n",
       "<div class=\"bk-root\">\n",
       "    <div class=\"bk-plotdiv\" id=\"141a6f15-c61e-4d80-a7f2-1b2ce9ec471a\"></div>\n",
       "</div>"
      ]
     },
     "metadata": {},
     "output_type": "display_data"
    },
    {
     "data": {
      "application/javascript": [
       "(function(root) {\n",
       "  function embed_document(root) {\n",
       "    \n",
       "  var docs_json = {\"c50a73c2-9f70-47a1-8319-5a86a5a0057d\":{\"roots\":{\"references\":[{\"attributes\":{},\"id\":\"c28bbefe-3adb-46e3-b362-8507314a2600\",\"type\":\"CategoricalTicker\"},{\"attributes\":{\"source\":{\"id\":\"2655cd52-9d81-49ed-ac11-b1dbb7af500a\",\"type\":\"ColumnDataSource\"}},\"id\":\"bc322229-af91-480b-85ba-0cccd93e4b71\",\"type\":\"CDSView\"},{\"attributes\":{},\"id\":\"cf0907d0-878f-4d9f-92f3-fe0764d4893f\",\"type\":\"BasicTicker\"},{\"attributes\":{\"plot\":{\"id\":\"b4f3d059-c97a-4551-a71c-b34db13b5da3\",\"subtype\":\"Figure\",\"type\":\"Plot\"},\"ticker\":{\"id\":\"c28bbefe-3adb-46e3-b362-8507314a2600\",\"type\":\"CategoricalTicker\"}},\"id\":\"f285c407-c600-49fe-bac4-26cd18556a2f\",\"type\":\"Grid\"},{\"attributes\":{\"callback\":null,\"data\":{\"fill_color\":[\"red\",\"blue\",\"red\",\"blue\",\"red\",\"blue\",\"red\",\"blue\",\"red\",\"blue\",\"red\",\"blue\",\"red\",\"blue\",\"red\",\"blue\",\"red\",\"blue\",\"red\",\"blue\"],\"line_color\":[\"red\",\"blue\",\"red\",\"blue\",\"red\",\"blue\",\"red\",\"blue\",\"red\",\"blue\",\"red\",\"blue\",\"red\",\"blue\",\"red\",\"blue\",\"red\",\"blue\",\"red\",\"blue\"],\"top\":[2166,2423,4040,6186,7697,8110,14480,10562,24705,18973,24866,20665,13934,9746,3627,2734,135,157,12,20],\"x\":[[\"18-25\",\"R\"],[\"18-25\",\"D\"],[\"25-35\",\"R\"],[\"25-35\",\"D\"],[\"35-45\",\"R\"],[\"35-45\",\"D\"],[\"45-55\",\"R\"],[\"45-55\",\"D\"],[\"55-65\",\"R\"],[\"55-65\",\"D\"],[\"65-75\",\"R\"],[\"65-75\",\"D\"],[\"75-85\",\"R\"],[\"75-85\",\"D\"],[\"85-95\",\"R\"],[\"85-95\",\"D\"],[\"95-100\",\"R\"],[\"95-100\",\"D\"],[\"100-120\",\"R\"],[\"100-120\",\"D\"]]},\"selected\":{\"id\":\"4cc358c4-b767-4089-8f4d-1a85b855ec42\",\"type\":\"Selection\"},\"selection_policy\":{\"id\":\"d960df89-2229-498a-a50d-98b6743a92a4\",\"type\":\"UnionRenderers\"}},\"id\":\"2655cd52-9d81-49ed-ac11-b1dbb7af500a\",\"type\":\"ColumnDataSource\"},{\"attributes\":{},\"id\":\"8c6f1dee-03d6-4613-b3e6-6153fbde8da7\",\"type\":\"LinearScale\"},{\"attributes\":{\"plot\":null,\"text\":\"Age by Party\"},\"id\":\"b7850d6d-dba7-42d8-9535-6a1d04231684\",\"type\":\"Title\"},{\"attributes\":{},\"id\":\"4cc358c4-b767-4089-8f4d-1a85b855ec42\",\"type\":\"Selection\"},{\"attributes\":{\"callback\":null,\"start\":0},\"id\":\"9bff2d62-cac6-471f-920c-12f8d73fd744\",\"type\":\"DataRange1d\"},{\"attributes\":{},\"id\":\"d960df89-2229-498a-a50d-98b6743a92a4\",\"type\":\"UnionRenderers\"},{\"attributes\":{\"dimension\":1,\"plot\":{\"id\":\"b4f3d059-c97a-4551-a71c-b34db13b5da3\",\"subtype\":\"Figure\",\"type\":\"Plot\"},\"ticker\":{\"id\":\"cf0907d0-878f-4d9f-92f3-fe0764d4893f\",\"type\":\"BasicTicker\"}},\"id\":\"7261ce64-bf23-4311-af53-4aebb55fd836\",\"type\":\"Grid\"},{\"attributes\":{\"fill_alpha\":{\"value\":0.5},\"fill_color\":{\"field\":\"fill_color\"},\"line_alpha\":{\"value\":0.5},\"line_color\":{\"field\":\"line_color\"},\"top\":{\"field\":\"top\"},\"width\":{\"value\":0.9},\"x\":{\"field\":\"x\"}},\"id\":\"d9d93e49-dcfa-43e5-b1ec-c9ab64650639\",\"type\":\"VBar\"},{\"attributes\":{},\"id\":\"6d5acee8-d972-4574-9dc8-0c3575c456f8\",\"type\":\"CategoricalTickFormatter\"},{\"attributes\":{},\"id\":\"079d6dcb-0de1-4b53-ae51-1246bb36efd1\",\"type\":\"CategoricalScale\"},{\"attributes\":{\"below\":[{\"id\":\"8ab49e99-ccfe-4cc9-8972-0d5ef4886e0a\",\"type\":\"CategoricalAxis\"}],\"left\":[{\"id\":\"16f6bfaa-0e2c-4bfe-941e-ceabeb07c20f\",\"type\":\"LinearAxis\"}],\"plot_height\":500,\"plot_width\":1000,\"renderers\":[{\"id\":\"8ab49e99-ccfe-4cc9-8972-0d5ef4886e0a\",\"type\":\"CategoricalAxis\"},{\"id\":\"f285c407-c600-49fe-bac4-26cd18556a2f\",\"type\":\"Grid\"},{\"id\":\"16f6bfaa-0e2c-4bfe-941e-ceabeb07c20f\",\"type\":\"LinearAxis\"},{\"id\":\"7261ce64-bf23-4311-af53-4aebb55fd836\",\"type\":\"Grid\"},{\"id\":\"3d3aafea-3972-4734-94a2-f52ae2cd55cf\",\"type\":\"GlyphRenderer\"}],\"title\":{\"id\":\"b7850d6d-dba7-42d8-9535-6a1d04231684\",\"type\":\"Title\"},\"toolbar\":{\"id\":\"79be2118-4970-48b7-ad92-1a8f1626be7e\",\"type\":\"Toolbar\"},\"toolbar_location\":null,\"x_range\":{\"id\":\"bdda1021-e015-4414-8bfc-feebe426d1b0\",\"type\":\"FactorRange\"},\"x_scale\":{\"id\":\"079d6dcb-0de1-4b53-ae51-1246bb36efd1\",\"type\":\"CategoricalScale\"},\"y_range\":{\"id\":\"9bff2d62-cac6-471f-920c-12f8d73fd744\",\"type\":\"DataRange1d\"},\"y_scale\":{\"id\":\"8c6f1dee-03d6-4613-b3e6-6153fbde8da7\",\"type\":\"LinearScale\"}},\"id\":\"b4f3d059-c97a-4551-a71c-b34db13b5da3\",\"subtype\":\"Figure\",\"type\":\"Plot\"},{\"attributes\":{\"formatter\":{\"id\":\"6d5acee8-d972-4574-9dc8-0c3575c456f8\",\"type\":\"CategoricalTickFormatter\"},\"plot\":{\"id\":\"b4f3d059-c97a-4551-a71c-b34db13b5da3\",\"subtype\":\"Figure\",\"type\":\"Plot\"},\"ticker\":{\"id\":\"c28bbefe-3adb-46e3-b362-8507314a2600\",\"type\":\"CategoricalTicker\"}},\"id\":\"8ab49e99-ccfe-4cc9-8972-0d5ef4886e0a\",\"type\":\"CategoricalAxis\"},{\"attributes\":{},\"id\":\"637c9d65-7154-49d0-8f91-64ef77d5a037\",\"type\":\"BasicTickFormatter\"},{\"attributes\":{\"formatter\":{\"id\":\"637c9d65-7154-49d0-8f91-64ef77d5a037\",\"type\":\"BasicTickFormatter\"},\"plot\":{\"id\":\"b4f3d059-c97a-4551-a71c-b34db13b5da3\",\"subtype\":\"Figure\",\"type\":\"Plot\"},\"ticker\":{\"id\":\"cf0907d0-878f-4d9f-92f3-fe0764d4893f\",\"type\":\"BasicTicker\"}},\"id\":\"16f6bfaa-0e2c-4bfe-941e-ceabeb07c20f\",\"type\":\"LinearAxis\"},{\"attributes\":{\"fill_alpha\":{\"value\":0.1},\"fill_color\":{\"value\":\"#1f77b4\"},\"line_alpha\":{\"value\":0.1},\"line_color\":{\"value\":\"#1f77b4\"},\"top\":{\"field\":\"top\"},\"width\":{\"value\":0.9},\"x\":{\"field\":\"x\"}},\"id\":\"6c473708-3dcb-4c31-a9de-f5a4ddbc4ae9\",\"type\":\"VBar\"},{\"attributes\":{\"active_drag\":\"auto\",\"active_inspect\":\"auto\",\"active_scroll\":\"auto\",\"active_tap\":\"auto\"},\"id\":\"79be2118-4970-48b7-ad92-1a8f1626be7e\",\"type\":\"Toolbar\"},{\"attributes\":{\"callback\":null,\"factors\":[[\"18-25\",\"R\"],[\"18-25\",\"D\"],[\"25-35\",\"R\"],[\"25-35\",\"D\"],[\"35-45\",\"R\"],[\"35-45\",\"D\"],[\"45-55\",\"R\"],[\"45-55\",\"D\"],[\"55-65\",\"R\"],[\"55-65\",\"D\"],[\"65-75\",\"R\"],[\"65-75\",\"D\"],[\"75-85\",\"R\"],[\"75-85\",\"D\"],[\"85-95\",\"R\"],[\"85-95\",\"D\"],[\"95-100\",\"R\"],[\"95-100\",\"D\"],[\"100-120\",\"R\"],[\"100-120\",\"D\"]],\"range_padding\":0.1},\"id\":\"bdda1021-e015-4414-8bfc-feebe426d1b0\",\"type\":\"FactorRange\"},{\"attributes\":{\"data_source\":{\"id\":\"2655cd52-9d81-49ed-ac11-b1dbb7af500a\",\"type\":\"ColumnDataSource\"},\"glyph\":{\"id\":\"d9d93e49-dcfa-43e5-b1ec-c9ab64650639\",\"type\":\"VBar\"},\"hover_glyph\":null,\"muted_glyph\":null,\"nonselection_glyph\":{\"id\":\"6c473708-3dcb-4c31-a9de-f5a4ddbc4ae9\",\"type\":\"VBar\"},\"selection_glyph\":null,\"view\":{\"id\":\"bc322229-af91-480b-85ba-0cccd93e4b71\",\"type\":\"CDSView\"}},\"id\":\"3d3aafea-3972-4734-94a2-f52ae2cd55cf\",\"type\":\"GlyphRenderer\"}],\"root_ids\":[\"b4f3d059-c97a-4551-a71c-b34db13b5da3\"]},\"title\":\"Bokeh Application\",\"version\":\"0.12.16\"}};\n",
       "  var render_items = [{\"docid\":\"c50a73c2-9f70-47a1-8319-5a86a5a0057d\",\"elementid\":\"141a6f15-c61e-4d80-a7f2-1b2ce9ec471a\",\"modelid\":\"b4f3d059-c97a-4551-a71c-b34db13b5da3\"}];\n",
       "  root.Bokeh.embed.embed_items_notebook(docs_json, render_items);\n",
       "\n",
       "  }\n",
       "  if (root.Bokeh !== undefined) {\n",
       "    embed_document(root);\n",
       "  } else {\n",
       "    var attempts = 0;\n",
       "    var timer = setInterval(function(root) {\n",
       "      if (root.Bokeh !== undefined) {\n",
       "        embed_document(root);\n",
       "        clearInterval(timer);\n",
       "      }\n",
       "      attempts++;\n",
       "      if (attempts > 100) {\n",
       "        console.log(\"Bokeh: ERROR: Unable to run BokehJS code because BokehJS library is missing\")\n",
       "        clearInterval(timer);\n",
       "      }\n",
       "    }, 10, root)\n",
       "  }\n",
       "})(window);"
      ],
      "application/vnd.bokehjs_exec.v0+json": ""
     },
     "metadata": {
      "application/vnd.bokehjs_exec.v0+json": {
       "id": "b4f3d059-c97a-4551-a71c-b34db13b5da3"
      }
     },
     "output_type": "display_data"
    }
   ],
   "source": [
    "age_levels = [18, 25, 35, 45, 55, 65, 75, 85, 95, 100, 120]\n",
    "\n",
    "factors = list(itertools.chain(*[((f\"{i}-{j}\", \"R\"), (f\"{i}-{j}\", \"D\")) for i, j in pairwise(age_levels)]))\n",
    "age_R = [voted_primary[voted_primary.is_R & (voted_primary[\"AGE\"] > i) & (voted_primary[\"AGE\"] < j)].shape[0] for i, j in pairwise(age_levels)]\n",
    "age_D = [voted_primary[voted_primary.is_D & (voted_primary[\"AGE\"] > i) & (voted_primary[\"AGE\"] < j)].shape[0] for i, j in pairwise(age_levels)]\n",
    "ages = list(itertools.chain(*zip(age_R, age_D)))\n",
    "colors = list(itertools.chain(*[(\"red\", \"blue\") for i, j in pairwise(age_levels)]))\n",
    "\n",
    "p = figure(x_range=FactorRange(*factors), plot_height=500, plot_width=1000, title=\"Age by Party\", toolbar_location=None, tools=\"\")\n",
    "p.vbar(x=factors, top=ages, width=0.9, alpha=0.5, color=colors)\n",
    "p.y_range.start = 0\n",
    "p.x_range.range_padding = 0.1\n",
    "\n",
    "show(p)"
   ]
  },
  {
   "cell_type": "markdown",
   "metadata": {},
   "source": [
    "Let's calculate a couple more initeresting statistics from the 2018 midterm election:"
   ]
  },
  {
   "cell_type": "code",
   "execution_count": 17,
   "metadata": {},
   "outputs": [
    {
     "data": {
      "text/html": [
       "\n",
       "<div class=\"bk-root\">\n",
       "    <div class=\"bk-plotdiv\" id=\"5c80601f-f603-40fc-9aaa-9d18d3b3992c\"></div>\n",
       "</div>"
      ]
     },
     "metadata": {},
     "output_type": "display_data"
    },
    {
     "data": {
      "application/javascript": [
       "(function(root) {\n",
       "  function embed_document(root) {\n",
       "    \n",
       "  var docs_json = {\"c2c2f92c-0769-4b92-9909-609d3a1e9581\":{\"roots\":{\"references\":[{\"attributes\":{},\"id\":\"795d7a31-869f-4c8c-9c9a-4160cdcf9a9b\",\"type\":\"BasicTickFormatter\"},{\"attributes\":{},\"id\":\"3bc66fda-2992-4d1f-9c27-f3b9106c85f9\",\"type\":\"LinearScale\"},{\"attributes\":{},\"id\":\"8203dced-8992-4a73-bdc7-6276f647d688\",\"type\":\"CategoricalTickFormatter\"},{\"attributes\":{\"callback\":null,\"factors\":[\"Democrat\",\"Republican\"]},\"id\":\"78566344-2dee-4825-be4f-45ff46ed3180\",\"type\":\"FactorRange\"},{\"attributes\":{\"formatter\":{\"id\":\"8203dced-8992-4a73-bdc7-6276f647d688\",\"type\":\"CategoricalTickFormatter\"},\"plot\":{\"id\":\"3e5213d2-a05c-4898-afb0-257cbfda8972\",\"subtype\":\"Figure\",\"type\":\"Plot\"},\"ticker\":{\"id\":\"f3aa8ff8-553a-4aa2-b71c-27707068b9f3\",\"type\":\"CategoricalTicker\"}},\"id\":\"ba95b50d-ed8f-4b5c-9172-0f4bca170021\",\"type\":\"CategoricalAxis\"},{\"attributes\":{\"grid_line_color\":{\"value\":null},\"plot\":{\"id\":\"3e5213d2-a05c-4898-afb0-257cbfda8972\",\"subtype\":\"Figure\",\"type\":\"Plot\"},\"ticker\":{\"id\":\"f3aa8ff8-553a-4aa2-b71c-27707068b9f3\",\"type\":\"CategoricalTicker\"}},\"id\":\"c4e07745-f748-460e-b4de-1b54f06cfe24\",\"type\":\"Grid\"},{\"attributes\":{\"data_source\":{\"id\":\"5820fca6-e5a2-4605-8e39-bb2599d6bb6d\",\"type\":\"ColumnDataSource\"},\"glyph\":{\"id\":\"3ecb5303-72cf-4e59-8aa8-2ad3c09cbe21\",\"type\":\"VBar\"},\"hover_glyph\":null,\"muted_glyph\":null,\"nonselection_glyph\":{\"id\":\"ffd66b5b-6069-4db4-a0fa-1bf096f083d2\",\"type\":\"VBar\"},\"selection_glyph\":null,\"view\":{\"id\":\"899ac077-f266-445e-96a9-5d54142951a0\",\"type\":\"CDSView\"}},\"id\":\"10c212ef-966d-4c25-9e4d-02d1855b94d4\",\"type\":\"GlyphRenderer\"},{\"attributes\":{},\"id\":\"90d133d7-1677-4138-9962-b7944c39410d\",\"type\":\"Selection\"},{\"attributes\":{\"fill_alpha\":{\"value\":0.5},\"fill_color\":{\"field\":\"fill_color\"},\"line_alpha\":{\"value\":0.5},\"line_color\":{\"value\":\"#1f77b4\"},\"top\":{\"field\":\"top\"},\"width\":{\"value\":0.9},\"x\":{\"field\":\"x\"}},\"id\":\"3ecb5303-72cf-4e59-8aa8-2ad3c09cbe21\",\"type\":\"VBar\"},{\"attributes\":{\"plot\":null,\"text\":\"Primary Turnout by Party\"},\"id\":\"833e127b-0453-4858-9361-90d1a62cb61e\",\"type\":\"Title\"},{\"attributes\":{},\"id\":\"367df4cb-1c38-4e1c-970e-9c8ed8d0d6f1\",\"type\":\"CategoricalScale\"},{\"attributes\":{},\"id\":\"51a12cc4-8021-4cbf-bf27-1e1aa51f00c1\",\"type\":\"BasicTicker\"},{\"attributes\":{},\"id\":\"f72cf458-0114-4628-aef2-cf2ca20d1f77\",\"type\":\"UnionRenderers\"},{\"attributes\":{\"dimension\":1,\"plot\":{\"id\":\"3e5213d2-a05c-4898-afb0-257cbfda8972\",\"subtype\":\"Figure\",\"type\":\"Plot\"},\"ticker\":{\"id\":\"51a12cc4-8021-4cbf-bf27-1e1aa51f00c1\",\"type\":\"BasicTicker\"}},\"id\":\"577b6d2d-c399-4189-96dc-dd7added67f4\",\"type\":\"Grid\"},{\"attributes\":{\"formatter\":{\"id\":\"795d7a31-869f-4c8c-9c9a-4160cdcf9a9b\",\"type\":\"BasicTickFormatter\"},\"plot\":{\"id\":\"3e5213d2-a05c-4898-afb0-257cbfda8972\",\"subtype\":\"Figure\",\"type\":\"Plot\"},\"ticker\":{\"id\":\"51a12cc4-8021-4cbf-bf27-1e1aa51f00c1\",\"type\":\"BasicTicker\"}},\"id\":\"d66ab233-9926-42fe-8081-8dbe284a5e06\",\"type\":\"LinearAxis\"},{\"attributes\":{},\"id\":\"f3aa8ff8-553a-4aa2-b71c-27707068b9f3\",\"type\":\"CategoricalTicker\"},{\"attributes\":{\"active_drag\":\"auto\",\"active_inspect\":\"auto\",\"active_scroll\":\"auto\",\"active_tap\":\"auto\"},\"id\":\"f6d20146-2d8d-48de-8ac0-e15e66f1e063\",\"type\":\"Toolbar\"},{\"attributes\":{\"fill_alpha\":{\"value\":0.1},\"fill_color\":{\"value\":\"#1f77b4\"},\"line_alpha\":{\"value\":0.1},\"line_color\":{\"value\":\"#1f77b4\"},\"top\":{\"field\":\"top\"},\"width\":{\"value\":0.9},\"x\":{\"field\":\"x\"}},\"id\":\"ffd66b5b-6069-4db4-a0fa-1bf096f083d2\",\"type\":\"VBar\"},{\"attributes\":{\"callback\":null,\"data\":{\"fill_color\":[\"blue\",\"red\"],\"top\":[0.5316928688065412,0.45119040205907385],\"x\":[\"Democrat\",\"Republican\"]},\"selected\":{\"id\":\"90d133d7-1677-4138-9962-b7944c39410d\",\"type\":\"Selection\"},\"selection_policy\":{\"id\":\"f72cf458-0114-4628-aef2-cf2ca20d1f77\",\"type\":\"UnionRenderers\"}},\"id\":\"5820fca6-e5a2-4605-8e39-bb2599d6bb6d\",\"type\":\"ColumnDataSource\"},{\"attributes\":{\"below\":[{\"id\":\"ba95b50d-ed8f-4b5c-9172-0f4bca170021\",\"type\":\"CategoricalAxis\"}],\"left\":[{\"id\":\"d66ab233-9926-42fe-8081-8dbe284a5e06\",\"type\":\"LinearAxis\"}],\"plot_height\":350,\"renderers\":[{\"id\":\"ba95b50d-ed8f-4b5c-9172-0f4bca170021\",\"type\":\"CategoricalAxis\"},{\"id\":\"c4e07745-f748-460e-b4de-1b54f06cfe24\",\"type\":\"Grid\"},{\"id\":\"d66ab233-9926-42fe-8081-8dbe284a5e06\",\"type\":\"LinearAxis\"},{\"id\":\"577b6d2d-c399-4189-96dc-dd7added67f4\",\"type\":\"Grid\"},{\"id\":\"10c212ef-966d-4c25-9e4d-02d1855b94d4\",\"type\":\"GlyphRenderer\"}],\"title\":{\"id\":\"833e127b-0453-4858-9361-90d1a62cb61e\",\"type\":\"Title\"},\"toolbar\":{\"id\":\"f6d20146-2d8d-48de-8ac0-e15e66f1e063\",\"type\":\"Toolbar\"},\"toolbar_location\":null,\"x_range\":{\"id\":\"78566344-2dee-4825-be4f-45ff46ed3180\",\"type\":\"FactorRange\"},\"x_scale\":{\"id\":\"367df4cb-1c38-4e1c-970e-9c8ed8d0d6f1\",\"type\":\"CategoricalScale\"},\"y_range\":{\"id\":\"c08dd1f7-c32a-472d-9321-c9718a1197c0\",\"type\":\"DataRange1d\"},\"y_scale\":{\"id\":\"3bc66fda-2992-4d1f-9c27-f3b9106c85f9\",\"type\":\"LinearScale\"}},\"id\":\"3e5213d2-a05c-4898-afb0-257cbfda8972\",\"subtype\":\"Figure\",\"type\":\"Plot\"},{\"attributes\":{\"callback\":null,\"start\":0},\"id\":\"c08dd1f7-c32a-472d-9321-c9718a1197c0\",\"type\":\"DataRange1d\"},{\"attributes\":{\"source\":{\"id\":\"5820fca6-e5a2-4605-8e39-bb2599d6bb6d\",\"type\":\"ColumnDataSource\"}},\"id\":\"899ac077-f266-445e-96a9-5d54142951a0\",\"type\":\"CDSView\"}],\"root_ids\":[\"3e5213d2-a05c-4898-afb0-257cbfda8972\"]},\"title\":\"Bokeh Application\",\"version\":\"0.12.16\"}};\n",
       "  var render_items = [{\"docid\":\"c2c2f92c-0769-4b92-9909-609d3a1e9581\",\"elementid\":\"5c80601f-f603-40fc-9aaa-9d18d3b3992c\",\"modelid\":\"3e5213d2-a05c-4898-afb0-257cbfda8972\"}];\n",
       "  root.Bokeh.embed.embed_items_notebook(docs_json, render_items);\n",
       "\n",
       "  }\n",
       "  if (root.Bokeh !== undefined) {\n",
       "    embed_document(root);\n",
       "  } else {\n",
       "    var attempts = 0;\n",
       "    var timer = setInterval(function(root) {\n",
       "      if (root.Bokeh !== undefined) {\n",
       "        embed_document(root);\n",
       "        clearInterval(timer);\n",
       "      }\n",
       "      attempts++;\n",
       "      if (attempts > 100) {\n",
       "        console.log(\"Bokeh: ERROR: Unable to run BokehJS code because BokehJS library is missing\")\n",
       "        clearInterval(timer);\n",
       "      }\n",
       "    }, 10, root)\n",
       "  }\n",
       "})(window);"
      ],
      "application/vnd.bokehjs_exec.v0+json": ""
     },
     "metadata": {
      "application/vnd.bokehjs_exec.v0+json": {
       "id": "3e5213d2-a05c-4898-afb0-257cbfda8972"
      }
     },
     "output_type": "display_data"
    }
   ],
   "source": [
    "primary_turnouts = [df_reduced.groupby([\"PARTY_AFFILIATION\"]).get_group(party)['PRIMARY-05/08/2018'].notnull().sum()\n",
    "                        / (df_reduced[\"PARTY_AFFILIATION\"] == party).sum() for party in ['D', 'R']]\n",
    "parties = [\"Democrat\", \"Republican\"]\n",
    "colors = [\"blue\", \"red\"]\n",
    "\n",
    "p = figure(x_range=parties, plot_height=350, title=\"Primary Turnout by Party\", toolbar_location=None, tools=\"\")\n",
    "p.vbar(x=parties, top=primary_turnouts, width=0.9, alpha=0.5, fill_color=colors)\n",
    "p.xgrid.grid_line_color = None\n",
    "p.y_range.start = 0\n",
    "\n",
    "show(p)"
   ]
  },
  {
   "cell_type": "code",
   "execution_count": 18,
   "metadata": {},
   "outputs": [
    {
     "data": {
      "text/html": [
       "\n",
       "<div class=\"bk-root\">\n",
       "    <div class=\"bk-plotdiv\" id=\"f8a0b730-1312-4958-872d-c6364a99e604\"></div>\n",
       "</div>"
      ]
     },
     "metadata": {},
     "output_type": "display_data"
    },
    {
     "data": {
      "application/javascript": [
       "(function(root) {\n",
       "  function embed_document(root) {\n",
       "    \n",
       "  var docs_json = {\"86ec6d11-2c22-4b61-bf38-ec8f432c2cce\":{\"roots\":{\"references\":[{\"attributes\":{\"data_source\":{\"id\":\"02c75c8a-aa70-4da4-8c0d-ce22a4fe4330\",\"type\":\"ColumnDataSource\"},\"glyph\":{\"id\":\"90a5be34-aad1-47d0-ace8-6a62b558f489\",\"type\":\"VBar\"},\"hover_glyph\":null,\"muted_glyph\":null,\"nonselection_glyph\":{\"id\":\"5f4266bf-1c10-4dc3-9036-885d6465ea56\",\"type\":\"VBar\"},\"selection_glyph\":null,\"view\":{\"id\":\"1f8b276f-b0b3-4bcb-8481-f497535739ee\",\"type\":\"CDSView\"}},\"id\":\"bfd9f6b9-51fb-4deb-b0f9-1663e6129b19\",\"type\":\"GlyphRenderer\"},{\"attributes\":{},\"id\":\"00798bb5-c6a9-4efd-b5a4-f220aba1b5b4\",\"type\":\"LinearScale\"},{\"attributes\":{\"fill_alpha\":{\"value\":0.5},\"fill_color\":{\"field\":\"fill_color\"},\"line_alpha\":{\"value\":0.5},\"line_color\":{\"value\":\"#1f77b4\"},\"top\":{\"field\":\"top\"},\"width\":{\"value\":0.9},\"x\":{\"field\":\"x\"}},\"id\":\"90a5be34-aad1-47d0-ace8-6a62b558f489\",\"type\":\"VBar\"},{\"attributes\":{\"callback\":null,\"start\":0},\"id\":\"fc22cfd5-867f-4b16-ab63-6f3aad6b4446\",\"type\":\"DataRange1d\"},{\"attributes\":{},\"id\":\"fb8c4b14-cb70-4ef6-82f5-e78cabe2ed4d\",\"type\":\"Selection\"},{\"attributes\":{},\"id\":\"545bc979-0237-4a89-8a8d-8f2bb1029ab2\",\"type\":\"BasicTicker\"},{\"attributes\":{\"formatter\":{\"id\":\"028a7ac2-e0d3-4119-94cd-46f31008631f\",\"type\":\"BasicTickFormatter\"},\"plot\":{\"id\":\"7d5245e4-92d8-43ae-9414-fb15083d649b\",\"subtype\":\"Figure\",\"type\":\"Plot\"},\"ticker\":{\"id\":\"545bc979-0237-4a89-8a8d-8f2bb1029ab2\",\"type\":\"BasicTicker\"}},\"id\":\"54d8953f-167b-45d0-87e5-776a7a80bb08\",\"type\":\"LinearAxis\"},{\"attributes\":{\"callback\":null,\"factors\":[\"Democrat\",\"Republican\"]},\"id\":\"19aaa577-aa7d-46e3-8c17-feb6b404c12a\",\"type\":\"FactorRange\"},{\"attributes\":{\"active_drag\":\"auto\",\"active_inspect\":\"auto\",\"active_scroll\":\"auto\",\"active_tap\":\"auto\"},\"id\":\"951bd22d-4564-4135-bf75-c81690af5d3d\",\"type\":\"Toolbar\"},{\"attributes\":{\"fill_alpha\":{\"value\":0.1},\"fill_color\":{\"value\":\"#1f77b4\"},\"line_alpha\":{\"value\":0.1},\"line_color\":{\"value\":\"#1f77b4\"},\"top\":{\"field\":\"top\"},\"width\":{\"value\":0.9},\"x\":{\"field\":\"x\"}},\"id\":\"5f4266bf-1c10-4dc3-9036-885d6465ea56\",\"type\":\"VBar\"},{\"attributes\":{},\"id\":\"466a976d-d452-46f1-88ff-da51b81b015a\",\"type\":\"CategoricalScale\"},{\"attributes\":{},\"id\":\"d8efa08f-79b3-4eb3-9213-cbe9d22b8af8\",\"type\":\"CategoricalTicker\"},{\"attributes\":{},\"id\":\"0a07408a-7fd8-4587-8722-4b06566359dc\",\"type\":\"UnionRenderers\"},{\"attributes\":{\"formatter\":{\"id\":\"f0b90f93-cb9c-48f4-a3f8-bce4dbf7e581\",\"type\":\"CategoricalTickFormatter\"},\"plot\":{\"id\":\"7d5245e4-92d8-43ae-9414-fb15083d649b\",\"subtype\":\"Figure\",\"type\":\"Plot\"},\"ticker\":{\"id\":\"d8efa08f-79b3-4eb3-9213-cbe9d22b8af8\",\"type\":\"CategoricalTicker\"}},\"id\":\"406180d7-f21d-4618-8519-0158b7b61114\",\"type\":\"CategoricalAxis\"},{\"attributes\":{\"callback\":null,\"data\":{\"fill_color\":[\"blue\",\"red\"],\"top\":[0.4234198262196212,0.4310936754052764],\"x\":[\"Democrat\",\"Republican\"]},\"selected\":{\"id\":\"fb8c4b14-cb70-4ef6-82f5-e78cabe2ed4d\",\"type\":\"Selection\"},\"selection_policy\":{\"id\":\"0a07408a-7fd8-4587-8722-4b06566359dc\",\"type\":\"UnionRenderers\"}},\"id\":\"02c75c8a-aa70-4da4-8c0d-ce22a4fe4330\",\"type\":\"ColumnDataSource\"},{\"attributes\":{\"grid_line_color\":{\"value\":null},\"plot\":{\"id\":\"7d5245e4-92d8-43ae-9414-fb15083d649b\",\"subtype\":\"Figure\",\"type\":\"Plot\"},\"ticker\":{\"id\":\"d8efa08f-79b3-4eb3-9213-cbe9d22b8af8\",\"type\":\"CategoricalTicker\"}},\"id\":\"fa986d8a-9b8a-4cdc-a3ae-63d67276a5ea\",\"type\":\"Grid\"},{\"attributes\":{\"source\":{\"id\":\"02c75c8a-aa70-4da4-8c0d-ce22a4fe4330\",\"type\":\"ColumnDataSource\"}},\"id\":\"1f8b276f-b0b3-4bcb-8481-f497535739ee\",\"type\":\"CDSView\"},{\"attributes\":{},\"id\":\"028a7ac2-e0d3-4119-94cd-46f31008631f\",\"type\":\"BasicTickFormatter\"},{\"attributes\":{\"dimension\":1,\"plot\":{\"id\":\"7d5245e4-92d8-43ae-9414-fb15083d649b\",\"subtype\":\"Figure\",\"type\":\"Plot\"},\"ticker\":{\"id\":\"545bc979-0237-4a89-8a8d-8f2bb1029ab2\",\"type\":\"BasicTicker\"}},\"id\":\"67fca44f-3f6a-4b1c-bf01-99e8743b4959\",\"type\":\"Grid\"},{\"attributes\":{\"below\":[{\"id\":\"406180d7-f21d-4618-8519-0158b7b61114\",\"type\":\"CategoricalAxis\"}],\"left\":[{\"id\":\"54d8953f-167b-45d0-87e5-776a7a80bb08\",\"type\":\"LinearAxis\"}],\"plot_height\":350,\"renderers\":[{\"id\":\"406180d7-f21d-4618-8519-0158b7b61114\",\"type\":\"CategoricalAxis\"},{\"id\":\"fa986d8a-9b8a-4cdc-a3ae-63d67276a5ea\",\"type\":\"Grid\"},{\"id\":\"54d8953f-167b-45d0-87e5-776a7a80bb08\",\"type\":\"LinearAxis\"},{\"id\":\"67fca44f-3f6a-4b1c-bf01-99e8743b4959\",\"type\":\"Grid\"},{\"id\":\"bfd9f6b9-51fb-4deb-b0f9-1663e6129b19\",\"type\":\"GlyphRenderer\"}],\"title\":{\"id\":\"e2b92bb8-ab80-4032-8e83-15b481662548\",\"type\":\"Title\"},\"toolbar\":{\"id\":\"951bd22d-4564-4135-bf75-c81690af5d3d\",\"type\":\"Toolbar\"},\"toolbar_location\":null,\"x_range\":{\"id\":\"19aaa577-aa7d-46e3-8c17-feb6b404c12a\",\"type\":\"FactorRange\"},\"x_scale\":{\"id\":\"466a976d-d452-46f1-88ff-da51b81b015a\",\"type\":\"CategoricalScale\"},\"y_range\":{\"id\":\"fc22cfd5-867f-4b16-ab63-6f3aad6b4446\",\"type\":\"DataRange1d\"},\"y_scale\":{\"id\":\"00798bb5-c6a9-4efd-b5a4-f220aba1b5b4\",\"type\":\"LinearScale\"}},\"id\":\"7d5245e4-92d8-43ae-9414-fb15083d649b\",\"subtype\":\"Figure\",\"type\":\"Plot\"},{\"attributes\":{\"plot\":null,\"text\":\"General Election Turnout by Party\"},\"id\":\"e2b92bb8-ab80-4032-8e83-15b481662548\",\"type\":\"Title\"},{\"attributes\":{},\"id\":\"f0b90f93-cb9c-48f4-a3f8-bce4dbf7e581\",\"type\":\"CategoricalTickFormatter\"}],\"root_ids\":[\"7d5245e4-92d8-43ae-9414-fb15083d649b\"]},\"title\":\"Bokeh Application\",\"version\":\"0.12.16\"}};\n",
       "  var render_items = [{\"docid\":\"86ec6d11-2c22-4b61-bf38-ec8f432c2cce\",\"elementid\":\"f8a0b730-1312-4958-872d-c6364a99e604\",\"modelid\":\"7d5245e4-92d8-43ae-9414-fb15083d649b\"}];\n",
       "  root.Bokeh.embed.embed_items_notebook(docs_json, render_items);\n",
       "\n",
       "  }\n",
       "  if (root.Bokeh !== undefined) {\n",
       "    embed_document(root);\n",
       "  } else {\n",
       "    var attempts = 0;\n",
       "    var timer = setInterval(function(root) {\n",
       "      if (root.Bokeh !== undefined) {\n",
       "        embed_document(root);\n",
       "        clearInterval(timer);\n",
       "      }\n",
       "      attempts++;\n",
       "      if (attempts > 100) {\n",
       "        console.log(\"Bokeh: ERROR: Unable to run BokehJS code because BokehJS library is missing\")\n",
       "        clearInterval(timer);\n",
       "      }\n",
       "    }, 10, root)\n",
       "  }\n",
       "})(window);"
      ],
      "application/vnd.bokehjs_exec.v0+json": ""
     },
     "metadata": {
      "application/vnd.bokehjs_exec.v0+json": {
       "id": "7d5245e4-92d8-43ae-9414-fb15083d649b"
      }
     },
     "output_type": "display_data"
    }
   ],
   "source": [
    "general_turnouts = [df_reduced.groupby([\"PARTY_AFFILIATION\"]).get_group(party)['GENERAL-11/06/2018'].notnull().sum()\n",
    "                        / (df_reduced[\"PARTY_AFFILIATION\"] == party).sum() for party in ['D', 'R']]\n",
    "parties = [\"Democrat\", \"Republican\"]\n",
    "colors = [\"blue\", \"red\"]\n",
    "\n",
    "p = figure(x_range=parties, plot_height=350, title=\"General Election Turnout by Party\", toolbar_location=None, tools=\"\")\n",
    "p.vbar(x=parties, top=general_turnouts, width=0.9, alpha=0.5, fill_color=colors)\n",
    "p.xgrid.grid_line_color = None\n",
    "p.y_range.start = 0\n",
    "\n",
    "show(p)"
   ]
  },
  {
   "cell_type": "markdown",
   "metadata": {},
   "source": [
    "# Prediction model"
   ]
  },
  {
   "cell_type": "code",
   "execution_count": 34,
   "metadata": {},
   "outputs": [
    {
     "name": "stdout",
     "output_type": "stream",
     "text": [
      "175152 0.45425116470265825\n",
      "19462 0.4562223820778954\n"
     ]
    }
   ],
   "source": [
    "features = ['AGE', 'AVG_INCOME', 'POP_DENSITY']\n",
    "target = 'is_D'\n",
    "\n",
    "model_df = voted_primary[features + ['is_R', 'is_D']].dropna().reset_index()\n",
    "train_df, holdout_df, y_train, y_holdout = train_test_split(\n",
    "    model_df[features], \n",
    "    model_df[target], test_size=0.1)\n",
    "\n",
    "train_df[target] = y_train\n",
    "holdout_df[target] = y_holdout\n",
    "\n",
    "train_df.reset_index(inplace=True)\n",
    "holdout_df.reset_index(inplace=True)\n",
    "\n",
    "print(train_df.shape[0], train_df[target].mean())\n",
    "print(holdout_df.shape[0], holdout_df[target].mean())"
   ]
  },
  {
   "cell_type": "code",
   "execution_count": 21,
   "metadata": {},
   "outputs": [],
   "source": [
    "k_fold = KFold(n_splits=5)"
   ]
  },
  {
   "cell_type": "code",
   "execution_count": 22,
   "metadata": {},
   "outputs": [],
   "source": [
    "def get_cv_results(classifier):\n",
    "    \n",
    "    results = []\n",
    "    for train, test in k_fold.split(train_df):\n",
    "        classifier.fit(train_df.loc[train, features], train_df.loc[train, target])\n",
    "        y_predicted = classifier.predict(train_df.loc[test, features])\n",
    "        accuracy = accuracy_score(train_df.loc[test, target], y_predicted)\n",
    "        results.append(accuracy)\n",
    "    \n",
    "    return np.mean(results), np.std(results)"
   ]
  },
  {
   "cell_type": "markdown",
   "metadata": {},
   "source": [
    "##### Logistic regression"
   ]
  },
  {
   "cell_type": "markdown",
   "metadata": {},
   "source": [
    "Let's try to optimize the regularization strength hyperameter:"
   ]
  },
  {
   "cell_type": "code",
   "execution_count": 23,
   "metadata": {},
   "outputs": [
    {
     "name": "stdout",
     "output_type": "stream",
     "text": [
      "Fitting 5 folds for each of 12 candidates, totalling 60 fits\n"
     ]
    },
    {
     "name": "stderr",
     "output_type": "stream",
     "text": [
      "[Parallel(n_jobs=-1)]: Done  33 tasks      | elapsed:    8.7s\n",
      "[Parallel(n_jobs=-1)]: Done  60 out of  60 | elapsed:   12.8s finished\n"
     ]
    }
   ],
   "source": [
    "c = [0.001,0.01,0.1,1,10,100]\n",
    "penalty = ['l1', 'l2']\n",
    "\n",
    "grid = {'C': c,\n",
    "           'penalty': penalty}\n",
    "\n",
    "logreg = LogisticRegression()\n",
    "\n",
    "logreg_random = GridSearchCV(estimator = logreg, param_grid = grid, cv = 5, verbose=2, n_jobs = -1)\n",
    "logreg_random.fit(train_df.loc[:, features], train_df[target])\n",
    "logreg_best_params = logreg_random.best_params_"
   ]
  },
  {
   "cell_type": "code",
   "execution_count": 24,
   "metadata": {},
   "outputs": [
    {
     "data": {
      "text/plain": [
       "(0.6446457590073171, 0.003353367676066037)"
      ]
     },
     "execution_count": 24,
     "metadata": {},
     "output_type": "execute_result"
    }
   ],
   "source": [
    "logreg = LogisticRegression(**logreg_random.best_params_)\n",
    "\n",
    "get_cv_results(logreg)"
   ]
  },
  {
   "cell_type": "markdown",
   "metadata": {},
   "source": [
    "##### Decision Tree"
   ]
  },
  {
   "cell_type": "code",
   "execution_count": 25,
   "metadata": {},
   "outputs": [
    {
     "name": "stdout",
     "output_type": "stream",
     "text": [
      "Fitting 5 folds for each of 112 candidates, totalling 560 fits\n"
     ]
    },
    {
     "name": "stderr",
     "output_type": "stream",
     "text": [
      "[Parallel(n_jobs=-1)]: Done  33 tasks      | elapsed:    3.5s\n",
      "[Parallel(n_jobs=-1)]: Done 154 tasks      | elapsed:    8.3s\n",
      "[Parallel(n_jobs=-1)]: Done 357 tasks      | elapsed:   21.6s\n",
      "[Parallel(n_jobs=-1)]: Done 560 out of 560 | elapsed:   35.1s finished\n"
     ]
    }
   ],
   "source": [
    "min_samples_split = [2, 5, 7, 10, 15, 20, 50, 60, 70, 80, 90, 100, 120, 150]\n",
    "max_depth = [3, 4, 5, 6, 7, 8, 9, 10]\n",
    "\n",
    "grid = {'max_depth': max_depth,\n",
    "               'min_samples_split': min_samples_split}\n",
    "\n",
    "dtree = DecisionTreeClassifier()\n",
    "\n",
    "dtree_random = GridSearchCV(estimator = dtree, param_grid = grid, cv = 5, verbose=2, n_jobs = -1)\n",
    "dtree_random.fit(train_df.loc[:, features], train_df[target])\n",
    "dtree_best_params = dtree_random.best_params_"
   ]
  },
  {
   "cell_type": "code",
   "execution_count": 26,
   "metadata": {},
   "outputs": [
    {
     "data": {
      "text/plain": [
       "(0.674157301709844, 0.0019122958581305946)"
      ]
     },
     "execution_count": 26,
     "metadata": {},
     "output_type": "execute_result"
    }
   ],
   "source": [
    "dtree = DecisionTreeClassifier(**dtree_random.best_params_)\n",
    "\n",
    "get_cv_results(dtree)"
   ]
  },
  {
   "cell_type": "markdown",
   "metadata": {},
   "source": [
    "##### Random Forest"
   ]
  },
  {
   "cell_type": "code",
   "execution_count": 28,
   "metadata": {},
   "outputs": [
    {
     "name": "stdout",
     "output_type": "stream",
     "text": [
      "Fitting 3 folds for each of 20 candidates, totalling 60 fits\n"
     ]
    },
    {
     "name": "stderr",
     "output_type": "stream",
     "text": [
      "[Parallel(n_jobs=-1)]: Done  33 tasks      | elapsed:  8.3min\n",
      "[Parallel(n_jobs=-1)]: Done  60 out of  60 | elapsed: 14.7min finished\n"
     ]
    }
   ],
   "source": [
    "n_estimators = [int(x) for x in np.linspace(start = 50, stop = 2000, num = 10)]\n",
    "max_depth = [3, 4, 5, 6, 7, 8, 9, 10]\n",
    "max_features = ['auto', 'sqrt']\n",
    "max_depth.append(None)\n",
    "min_samples_split = [500, 750, 1000, 1250, 1500]\n",
    "min_samples_leaf = [1, 2, 4]\n",
    "bootstrap = [True, False]\n",
    "\n",
    "random_grid = {'n_estimators': n_estimators,\n",
    "               'max_features': max_features,\n",
    "               'max_depth': max_depth,\n",
    "               'min_samples_split': min_samples_split,\n",
    "               'min_samples_leaf': min_samples_leaf,\n",
    "               'bootstrap': bootstrap}\n",
    "\n",
    "rforest = RandomForestClassifier()\n",
    "\n",
    "rf_random = RandomizedSearchCV(estimator = rforest, param_distributions = random_grid, n_iter = 20, cv = 3, verbose=2, random_state=42, n_jobs = -1)\n",
    "rf_random.fit(train_df.loc[:, features], train_df[target])\n",
    "rf_best_params = rf_random.best_params_"
   ]
  },
  {
   "cell_type": "code",
   "execution_count": 29,
   "metadata": {},
   "outputs": [
    {
     "data": {
      "text/plain": [
       "(0.6739860072388232, 0.002282073405253723)"
      ]
     },
     "execution_count": 29,
     "metadata": {},
     "output_type": "execute_result"
    }
   ],
   "source": [
    "rforest = RandomForestClassifier(**rf_random.best_params_)\n",
    "\n",
    "get_cv_results(rforest)"
   ]
  },
  {
   "cell_type": "markdown",
   "metadata": {},
   "source": [
    "##### Gradient Boosting"
   ]
  },
  {
   "cell_type": "code",
   "execution_count": 30,
   "metadata": {},
   "outputs": [
    {
     "name": "stdout",
     "output_type": "stream",
     "text": [
      "Fitting 3 folds for each of 100 candidates, totalling 300 fits\n"
     ]
    },
    {
     "name": "stderr",
     "output_type": "stream",
     "text": [
      "[Parallel(n_jobs=-1)]: Done  33 tasks      | elapsed:   22.3s\n",
      "[Parallel(n_jobs=-1)]: Done 154 tasks      | elapsed:  1.5min\n",
      "[Parallel(n_jobs=-1)]: Done 300 out of 300 | elapsed:  2.8min finished\n"
     ]
    }
   ],
   "source": [
    "learning_rate = [1, 0.5, 0.25, 0.1, 0.05, 0.01]\n",
    "n_estimators = [1, 2, 4, 8, 16, 32, 64, 100, 200]\n",
    "max_depth = np.linspace(1, 32, 32, endpoint=True)\n",
    "min_samples_split = np.linspace(0.1, 1.0, 10, endpoint=True)\n",
    "min_samples_leaf = np.linspace(0.1, 0.5, 5, endpoint=True)\n",
    "max_features = list(range(1,len(features)))\n",
    "\n",
    "random_grid = {'learning_rate': learning_rate,\n",
    "               'n_estimators': n_estimators,\n",
    "               'max_depth': max_depth,\n",
    "               'min_samples_split': min_samples_split,\n",
    "               'min_samples_leaf': min_samples_leaf,\n",
    "               'max_features': max_features}\n",
    "\n",
    "gb = GradientBoostingClassifier()\n",
    "\n",
    "gb_random = RandomizedSearchCV(estimator = gb, param_distributions = random_grid, n_iter = 100, cv = 3, verbose=2, random_state=42, n_jobs = -1)\n",
    "gb_random.fit(train_df.loc[:, features], train_df[target])\n",
    "gb_best_params = gb_random.best_params_"
   ]
  },
  {
   "cell_type": "code",
   "execution_count": 31,
   "metadata": {},
   "outputs": [
    {
     "data": {
      "text/plain": [
       "(0.676007093851453, 0.0030586389029867047)"
      ]
     },
     "execution_count": 31,
     "metadata": {},
     "output_type": "execute_result"
    }
   ],
   "source": [
    "gbm = GradientBoostingClassifier(**gb_random.best_params_)\n",
    "\n",
    "get_cv_results(gbm)"
   ]
  },
  {
   "cell_type": "markdown",
   "metadata": {},
   "source": [
    "Conclusion: \n",
    "\n",
    "All models produce similar accuracy, so we are going to choose the decision tree classiffier for our task of selecting 100,000 voters to whom we are going to send our targeted campaign mailings. The accuracy is around 68%, which is not terrible given the limited number of features and the assumptions that are being made."
   ]
  },
  {
   "cell_type": "markdown",
   "metadata": {},
   "source": [
    "##### Voter Selection"
   ]
  },
  {
   "cell_type": "markdown",
   "metadata": {},
   "source": [
    "Before we use our classification model, we need to narrow our data to a pool of voters who are most likely to be swayed by our campaign letters. It makes no sense to target voters who are registered with the opposite party. Similarly, it makes little sense to target voters who are registered with our party and vote regularly, since their votes are most likely already secured. Therefore, we are going to include those voters who are not affiliated with either party and Democrats who have not voted for at least two election cycles."
   ]
  },
  {
   "cell_type": "code",
   "execution_count": 64,
   "metadata": {},
   "outputs": [
    {
     "data": {
      "text/plain": [
       "(587814, 33)"
      ]
     },
     "execution_count": 64,
     "metadata": {},
     "output_type": "execute_result"
    }
   ],
   "source": [
    "target_to_party = {\n",
    "    'is_D': 'D',\n",
    "    'is_R': 'R'\n",
    "}\n",
    "\n",
    "not_recent_voter = df_reduced.loc[:, ['PRIMARY-03/15/2016', 'GENERAL-06/07/2016', 'PRIMARY-09/13/2016',\n",
    "       'GENERAL-11/08/2016', 'PRIMARY-05/02/2017', 'PRIMARY-09/12/2017',\n",
    "       'GENERAL-11/07/2017', 'PRIMARY-05/08/2018', 'GENERAL-08/07/2018',\n",
    "       'GENERAL-11/06/2018']].notnull().sum(1) == 0\n",
    "target_party = df_reduced['PARTY_AFFILIATION'] == target_to_party[target]\n",
    "not_affiliated = df_reduced['PARTY_AFFILIATION'].isnull()\n",
    "\n",
    "possible_choices = df_reduced[(target_party & not_recent_voter) | not_affiliated]\n",
    "possible_choices.shape"
   ]
  },
  {
   "cell_type": "code",
   "execution_count": 65,
   "metadata": {},
   "outputs": [
    {
     "data": {
      "text/html": [
       "<div>\n",
       "<style scoped>\n",
       "    .dataframe tbody tr th:only-of-type {\n",
       "        vertical-align: middle;\n",
       "    }\n",
       "\n",
       "    .dataframe tbody tr th {\n",
       "        vertical-align: top;\n",
       "    }\n",
       "\n",
       "    .dataframe thead th {\n",
       "        text-align: right;\n",
       "    }\n",
       "</style>\n",
       "<table border=\"1\" class=\"dataframe\">\n",
       "  <thead>\n",
       "    <tr style=\"text-align: right;\">\n",
       "      <th></th>\n",
       "      <th>COUNTY_NUMBER</th>\n",
       "      <th>LAST_NAME</th>\n",
       "      <th>FIRST_NAME</th>\n",
       "      <th>MIDDLE_NAME</th>\n",
       "      <th>SUFFIX</th>\n",
       "      <th>DATE_OF_BIRTH</th>\n",
       "      <th>REGISTRATION_DATE</th>\n",
       "      <th>VOTER_STATUS</th>\n",
       "      <th>PARTY_AFFILIATION</th>\n",
       "      <th>RESIDENTIAL_ADDRESS1</th>\n",
       "      <th>...</th>\n",
       "      <th>GENERAL-11/07/2017</th>\n",
       "      <th>PRIMARY-05/08/2018</th>\n",
       "      <th>GENERAL-08/07/2018</th>\n",
       "      <th>GENERAL-11/06/2018</th>\n",
       "      <th>AGE</th>\n",
       "      <th>AVG_INCOME</th>\n",
       "      <th>POP_DENSITY</th>\n",
       "      <th>is_D</th>\n",
       "      <th>is_R</th>\n",
       "      <th>P(D)</th>\n",
       "    </tr>\n",
       "  </thead>\n",
       "  <tbody>\n",
       "    <tr>\n",
       "      <th>5753894</th>\n",
       "      <td>51</td>\n",
       "      <td>KITTS</td>\n",
       "      <td>SHANE</td>\n",
       "      <td>E</td>\n",
       "      <td>NaN</td>\n",
       "      <td>1980-04-30</td>\n",
       "      <td>2008-02-04</td>\n",
       "      <td>CONFIRMATION</td>\n",
       "      <td>NaN</td>\n",
       "      <td>569 PARK ST</td>\n",
       "      <td>...</td>\n",
       "      <td>NaN</td>\n",
       "      <td>NaN</td>\n",
       "      <td>NaN</td>\n",
       "      <td>NaN</td>\n",
       "      <td>38.0</td>\n",
       "      <td>37818.641304</td>\n",
       "      <td>280.736812</td>\n",
       "      <td>False</td>\n",
       "      <td>False</td>\n",
       "      <td>0.632281</td>\n",
       "    </tr>\n",
       "    <tr>\n",
       "      <th>6949473</th>\n",
       "      <td>76</td>\n",
       "      <td>BEGGS</td>\n",
       "      <td>PETER</td>\n",
       "      <td>V</td>\n",
       "      <td>NaN</td>\n",
       "      <td>1983-08-10</td>\n",
       "      <td>2011-07-22</td>\n",
       "      <td>ACTIVE</td>\n",
       "      <td>NaN</td>\n",
       "      <td>236 19TH ST NW</td>\n",
       "      <td>...</td>\n",
       "      <td>NaN</td>\n",
       "      <td>NaN</td>\n",
       "      <td>NaN</td>\n",
       "      <td>NaN</td>\n",
       "      <td>35.0</td>\n",
       "      <td>41221.066667</td>\n",
       "      <td>3284.398888</td>\n",
       "      <td>False</td>\n",
       "      <td>False</td>\n",
       "      <td>0.471429</td>\n",
       "    </tr>\n",
       "    <tr>\n",
       "      <th>5715904</th>\n",
       "      <td>57</td>\n",
       "      <td>DUNN HARDIN</td>\n",
       "      <td>TODJ</td>\n",
       "      <td>D</td>\n",
       "      <td>NaN</td>\n",
       "      <td>1997-03-24</td>\n",
       "      <td>2015-09-08</td>\n",
       "      <td>ACTIVE</td>\n",
       "      <td>NaN</td>\n",
       "      <td>4423 BLUEBERRY AVE</td>\n",
       "      <td>...</td>\n",
       "      <td>NaN</td>\n",
       "      <td>NaN</td>\n",
       "      <td>NaN</td>\n",
       "      <td>NaN</td>\n",
       "      <td>21.0</td>\n",
       "      <td>26797.101449</td>\n",
       "      <td>4381.047581</td>\n",
       "      <td>False</td>\n",
       "      <td>False</td>\n",
       "      <td>0.129487</td>\n",
       "    </tr>\n",
       "    <tr>\n",
       "      <th>6975891</th>\n",
       "      <td>76</td>\n",
       "      <td>BURNS-ALLEN</td>\n",
       "      <td>SUMMER</td>\n",
       "      <td>ROSE</td>\n",
       "      <td>NaN</td>\n",
       "      <td>1979-08-08</td>\n",
       "      <td>2008-09-02</td>\n",
       "      <td>ACTIVE</td>\n",
       "      <td>NaN</td>\n",
       "      <td>2806 WOOD OWL ST NE</td>\n",
       "      <td>...</td>\n",
       "      <td>X</td>\n",
       "      <td>NaN</td>\n",
       "      <td>NaN</td>\n",
       "      <td>NaN</td>\n",
       "      <td>39.0</td>\n",
       "      <td>21890.977444</td>\n",
       "      <td>1574.142916</td>\n",
       "      <td>False</td>\n",
       "      <td>False</td>\n",
       "      <td>0.090000</td>\n",
       "    </tr>\n",
       "    <tr>\n",
       "      <th>2256491</th>\n",
       "      <td>41</td>\n",
       "      <td>LUKACENA</td>\n",
       "      <td>KAYLEE</td>\n",
       "      <td>MARIE</td>\n",
       "      <td>NaN</td>\n",
       "      <td>1993-09-22</td>\n",
       "      <td>2012-01-03</td>\n",
       "      <td>ACTIVE</td>\n",
       "      <td>NaN</td>\n",
       "      <td>1994 TOWNSHIP ROAD 246</td>\n",
       "      <td>...</td>\n",
       "      <td>NaN</td>\n",
       "      <td>NaN</td>\n",
       "      <td>NaN</td>\n",
       "      <td>NaN</td>\n",
       "      <td>25.0</td>\n",
       "      <td>40317.647059</td>\n",
       "      <td>200.839014</td>\n",
       "      <td>False</td>\n",
       "      <td>False</td>\n",
       "      <td>0.676245</td>\n",
       "    </tr>\n",
       "  </tbody>\n",
       "</table>\n",
       "<p>5 rows × 34 columns</p>\n",
       "</div>"
      ],
      "text/plain": [
       "         COUNTY_NUMBER    LAST_NAME FIRST_NAME MIDDLE_NAME SUFFIX  \\\n",
       "5753894             51        KITTS      SHANE           E    NaN   \n",
       "6949473             76        BEGGS      PETER           V    NaN   \n",
       "5715904             57  DUNN HARDIN       TODJ           D    NaN   \n",
       "6975891             76  BURNS-ALLEN     SUMMER        ROSE    NaN   \n",
       "2256491             41     LUKACENA     KAYLEE       MARIE    NaN   \n",
       "\n",
       "        DATE_OF_BIRTH REGISTRATION_DATE  VOTER_STATUS PARTY_AFFILIATION  \\\n",
       "5753894    1980-04-30        2008-02-04  CONFIRMATION               NaN   \n",
       "6949473    1983-08-10        2011-07-22        ACTIVE               NaN   \n",
       "5715904    1997-03-24        2015-09-08        ACTIVE               NaN   \n",
       "6975891    1979-08-08        2008-09-02        ACTIVE               NaN   \n",
       "2256491    1993-09-22        2012-01-03        ACTIVE               NaN   \n",
       "\n",
       "           RESIDENTIAL_ADDRESS1    ...    GENERAL-11/07/2017  \\\n",
       "5753894             569 PARK ST    ...                   NaN   \n",
       "6949473          236 19TH ST NW    ...                   NaN   \n",
       "5715904      4423 BLUEBERRY AVE    ...                   NaN   \n",
       "6975891     2806 WOOD OWL ST NE    ...                     X   \n",
       "2256491  1994 TOWNSHIP ROAD 246    ...                   NaN   \n",
       "\n",
       "        PRIMARY-05/08/2018 GENERAL-08/07/2018  GENERAL-11/06/2018   AGE  \\\n",
       "5753894                NaN                NaN                 NaN  38.0   \n",
       "6949473                NaN                NaN                 NaN  35.0   \n",
       "5715904                NaN                NaN                 NaN  21.0   \n",
       "6975891                NaN                NaN                 NaN  39.0   \n",
       "2256491                NaN                NaN                 NaN  25.0   \n",
       "\n",
       "           AVG_INCOME  POP_DENSITY   is_D   is_R      P(D)  \n",
       "5753894  37818.641304   280.736812  False  False  0.632281  \n",
       "6949473  41221.066667  3284.398888  False  False  0.471429  \n",
       "5715904  26797.101449  4381.047581  False  False  0.129487  \n",
       "6975891  21890.977444  1574.142916  False  False  0.090000  \n",
       "2256491  40317.647059   200.839014  False  False  0.676245  \n",
       "\n",
       "[5 rows x 34 columns]"
      ]
     },
     "execution_count": 65,
     "metadata": {},
     "output_type": "execute_result"
    }
   ],
   "source": [
    "classifier = DecisionTreeClassifier(**dtree_random.best_params_)\n",
    "classifier.fit(voted_primary.loc[:, features], voted_primary.loc[:, target])\n",
    "predicted = classifier.predict_proba(possible_choices.loc[:, features])\n",
    "possible_choices[f\"P({target_to_party[target]})\"] = predicted[:,0]\n",
    "possible_choices.head()"
   ]
  },
  {
   "cell_type": "code",
   "execution_count": 73,
   "metadata": {},
   "outputs": [
    {
     "data": {
      "text/html": [
       "<div>\n",
       "<style scoped>\n",
       "    .dataframe tbody tr th:only-of-type {\n",
       "        vertical-align: middle;\n",
       "    }\n",
       "\n",
       "    .dataframe tbody tr th {\n",
       "        vertical-align: top;\n",
       "    }\n",
       "\n",
       "    .dataframe thead th {\n",
       "        text-align: right;\n",
       "    }\n",
       "</style>\n",
       "<table border=\"1\" class=\"dataframe\">\n",
       "  <thead>\n",
       "    <tr style=\"text-align: right;\">\n",
       "      <th></th>\n",
       "      <th>COUNTY_NUMBER</th>\n",
       "      <th>LAST_NAME</th>\n",
       "      <th>FIRST_NAME</th>\n",
       "      <th>MIDDLE_NAME</th>\n",
       "      <th>SUFFIX</th>\n",
       "      <th>DATE_OF_BIRTH</th>\n",
       "      <th>REGISTRATION_DATE</th>\n",
       "      <th>VOTER_STATUS</th>\n",
       "      <th>PARTY_AFFILIATION</th>\n",
       "      <th>RESIDENTIAL_ADDRESS1</th>\n",
       "      <th>...</th>\n",
       "      <th>GENERAL-11/07/2017</th>\n",
       "      <th>PRIMARY-05/08/2018</th>\n",
       "      <th>GENERAL-08/07/2018</th>\n",
       "      <th>GENERAL-11/06/2018</th>\n",
       "      <th>AGE</th>\n",
       "      <th>AVG_INCOME</th>\n",
       "      <th>POP_DENSITY</th>\n",
       "      <th>is_D</th>\n",
       "      <th>is_R</th>\n",
       "      <th>P(D)</th>\n",
       "    </tr>\n",
       "  </thead>\n",
       "  <tbody>\n",
       "    <tr>\n",
       "      <th>1851607</th>\n",
       "      <td>2</td>\n",
       "      <td>STAHLER</td>\n",
       "      <td>JEREMY</td>\n",
       "      <td>RYAN</td>\n",
       "      <td>NaN</td>\n",
       "      <td>1976-10-12</td>\n",
       "      <td>2016-11-08</td>\n",
       "      <td>ACTIVE</td>\n",
       "      <td>NaN</td>\n",
       "      <td>4390 FT AMANDA RD</td>\n",
       "      <td>...</td>\n",
       "      <td>X</td>\n",
       "      <td>NaN</td>\n",
       "      <td>NaN</td>\n",
       "      <td>X</td>\n",
       "      <td>42.0</td>\n",
       "      <td>45456.297919</td>\n",
       "      <td>1496.145667</td>\n",
       "      <td>False</td>\n",
       "      <td>False</td>\n",
       "      <td>1.0</td>\n",
       "    </tr>\n",
       "    <tr>\n",
       "      <th>2534859</th>\n",
       "      <td>25</td>\n",
       "      <td>THURSTON</td>\n",
       "      <td>MARLENE</td>\n",
       "      <td>J</td>\n",
       "      <td>NaN</td>\n",
       "      <td>1933-05-09</td>\n",
       "      <td>2008-04-09</td>\n",
       "      <td>CONFIRMATION</td>\n",
       "      <td>NaN</td>\n",
       "      <td>1526 BROWN RD</td>\n",
       "      <td>...</td>\n",
       "      <td>NaN</td>\n",
       "      <td>NaN</td>\n",
       "      <td>NaN</td>\n",
       "      <td>NaN</td>\n",
       "      <td>85.0</td>\n",
       "      <td>27958.078603</td>\n",
       "      <td>2719.737627</td>\n",
       "      <td>False</td>\n",
       "      <td>False</td>\n",
       "      <td>1.0</td>\n",
       "    </tr>\n",
       "    <tr>\n",
       "      <th>3899230</th>\n",
       "      <td>31</td>\n",
       "      <td>ANDERSON</td>\n",
       "      <td>ANDY</td>\n",
       "      <td>NaN</td>\n",
       "      <td>NaN</td>\n",
       "      <td>1966-11-29</td>\n",
       "      <td>2000-10-04</td>\n",
       "      <td>ACTIVE</td>\n",
       "      <td>NaN</td>\n",
       "      <td>502 HOOVEN RD</td>\n",
       "      <td>...</td>\n",
       "      <td>NaN</td>\n",
       "      <td>NaN</td>\n",
       "      <td>NaN</td>\n",
       "      <td>NaN</td>\n",
       "      <td>52.0</td>\n",
       "      <td>27808.333333</td>\n",
       "      <td>5411.764706</td>\n",
       "      <td>False</td>\n",
       "      <td>False</td>\n",
       "      <td>1.0</td>\n",
       "    </tr>\n",
       "    <tr>\n",
       "      <th>3832497</th>\n",
       "      <td>31</td>\n",
       "      <td>STORY</td>\n",
       "      <td>JEFFREY</td>\n",
       "      <td>ALAN</td>\n",
       "      <td>NaN</td>\n",
       "      <td>1954-07-16</td>\n",
       "      <td>1996-10-16</td>\n",
       "      <td>ACTIVE</td>\n",
       "      <td>NaN</td>\n",
       "      <td>404 OHIO AVE</td>\n",
       "      <td>...</td>\n",
       "      <td>NaN</td>\n",
       "      <td>NaN</td>\n",
       "      <td>NaN</td>\n",
       "      <td>X</td>\n",
       "      <td>64.0</td>\n",
       "      <td>27808.333333</td>\n",
       "      <td>5411.764706</td>\n",
       "      <td>False</td>\n",
       "      <td>False</td>\n",
       "      <td>1.0</td>\n",
       "    </tr>\n",
       "    <tr>\n",
       "      <th>2161857</th>\n",
       "      <td>2</td>\n",
       "      <td>MAUCH</td>\n",
       "      <td>MIKKI</td>\n",
       "      <td>KIM</td>\n",
       "      <td>NaN</td>\n",
       "      <td>1976-12-03</td>\n",
       "      <td>1995-03-29</td>\n",
       "      <td>ACTIVE</td>\n",
       "      <td>NaN</td>\n",
       "      <td>101 S DALE DR</td>\n",
       "      <td>...</td>\n",
       "      <td>X</td>\n",
       "      <td>NaN</td>\n",
       "      <td>NaN</td>\n",
       "      <td>NaN</td>\n",
       "      <td>42.0</td>\n",
       "      <td>45456.297919</td>\n",
       "      <td>1496.145667</td>\n",
       "      <td>False</td>\n",
       "      <td>False</td>\n",
       "      <td>1.0</td>\n",
       "    </tr>\n",
       "  </tbody>\n",
       "</table>\n",
       "<p>5 rows × 34 columns</p>\n",
       "</div>"
      ],
      "text/plain": [
       "         COUNTY_NUMBER LAST_NAME FIRST_NAME MIDDLE_NAME SUFFIX DATE_OF_BIRTH  \\\n",
       "1851607              2   STAHLER     JEREMY        RYAN    NaN    1976-10-12   \n",
       "2534859             25  THURSTON    MARLENE           J    NaN    1933-05-09   \n",
       "3899230             31  ANDERSON       ANDY         NaN    NaN    1966-11-29   \n",
       "3832497             31     STORY    JEFFREY        ALAN    NaN    1954-07-16   \n",
       "2161857              2     MAUCH      MIKKI         KIM    NaN    1976-12-03   \n",
       "\n",
       "        REGISTRATION_DATE  VOTER_STATUS PARTY_AFFILIATION  \\\n",
       "1851607        2016-11-08        ACTIVE               NaN   \n",
       "2534859        2008-04-09  CONFIRMATION               NaN   \n",
       "3899230        2000-10-04        ACTIVE               NaN   \n",
       "3832497        1996-10-16        ACTIVE               NaN   \n",
       "2161857        1995-03-29        ACTIVE               NaN   \n",
       "\n",
       "        RESIDENTIAL_ADDRESS1 ...  GENERAL-11/07/2017 PRIMARY-05/08/2018  \\\n",
       "1851607    4390 FT AMANDA RD ...                   X                NaN   \n",
       "2534859        1526 BROWN RD ...                 NaN                NaN   \n",
       "3899230        502 HOOVEN RD ...                 NaN                NaN   \n",
       "3832497         404 OHIO AVE ...                 NaN                NaN   \n",
       "2161857        101 S DALE DR ...                   X                NaN   \n",
       "\n",
       "        GENERAL-08/07/2018  GENERAL-11/06/2018   AGE    AVG_INCOME  \\\n",
       "1851607                NaN                   X  42.0  45456.297919   \n",
       "2534859                NaN                 NaN  85.0  27958.078603   \n",
       "3899230                NaN                 NaN  52.0  27808.333333   \n",
       "3832497                NaN                   X  64.0  27808.333333   \n",
       "2161857                NaN                 NaN  42.0  45456.297919   \n",
       "\n",
       "         POP_DENSITY   is_D   is_R P(D)  \n",
       "1851607  1496.145667  False  False  1.0  \n",
       "2534859  2719.737627  False  False  1.0  \n",
       "3899230  5411.764706  False  False  1.0  \n",
       "3832497  5411.764706  False  False  1.0  \n",
       "2161857  1496.145667  False  False  1.0  \n",
       "\n",
       "[5 rows x 34 columns]"
      ]
     },
     "execution_count": 73,
     "metadata": {},
     "output_type": "execute_result"
    }
   ],
   "source": [
    "selected = possible_choices.nlargest(100000, [\"P(D)\"])\n",
    "selected.head()"
   ]
  },
  {
   "cell_type": "code",
   "execution_count": 76,
   "metadata": {},
   "outputs": [
    {
     "data": {
      "text/html": [
       "\n",
       "<div class=\"bk-root\">\n",
       "    <div class=\"bk-plotdiv\" id=\"e6f380dd-f1c9-4f8d-8880-0ddbcee36b23\"></div>\n",
       "</div>"
      ]
     },
     "metadata": {},
     "output_type": "display_data"
    },
    {
     "data": {
      "application/javascript": [
       "(function(root) {\n",
       "  function embed_document(root) {\n",
       "    \n",
       "  var docs_json = {\"8d9a1412-440a-43eb-a8c4-b2613aded626\":{\"roots\":{\"references\":[{\"attributes\":{},\"id\":\"3f06e58e-355b-4b6e-a67b-cfb5c89ad940\",\"type\":\"LinearScale\"},{\"attributes\":{\"bottom\":{\"value\":0},\"fill_alpha\":{\"value\":0.1},\"fill_color\":{\"value\":\"#1f77b4\"},\"left\":{\"field\":\"left\"},\"line_alpha\":{\"value\":0.1},\"line_color\":{\"value\":\"#1f77b4\"},\"right\":{\"field\":\"right\"},\"top\":{\"field\":\"top\"}},\"id\":\"15d0aa45-a85e-4402-a3c1-c2a48de356ed\",\"type\":\"Quad\"},{\"attributes\":{\"data_source\":{\"id\":\"81420972-77e4-4e72-9a9e-59ee961dcd9c\",\"type\":\"ColumnDataSource\"},\"glyph\":{\"id\":\"7933d704-65d6-4960-83af-29c1d730616f\",\"type\":\"Quad\"},\"hover_glyph\":null,\"muted_glyph\":null,\"nonselection_glyph\":{\"id\":\"15d0aa45-a85e-4402-a3c1-c2a48de356ed\",\"type\":\"Quad\"},\"selection_glyph\":null,\"view\":{\"id\":\"6e05f69e-d7a9-4753-a291-3885d1ef2a58\",\"type\":\"CDSView\"}},\"id\":\"bff66835-db13-45ff-bead-48143cd7f5ea\",\"type\":\"GlyphRenderer\"},{\"attributes\":{\"source\":{\"id\":\"81420972-77e4-4e72-9a9e-59ee961dcd9c\",\"type\":\"ColumnDataSource\"}},\"id\":\"6e05f69e-d7a9-4753-a291-3885d1ef2a58\",\"type\":\"CDSView\"},{\"attributes\":{\"bottom\":{\"value\":0},\"fill_alpha\":{\"value\":0.5},\"fill_color\":{\"value\":\"#1f77b4\"},\"left\":{\"field\":\"left\"},\"line_alpha\":{\"value\":0.5},\"line_color\":{\"value\":\"white\"},\"right\":{\"field\":\"right\"},\"top\":{\"field\":\"top\"}},\"id\":\"7933d704-65d6-4960-83af-29c1d730616f\",\"type\":\"Quad\"},{\"attributes\":{},\"id\":\"ce33e382-817f-48b1-ab13-789883b1fc88\",\"type\":\"BasicTickFormatter\"},{\"attributes\":{},\"id\":\"e4caea2c-bb0a-402d-ac62-ff27c6c93b4c\",\"type\":\"BasicTickFormatter\"},{\"attributes\":{\"callback\":null,\"data\":{\"left\":{\"__ndarray__\":\"p4PvOXZ25z+wKfEABFHoP7nP8seRK+k/wnX0jh8G6j/LG/ZVreDqP9TB9xw7u+s/3Gf548iV7D/lDfuqVnDtP+6z/HHkSu4/91n+OHIl7z8=\",\"dtype\":\"float64\",\"shape\":[10]},\"right\":{\"__ndarray__\":\"sCnxAARR6D+5z/LHkSvpP8J19I4fBuo/yxv2Va3g6j/UwfccO7vrP9xn+ePIlew/5Q37qlZw7T/us/xx5EruP/dZ/jhyJe8/AAAAAAAA8D8=\",\"dtype\":\"float64\",\"shape\":[10]},\"top\":{\"__ndarray__\":\"IAFwHukjBUC3R9I4ba8+QFqtRkSWNec/gi9NRI2n5D9uVdxRzdQAQI4lNiB1Ccg/aabgWbd12j9fVfFHhBShPy1xfidj45A/cw4Dxi/wnT8=\",\"dtype\":\"float64\",\"shape\":[10]}},\"selected\":{\"id\":\"fd5cb831-48eb-4e04-b536-4834ef55acc6\",\"type\":\"Selection\"},\"selection_policy\":{\"id\":\"54c80eca-b8c0-47e3-8865-ef1b34947c78\",\"type\":\"UnionRenderers\"}},\"id\":\"81420972-77e4-4e72-9a9e-59ee961dcd9c\",\"type\":\"ColumnDataSource\"},{\"attributes\":{\"below\":[{\"id\":\"10920aa3-713c-4dcc-b383-f6fdd58e422c\",\"type\":\"LinearAxis\"}],\"left\":[{\"id\":\"d046f864-fb44-4bfe-8bdf-803cf76d8ffe\",\"type\":\"LinearAxis\"}],\"renderers\":[{\"id\":\"10920aa3-713c-4dcc-b383-f6fdd58e422c\",\"type\":\"LinearAxis\"},{\"id\":\"51b5e2a6-4c8c-4401-9a7d-75b36a14d50f\",\"type\":\"Grid\"},{\"id\":\"d046f864-fb44-4bfe-8bdf-803cf76d8ffe\",\"type\":\"LinearAxis\"},{\"id\":\"f9ce59c6-1e17-4852-bae8-9944d65baab5\",\"type\":\"Grid\"},{\"id\":\"bff66835-db13-45ff-bead-48143cd7f5ea\",\"type\":\"GlyphRenderer\"}],\"title\":{\"id\":\"875a8b80-7e20-4af2-a800-4ba81fc71346\",\"type\":\"Title\"},\"toolbar\":{\"id\":\"e50d5576-1697-4825-a1dc-1a017f2e6997\",\"type\":\"Toolbar\"},\"x_range\":{\"id\":\"587c8103-9771-4ef8-a708-1095fb191545\",\"type\":\"DataRange1d\"},\"x_scale\":{\"id\":\"bc0388d9-0272-454e-b52f-f5fd1a398e06\",\"type\":\"LinearScale\"},\"y_range\":{\"id\":\"90f66695-ef39-4de0-89b4-106a5175bbb3\",\"type\":\"DataRange1d\"},\"y_scale\":{\"id\":\"3f06e58e-355b-4b6e-a67b-cfb5c89ad940\",\"type\":\"LinearScale\"}},\"id\":\"beb306ae-0a10-4da5-a0a0-4385bbfa2f6a\",\"subtype\":\"Figure\",\"type\":\"Plot\"},{\"attributes\":{},\"id\":\"fd5cb831-48eb-4e04-b536-4834ef55acc6\",\"type\":\"Selection\"},{\"attributes\":{\"formatter\":{\"id\":\"ce33e382-817f-48b1-ab13-789883b1fc88\",\"type\":\"BasicTickFormatter\"},\"plot\":{\"id\":\"beb306ae-0a10-4da5-a0a0-4385bbfa2f6a\",\"subtype\":\"Figure\",\"type\":\"Plot\"},\"ticker\":{\"id\":\"2f6004e3-504c-4bda-ade8-2ca4fe097569\",\"type\":\"BasicTicker\"},\"visible\":false},\"id\":\"d046f864-fb44-4bfe-8bdf-803cf76d8ffe\",\"type\":\"LinearAxis\"},{\"attributes\":{\"plot\":null,\"text\":\"Prediction Probabilities\"},\"id\":\"875a8b80-7e20-4af2-a800-4ba81fc71346\",\"type\":\"Title\"},{\"attributes\":{},\"id\":\"2f6004e3-504c-4bda-ade8-2ca4fe097569\",\"type\":\"BasicTicker\"},{\"attributes\":{\"callback\":null},\"id\":\"587c8103-9771-4ef8-a708-1095fb191545\",\"type\":\"DataRange1d\"},{\"attributes\":{\"dimension\":1,\"plot\":{\"id\":\"beb306ae-0a10-4da5-a0a0-4385bbfa2f6a\",\"subtype\":\"Figure\",\"type\":\"Plot\"},\"ticker\":{\"id\":\"2f6004e3-504c-4bda-ade8-2ca4fe097569\",\"type\":\"BasicTicker\"}},\"id\":\"f9ce59c6-1e17-4852-bae8-9944d65baab5\",\"type\":\"Grid\"},{\"attributes\":{\"active_drag\":\"auto\",\"active_inspect\":\"auto\",\"active_scroll\":\"auto\",\"active_tap\":\"auto\"},\"id\":\"e50d5576-1697-4825-a1dc-1a017f2e6997\",\"type\":\"Toolbar\"},{\"attributes\":{},\"id\":\"bc0388d9-0272-454e-b52f-f5fd1a398e06\",\"type\":\"LinearScale\"},{\"attributes\":{},\"id\":\"aaa92786-ff5a-43b1-89e9-ac4c94c3b579\",\"type\":\"BasicTicker\"},{\"attributes\":{\"plot\":{\"id\":\"beb306ae-0a10-4da5-a0a0-4385bbfa2f6a\",\"subtype\":\"Figure\",\"type\":\"Plot\"},\"ticker\":{\"id\":\"aaa92786-ff5a-43b1-89e9-ac4c94c3b579\",\"type\":\"BasicTicker\"}},\"id\":\"51b5e2a6-4c8c-4401-9a7d-75b36a14d50f\",\"type\":\"Grid\"},{\"attributes\":{\"axis_label\":\"Probability\",\"formatter\":{\"id\":\"e4caea2c-bb0a-402d-ac62-ff27c6c93b4c\",\"type\":\"BasicTickFormatter\"},\"plot\":{\"id\":\"beb306ae-0a10-4da5-a0a0-4385bbfa2f6a\",\"subtype\":\"Figure\",\"type\":\"Plot\"},\"ticker\":{\"id\":\"aaa92786-ff5a-43b1-89e9-ac4c94c3b579\",\"type\":\"BasicTicker\"}},\"id\":\"10920aa3-713c-4dcc-b383-f6fdd58e422c\",\"type\":\"LinearAxis\"},{\"attributes\":{},\"id\":\"54c80eca-b8c0-47e3-8865-ef1b34947c78\",\"type\":\"UnionRenderers\"},{\"attributes\":{\"callback\":null},\"id\":\"90f66695-ef39-4de0-89b4-106a5175bbb3\",\"type\":\"DataRange1d\"}],\"root_ids\":[\"beb306ae-0a10-4da5-a0a0-4385bbfa2f6a\"]},\"title\":\"Bokeh Application\",\"version\":\"0.12.16\"}};\n",
       "  var render_items = [{\"docid\":\"8d9a1412-440a-43eb-a8c4-b2613aded626\",\"elementid\":\"e6f380dd-f1c9-4f8d-8880-0ddbcee36b23\",\"modelid\":\"beb306ae-0a10-4da5-a0a0-4385bbfa2f6a\"}];\n",
       "  root.Bokeh.embed.embed_items_notebook(docs_json, render_items);\n",
       "\n",
       "  }\n",
       "  if (root.Bokeh !== undefined) {\n",
       "    embed_document(root);\n",
       "  } else {\n",
       "    var attempts = 0;\n",
       "    var timer = setInterval(function(root) {\n",
       "      if (root.Bokeh !== undefined) {\n",
       "        embed_document(root);\n",
       "        clearInterval(timer);\n",
       "      }\n",
       "      attempts++;\n",
       "      if (attempts > 100) {\n",
       "        console.log(\"Bokeh: ERROR: Unable to run BokehJS code because BokehJS library is missing\")\n",
       "        clearInterval(timer);\n",
       "      }\n",
       "    }, 10, root)\n",
       "  }\n",
       "})(window);"
      ],
      "application/vnd.bokehjs_exec.v0+json": ""
     },
     "metadata": {
      "application/vnd.bokehjs_exec.v0+json": {
       "id": "beb306ae-0a10-4da5-a0a0-4385bbfa2f6a"
      }
     },
     "output_type": "display_data"
    }
   ],
   "source": [
    "hist, edges = np.histogram(selected[\"P(D)\"], density=True, bins=10)\n",
    "\n",
    "p = figure(title=\"Prediction Probabilities\", tools=\"\")\n",
    "p.quad(top=hist, bottom=0, left=edges[:-1], right=edges[1:], line_color=\"white\", alpha=0.5)\n",
    "p.xaxis.axis_label = \"Probability\"\n",
    "p.yaxis.visible = False\n",
    "show(p)"
   ]
  },
  {
   "cell_type": "markdown",
   "metadata": {},
   "source": [
    "Not bad - almost all of the selected voters have a prediction probability of over 75%. We can be confident that we are not wasting our resources by sending them letters."
   ]
  }
 ],
 "metadata": {
  "kernelspec": {
   "display_name": "Python 3",
   "language": "python",
   "name": "python3"
  },
  "language_info": {
   "codemirror_mode": {
    "name": "ipython",
    "version": 3
   },
   "file_extension": ".py",
   "mimetype": "text/x-python",
   "name": "python",
   "nbconvert_exporter": "python",
   "pygments_lexer": "ipython3",
   "version": "3.6.5"
  }
 },
 "nbformat": 4,
 "nbformat_minor": 2
}

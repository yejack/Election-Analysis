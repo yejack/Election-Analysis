{
 "cells": [
  {
   "cell_type": "markdown",
   "metadata": {},
   "source": [
    "## Mapbox choropleth that works with Plotly 3.0.0"
   ]
  },
  {
   "cell_type": "code",
   "execution_count": 1,
   "metadata": {},
   "outputs": [],
   "source": [
    "import numpy as np\n",
    "import pandas as pd\n",
    "from ast import literal_eval"
   ]
  },
  {
   "cell_type": "markdown",
   "metadata": {},
   "source": [
    "Data files for this notebook are available here:\n",
    "\n",
    "[https://github.com/empet/Plotly-plots/blob/master/Data/tx_counties.topojson](https://github.com/empet/Plotly-plots/blob/master/Data/tx_counties.topojson)\n",
    "\n",
    "[https://github.com/empet/Plotly-plots/blob/master/Data/tx_unemployment.csv](https://github.com/empet/Plotly-plots/blob/master/Data/tx_unemployment.csv)    "
   ]
  },
  {
   "cell_type": "markdown",
   "metadata": {},
   "source": [
    "Read  the topojson file for the  [Texas counties](https://github.com/TNRIS/tx.geojson/tree/master/counties), \n",
    "and convert it to a geojson dict: "
   ]
  },
  {
   "cell_type": "code",
   "execution_count": 2,
   "metadata": {},
   "outputs": [
    {
     "ename": "ModuleNotFoundError",
     "evalue": "No module named 'topojson'",
     "output_type": "error",
     "traceback": [
      "\u001b[1;31m---------------------------------------------------------------------------\u001b[0m",
      "\u001b[1;31mModuleNotFoundError\u001b[0m                       Traceback (most recent call last)",
      "\u001b[1;32m<ipython-input-2-354442098bd4>\u001b[0m in \u001b[0;36m<module>\u001b[1;34m()\u001b[0m\n\u001b[1;32m----> 1\u001b[1;33m \u001b[1;32mimport\u001b[0m \u001b[0mtopojson\u001b[0m \u001b[1;31m# install from https://github.com/sgillies\u001b[0m\u001b[1;33m\u001b[0m\u001b[0m\n\u001b[0m\u001b[0;32m      2\u001b[0m \u001b[1;32mimport\u001b[0m \u001b[0mjson\u001b[0m\u001b[1;33m\u001b[0m\u001b[0m\n",
      "\u001b[1;31mModuleNotFoundError\u001b[0m: No module named 'topojson'"
     ]
    }
   ],
   "source": [
    "import topojson # install from https://github.com/sgillies\n",
    "import json"
   ]
  },
  {
   "cell_type": "code",
   "execution_count": 3,
   "metadata": {},
   "outputs": [],
   "source": [
    "mapbox_access_token = 'my_access_token'"
   ]
  },
  {
   "cell_type": "code",
   "execution_count": 4,
   "metadata": {},
   "outputs": [],
   "source": [
    "with open(\"tx_counties.topojson\") as json_file:# us.topojson\n",
    "    jdata = json_file.read()\n",
    "    topoJSON = json.loads(jdata)"
   ]
  },
  {
   "cell_type": "code",
   "execution_count": 5,
   "metadata": {},
   "outputs": [
    {
     "data": {
      "text/plain": [
       "dict_keys(['type', 'objects', 'arcs', 'transform'])"
      ]
     },
     "execution_count": 5,
     "metadata": {},
     "output_type": "execute_result"
    }
   ],
   "source": [
    "topoJSON.keys()"
   ]
  },
  {
   "cell_type": "code",
   "execution_count": 6,
   "metadata": {},
   "outputs": [
    {
     "data": {
      "text/plain": [
       "{'arcs': [[0, 1, 2, 3]],\n",
       " 'id': 48421,\n",
       " 'properties': {'COUNTY': 'Sherman County',\n",
       "  'FIPS': '48421',\n",
       "  'SQUARE_MIL': 923.287,\n",
       "  'STATE': 'TX',\n",
       "  'STATE_FIPS': '48'},\n",
       " 'type': 'Polygon'}"
      ]
     },
     "execution_count": 6,
     "metadata": {},
     "output_type": "execute_result"
    }
   ],
   "source": [
    "topoJSON['objects']['tx_counties']['geometries'][0]"
   ]
  },
  {
   "cell_type": "code",
   "execution_count": 7,
   "metadata": {},
   "outputs": [],
   "source": [
    "topo_features = topoJSON['objects']['tx_counties']['geometries']\n",
    "scale = topoJSON['transform']['scale']\n",
    "translation = topoJSON['transform']['translate']"
   ]
  },
  {
   "cell_type": "markdown",
   "metadata": {},
   "source": [
    "Define the coresponding geojson dict:"
   ]
  },
  {
   "cell_type": "code",
   "execution_count": 8,
   "metadata": {},
   "outputs": [],
   "source": [
    "geoJSON=dict(type= 'FeatureCollection', \n",
    "             features = [])\n",
    "\n",
    "for k, tfeature in enumerate(topo_features):\n",
    "    geo_feature = dict(id=k, type= \"Feature\")\n",
    "    geo_feature['properties'] = tfeature['properties']\n",
    "    geo_feature['id']=tfeature['id']\n",
    "    geo_feature['geometry'] = topojson.geometry(tfeature, topoJSON['arcs'], scale, translation)    \n",
    "    geoJSON['features'].append(geo_feature)  "
   ]
  },
  {
   "cell_type": "markdown",
   "metadata": {},
   "source": [
    "Get the lon and lat of a central location for each county:"
   ]
  },
  {
   "cell_type": "code",
   "execution_count": 9,
   "metadata": {},
   "outputs": [],
   "source": [
    "lons=[]\n",
    "lats=[]\n",
    "for k in range(len(geoJSON['features'])):\n",
    "    county_coords=np.array(geoJSON['features'][k]['geometry']['coordinates'][0])\n",
    "    m, M =county_coords[:,0].min(), county_coords[:,0].max()\n",
    "    lons.append(0.5*(m+M))\n",
    "    m, M =county_coords[:,1].min(), county_coords[:,1].max()\n",
    "    lats.append(0.5*(m+M))"
   ]
  },
  {
   "cell_type": "code",
   "execution_count": 10,
   "metadata": {},
   "outputs": [],
   "source": [
    "counties=[geoJSON['features'][k]['properties']['COUNTY'] for k in range(len(geoJSON['features']))]\n",
    "tx_ids=[geoJSON['features'][k]['id'] for k in range(len(geoJSON['features']))]      "
   ]
  },
  {
   "cell_type": "markdown",
   "metadata": {},
   "source": [
    "Read the unemployment file, extracted for the Texas state from [that](https://gist.github.com/mbostock/4060606#file-unemployment-tsv) corresponding to whole US."
   ]
  },
  {
   "cell_type": "code",
   "execution_count": 11,
   "metadata": {},
   "outputs": [
    {
     "data": {
      "text/html": [
       "<div>\n",
       "<style scoped>\n",
       "    .dataframe tbody tr th:only-of-type {\n",
       "        vertical-align: middle;\n",
       "    }\n",
       "\n",
       "    .dataframe tbody tr th {\n",
       "        vertical-align: top;\n",
       "    }\n",
       "\n",
       "    .dataframe thead th {\n",
       "        text-align: right;\n",
       "    }\n",
       "</style>\n",
       "<table border=\"1\" class=\"dataframe\">\n",
       "  <thead>\n",
       "    <tr style=\"text-align: right;\">\n",
       "      <th></th>\n",
       "      <th>TX-county-id</th>\n",
       "      <th>rate</th>\n",
       "    </tr>\n",
       "  </thead>\n",
       "  <tbody>\n",
       "    <tr>\n",
       "      <th>0</th>\n",
       "      <td>48129</td>\n",
       "      <td>5.3</td>\n",
       "    </tr>\n",
       "    <tr>\n",
       "      <th>1</th>\n",
       "      <td>48131</td>\n",
       "      <td>12.1</td>\n",
       "    </tr>\n",
       "    <tr>\n",
       "      <th>2</th>\n",
       "      <td>48133</td>\n",
       "      <td>5.7</td>\n",
       "    </tr>\n",
       "    <tr>\n",
       "      <th>3</th>\n",
       "      <td>48135</td>\n",
       "      <td>6.8</td>\n",
       "    </tr>\n",
       "    <tr>\n",
       "      <th>4</th>\n",
       "      <td>48137</td>\n",
       "      <td>5.2</td>\n",
       "    </tr>\n",
       "  </tbody>\n",
       "</table>\n",
       "</div>"
      ],
      "text/plain": [
       "   TX-county-id  rate\n",
       "0         48129   5.3\n",
       "1         48131  12.1\n",
       "2         48133   5.7\n",
       "3         48135   6.8\n",
       "4         48137   5.2"
      ]
     },
     "execution_count": 11,
     "metadata": {},
     "output_type": "execute_result"
    }
   ],
   "source": [
    "df=pd.read_csv('tx_unemployment.csv')\n",
    "df.head()"
   ]
  },
  {
   "cell_type": "code",
   "execution_count": 12,
   "metadata": {},
   "outputs": [],
   "source": [
    "df.index = df['TX-county-id']"
   ]
  },
  {
   "cell_type": "code",
   "execution_count": 13,
   "metadata": {},
   "outputs": [],
   "source": [
    "rate=[df.loc[id, 'rate'] for id in tx_ids]\n",
    "zmin=min(rate)\n",
    "zmax=max(rate)"
   ]
  },
  {
   "cell_type": "code",
   "execution_count": 14,
   "metadata": {},
   "outputs": [],
   "source": [
    "sources=[]\n",
    "for feat in geoJSON['features']: \n",
    "        sources.append({\"type\": \"FeatureCollection\", 'features': [feat]})"
   ]
  },
  {
   "cell_type": "markdown",
   "metadata": {},
   "source": [
    "Define a function that maps a value in the range [vmin, vmax] to the corresponding  color in a given colorscale:"
   ]
  },
  {
   "cell_type": "code",
   "execution_count": 15,
   "metadata": {},
   "outputs": [],
   "source": [
    "def get_color_for_val(val, vmin, vmax, pl_colorscale):\n",
    "    if vmin >= vmax:\n",
    "        raise ValueError('vmin should be < vmax')\n",
    "        \n",
    "    plotly_scale, plotly_colors = list(map(float, np.array(pl_colorscale)[:,0])), np.array(pl_colorscale)[:,1]  \n",
    "    colors_01=np.array(list(map(literal_eval,[color[3:] for color in plotly_colors] )))/255.#color codes in [0,1]\n",
    "    \n",
    "    v= (val - vmin) / float((vmax - vmin)) #here val is mapped to v in[0,1]\n",
    "    #find two consecutive values in plotly_scale such that   v belongs to the corresponding interval\n",
    "    idx = 0\n",
    "   \n",
    "    while(v > plotly_scale[idx+1]): \n",
    "        idx+=1\n",
    "    left_scale_val = plotly_scale[idx]\n",
    "    right_scale_val = plotly_scale[idx+ 1]\n",
    "    vv = (v - left_scale_val) / (right_scale_val - left_scale_val)##attn! this code works well if the plotly_scale is \n",
    "                                                              #sorted ascending, and there are no duplicates in\n",
    "                                                              # plotly_scale\n",
    "    #get the  [0,1]-valued color code representing the rgb color corresponding to val\n",
    "    val_color01 = colors_01[idx]+vv*(colors_01[idx + 1]-colors_01[idx])\n",
    "    val_color_0255 = list(map(np.uint8, 255*val_color01+0.5))\n",
    "    return 'rgb'+str(tuple(val_color_0255))"
   ]
  },
  {
   "cell_type": "markdown",
   "metadata": {},
   "source": [
    "The colorscale definition:"
   ]
  },
  {
   "cell_type": "code",
   "execution_count": 16,
   "metadata": {},
   "outputs": [],
   "source": [
    "pl_colorscale= [[0.0, 'rgb(255, 255, 204)'],\n",
    "                [0.35, 'rgb(161, 218, 180)'],\n",
    "                [0.5, 'rgb(65, 182, 196)'], \n",
    "                [0.6, 'rgb(44, 127, 184)'],\n",
    "                [0.7, 'rgb(8, 104, 172)'],\n",
    "                [1.0, 'rgb(37, 52, 148)']] "
   ]
  },
  {
   "cell_type": "markdown",
   "metadata": {},
   "source": [
    "Compute the color corresponding to each county, according to its unemployment rate:"
   ]
  },
  {
   "cell_type": "code",
   "execution_count": 17,
   "metadata": {},
   "outputs": [],
   "source": [
    "facecolor=[get_color_for_val(r, zmin, zmax, pl_colorscale)  for r in rate] "
   ]
  },
  {
   "cell_type": "code",
   "execution_count": 18,
   "metadata": {},
   "outputs": [],
   "source": [
    "text=[c+'<br>Unemployment rate: '+'{:0.2f}'.format(r)+'%' for c, r in zip(counties, rate)]"
   ]
  },
  {
   "cell_type": "code",
   "execution_count": 19,
   "metadata": {},
   "outputs": [],
   "source": [
    "Texas = dict(type='scattermapbox',\n",
    "             lat=lats, \n",
    "             lon=lons,\n",
    "             mode='markers',\n",
    "             text=text,\n",
    "             marker=dict(size=1, color=facecolor),\n",
    "             showlegend=False,\n",
    "             hoverinfo='text'\n",
    "            )"
   ]
  },
  {
   "cell_type": "code",
   "execution_count": 20,
   "metadata": {},
   "outputs": [],
   "source": [
    "layers=[dict(sourcetype = 'geojson',\n",
    "             source =sources[k],\n",
    "             below=\"water\", \n",
    "             type = 'fill',   \n",
    "             color = facecolor[k],\n",
    "             opacity=0.8\n",
    "            ) for k in range(len(sources))]"
   ]
  },
  {
   "cell_type": "code",
   "execution_count": 21,
   "metadata": {},
   "outputs": [],
   "source": [
    "layout = dict(title='Mapbox Choropleth<br>Texas unemployment',\n",
    "              font=dict(family='Balto'),\n",
    "              autosize=False,\n",
    "              width=800,\n",
    "              height=800,\n",
    "              hovermode='closest',\n",
    "   \n",
    "              mapbox=dict(accesstoken=mapbox_access_token,\n",
    "                          layers=layers,\n",
    "                          bearing=0,\n",
    "                          center=dict(\n",
    "                          lat=31.4638, \n",
    "                          lon=-99.98),\n",
    "                          pitch=0,\n",
    "                          zoom=5,\n",
    "                    ) \n",
    "              )\n",
    "\n",
    "fig = dict(data=[Texas], layout=layout)"
   ]
  },
  {
   "cell_type": "code",
   "execution_count": 22,
   "metadata": {},
   "outputs": [
    {
     "data": {
      "text/html": [
       "<iframe id=\"igraph\" scrolling=\"no\" style=\"border:none;\" seamless=\"seamless\" src=\"https://plot.ly/~empet/14690.embed\" height=\"800px\" width=\"800px\"></iframe>"
      ],
      "text/plain": [
       "<plotly.tools.PlotlyDisplay object>"
      ]
     },
     "execution_count": 22,
     "metadata": {},
     "output_type": "execute_result"
    }
   ],
   "source": [
    "import plotly.plotly as py\n",
    "py.sign_in('empet', 'my_api_key')\n",
    "py.iplot(fig, filename='Texas-counties')"
   ]
  },
  {
   "cell_type": "code",
   "execution_count": null,
   "metadata": {},
   "outputs": [],
   "source": [
    "or converting fig to a go.FigureWidget:"
   ]
  },
  {
   "cell_type": "code",
   "execution_count": null,
   "metadata": {},
   "outputs": [],
   "source": [
    "import plotly.graph_objs as go\n",
    "fw=go.FigureWidget(fig)\n",
    "fw"
   ]
  },
  {
   "cell_type": "code",
   "execution_count": null,
   "metadata": {},
   "outputs": [],
   "source": []
  },
  {
   "cell_type": "code",
   "execution_count": null,
   "metadata": {},
   "outputs": [],
   "source": []
  }
 ],
 "metadata": {
  "kernelspec": {
   "display_name": "Python 3",
   "language": "python",
   "name": "python3"
  },
  "language_info": {
   "codemirror_mode": {
    "name": "ipython",
    "version": 3
   },
   "file_extension": ".py",
   "mimetype": "text/x-python",
   "name": "python",
   "nbconvert_exporter": "python",
   "pygments_lexer": "ipython3",
   "version": "3.6.5"
  }
 },
 "nbformat": 4,
 "nbformat_minor": 1
}
